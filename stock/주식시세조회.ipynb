{
 "cells": [
  {
   "cell_type": "markdown",
   "id": "c58d5584",
   "metadata": {},
   "source": [
    "### JSON 라이브러리는 Python에서 JSON 데이터를 처리하기 위해 사용되며, 다음은 이 라이브러리에서 자주 사용되는 속성 및 메소드입니다:\n",
    "\n",
    "1. json.loads(s)\n",
    "* 설명: JSON 형식의 문자열을 Python 객체로 변환합니다. 주로 서버로부터 받은 데이터를 파이썬 객체로 디코딩할 때 사용합니다.\n",
    "* 예시: data = json.loads(json_string)\n",
    "2. json.dumps(obj)\n",
    "* 설명: Python 객체를 JSON 형식의 문자열로 변환합니다. 주로 Python 데이터를 JSON 형식으로 인코딩하여 서버에 전송할 때 사용합니다.\n",
    "* 예시: json_string = json.dumps(data)\n",
    "3. json.load(fp)\n",
    "* 설명: 파일 객체를 읽어서 Python 객체로 변환합니다. 파일에서 직접 JSON 데이터를 읽어 들일 때 사용합니다.\n",
    "* 예시:\n",
    "```python\n",
    "with open('data.json', 'r') as f:\n",
    "    data = json.load(f)\n",
    "```    \n",
    "4. json.dump(obj, fp)\n",
    "* 설명: Python 객체를 JSON 형식의 문자열로 변환하고, 이를 파일 객체에 쓰기 위해 사용합니다. Python 데이터를 파일에 JSON 형식으로 저장할 때 사용합니다.\n",
    "* 예시:\n",
    "```python\n",
    "Copy code\n",
    "with open('data.json', 'w') as f:\n",
    "    json.dump(data, f)\n",
    "```    \n",
    "5. 추가 속성 및 옵션:\n",
    "* indent: json.dumps 또는 json.dump 메소드에서 JSON 문자열을 보기 좋게 출력하기 위해 사용합니다. 예를 들어, indent=4는 4칸 들여쓰기를 의미합니다.\n",
    "* sort_keys: json.dumps 또는 json.dump 메소드에서 객체의 키를 정렬하여 JSON 문자열을 생성할지 여부를 결정합니다. sort_keys=True로 설정하면 키를 알파벳 순으로 정렬합니다.\n",
    "* ensure_ascii: 기본값은 True이며, 이 옵션을 False로 설정하면 결과 문자열에 유니코드 문자가 그대로 포함됩니다."
   ]
  },
  {
   "cell_type": "code",
   "execution_count": 248,
   "id": "0faebf63",
   "metadata": {},
   "outputs": [],
   "source": [
    "import requests\n",
    "import pandas as pd\n",
    "import json\n",
    "import math\n",
    "import time\n",
    "import matplotlib.pyplot as plt"
   ]
  },
  {
   "cell_type": "code",
   "execution_count": 301,
   "id": "e987b583",
   "metadata": {},
   "outputs": [],
   "source": [
    "# 그래프 그릴때 필수속성 (한글과 마이너스폰트 깨짐 방지)\n",
    "# 폰트설정\n",
    "plt.rc(\"font\", family='Malgun Gothic')\n",
    "\n",
    "# 마이너스폰트 설정\n",
    "plt.rc(\"axes\", unicode_minus=False)"
   ]
  },
  {
   "cell_type": "code",
   "execution_count": 210,
   "id": "65439731",
   "metadata": {},
   "outputs": [],
   "source": [
    "url = 'https://apis.data.go.kr/1160100/service/GetStockSecuritiesInfoService/getStockPriceInfo'"
   ]
  },
  {
   "cell_type": "code",
   "execution_count": 211,
   "id": "ac8a8201",
   "metadata": {},
   "outputs": [],
   "source": [
    "params = {\n",
    "    \n",
    "  \"serviceKey\" : \"CryKKi6HaVVnP0WXU4sIp8dcrZgn2wui0UPEU+eivronhsULZ8SFW3qxmqgGmyqgpj59gqzMmd8H+hWEzjcvBw==\",\n",
    "  \"numOfRows\" : 1,\n",
    "  \"pageNo\" : 1,\n",
    "  \"resultType\" : \"json\",\n",
    "  \"itmsNm\" : \"LG화학\",\n",
    "  \"beginBasDt\" : \"20200101\",\n",
    "  \"endBasDt\" : \"20241231\"\n",
    "    \n",
    "}"
   ]
  },
  {
   "cell_type": "code",
   "execution_count": 212,
   "id": "47ee9db4",
   "metadata": {},
   "outputs": [
    {
     "data": {
      "text/plain": [
       "200"
      ]
     },
     "execution_count": 212,
     "metadata": {},
     "output_type": "execute_result"
    }
   ],
   "source": [
    "res = requests.get(url,params=params)\n",
    "res.status_code"
   ]
  },
  {
   "cell_type": "code",
   "execution_count": 213,
   "id": "6c5ecf9f",
   "metadata": {},
   "outputs": [
    {
     "data": {
      "text/plain": [
       "'https://apis.data.go.kr/1160100/service/GetStockSecuritiesInfoService/getStockPriceInfo?serviceKey=CryKKi6HaVVnP0WXU4sIp8dcrZgn2wui0UPEU%2BeivronhsULZ8SFW3qxmqgGmyqgpj59gqzMmd8H%2BhWEzjcvBw%3D%3D&numOfRows=1&pageNo=1&resultType=json&itmsNm=LG%ED%99%94%ED%95%99&beginBasDt=20200101&endBasDt=20241231'"
      ]
     },
     "execution_count": 213,
     "metadata": {},
     "output_type": "execute_result"
    }
   ],
   "source": [
    "res.url"
   ]
  },
  {
   "cell_type": "code",
   "execution_count": 214,
   "id": "043469dc",
   "metadata": {},
   "outputs": [
    {
     "data": {
      "text/plain": [
       "'{\"response\":{\"header\":{\"resultCode\":\"00\",\"resultMsg\":\"NORMAL SERVICE.\"},\"body\":{\"numOfRows\":1,\"pageNo\":1,\"totalCount\":1051,\"items\":{\"item\":[{\"basDt\":\"20240403\",\"srtnCd\":\"051910\",\"isinCd\":\"KR7051910008\",\"itmsNm\":\"LG화학\",\"mrktCtg\":\"KOSPI\",\"clpr\":\"403000\",\"vs\":\"-21000\",\"fltRt\":\"-4.95\",\"mkp\":\"416000\",\"hipr\":\"418500\",\"lopr\":\"400500\",\"trqu\":\"479871\",\"trPrc\":\"194455220500\",\"lstgStCnt\":\"70592343\",\"mrktTotAmt\":\"28448714229000\"}]}}}}'"
      ]
     },
     "execution_count": 214,
     "metadata": {},
     "output_type": "execute_result"
    }
   ],
   "source": [
    "json_str = res.text\n",
    "json_str"
   ]
  },
  {
   "cell_type": "code",
   "execution_count": 215,
   "id": "32034685",
   "metadata": {},
   "outputs": [
    {
     "data": {
      "text/plain": [
       "pandas.core.frame.DataFrame"
      ]
     },
     "execution_count": 215,
     "metadata": {},
     "output_type": "execute_result"
    }
   ],
   "source": [
    "# json 포맷 문자열을 파이썬의 딕셔너리로 변환\n",
    "dictionary = json.loads(json_str)\n",
    "type(df)"
   ]
  },
  {
   "cell_type": "code",
   "execution_count": 216,
   "id": "8ed53187",
   "metadata": {},
   "outputs": [],
   "source": [
    "totalCount = dictionary['response']['body']['totalCount']"
   ]
  },
  {
   "cell_type": "code",
   "execution_count": 217,
   "id": "6c6264fe",
   "metadata": {},
   "outputs": [],
   "source": [
    "max_numOfRows = 1000 "
   ]
  },
  {
   "cell_type": "code",
   "execution_count": 218,
   "id": "caabe512",
   "metadata": {},
   "outputs": [
    {
     "data": {
      "text/plain": [
       "2"
      ]
     },
     "execution_count": 218,
     "metadata": {},
     "output_type": "execute_result"
    }
   ],
   "source": [
    "# http 요청 횟수\n",
    "request_cnt = math.ceil(totalCount / max_numOfRows)\n",
    "request_cnt"
   ]
  },
  {
   "cell_type": "code",
   "execution_count": 225,
   "id": "4c32e598",
   "metadata": {},
   "outputs": [],
   "source": [
    "def get_params (numOfRows, req_cnt):\n",
    "    params = {\n",
    "      \"serviceKey\" : \"CryKKi6HaVVnP0WXU4sIp8dcrZgn2wui0UPEU+eivronhsULZ8SFW3qxmqgGmyqgpj59gqzMmd8H+hWEzjcvBw==\",\n",
    "      \"numOfRows\" : numOfRows,\n",
    "      \"pageNo\" : req_cnt,\n",
    "      \"resultType\" : \"json\",\n",
    "      \"itmsNm\" : \"LG화학\",\n",
    "      \"beginBasDt\" : \"20200101\",\n",
    "      \"endBasDt\" : \"20241231\"\n",
    "    }\n",
    "    print(params)\n",
    "    return params"
   ]
  },
  {
   "cell_type": "code",
   "execution_count": 233,
   "id": "f9189398",
   "metadata": {},
   "outputs": [
    {
     "name": "stdout",
     "output_type": "stream",
     "text": [
      "{'serviceKey': 'CryKKi6HaVVnP0WXU4sIp8dcrZgn2wui0UPEU+eivronhsULZ8SFW3qxmqgGmyqgpj59gqzMmd8H+hWEzjcvBw==', 'numOfRows': 1000, 'pageNo': 1, 'resultType': 'json', 'itmsNm': 'LG화학', 'beginBasDt': '20200101', 'endBasDt': '20241231'}\n",
      "https://apis.data.go.kr/1160100/service/GetStockSecuritiesInfoService/getStockPriceInfo?serviceKey=CryKKi6HaVVnP0WXU4sIp8dcrZgn2wui0UPEU%2BeivronhsULZ8SFW3qxmqgGmyqgpj59gqzMmd8H%2BhWEzjcvBw%3D%3D&numOfRows=1000&pageNo=1&resultType=json&itmsNm=LG%ED%99%94%ED%95%99&beginBasDt=20200101&endBasDt=20241231\n",
      "{'serviceKey': 'CryKKi6HaVVnP0WXU4sIp8dcrZgn2wui0UPEU+eivronhsULZ8SFW3qxmqgGmyqgpj59gqzMmd8H+hWEzjcvBw==', 'numOfRows': 1000, 'pageNo': 2, 'resultType': 'json', 'itmsNm': 'LG화학', 'beginBasDt': '20200101', 'endBasDt': '20241231'}\n",
      "https://apis.data.go.kr/1160100/service/GetStockSecuritiesInfoService/getStockPriceInfo?serviceKey=CryKKi6HaVVnP0WXU4sIp8dcrZgn2wui0UPEU%2BeivronhsULZ8SFW3qxmqgGmyqgpj59gqzMmd8H%2BhWEzjcvBw%3D%3D&numOfRows=1000&pageNo=2&resultType=json&itmsNm=LG%ED%99%94%ED%95%99&beginBasDt=20200101&endBasDt=20241231\n"
     ]
    }
   ],
   "source": [
    "df = pd.DataFrame()\n",
    "for i in range(1,request_cnt+1) :\n",
    "    res = requests.get(url,params=get_params(max_numOfRows,i))\n",
    "    print(res.url)\n",
    "    time.sleep(5)\n",
    "    if res.status_code == 200 :\n",
    "        # json 포맷 문자열을 파이썬의 딕셔너리로 변환\n",
    "        dictionary = json.loads(res.text)\n",
    "        \n",
    "        # 'item' 키에 해당하는 데이터를 데이터프레임으로 변환\n",
    "        df_tmp = pd.json_normalize(dictionary['response']['body']['items']['item'])\n",
    "#         display(df_tmp)\n",
    "        df = pd.concat([df,df_tmp])\n",
    "    else :        \n",
    "        print('가져오기 실패')\n",
    "        break"
   ]
  },
  {
   "cell_type": "code",
   "execution_count": 234,
   "id": "199cef07",
   "metadata": {},
   "outputs": [
    {
     "data": {
      "text/plain": [
       "(1051, 15)"
      ]
     },
     "execution_count": 234,
     "metadata": {},
     "output_type": "execute_result"
    }
   ],
   "source": [
    "df.shape"
   ]
  },
  {
   "cell_type": "code",
   "execution_count": 284,
   "id": "02249ad7",
   "metadata": {},
   "outputs": [],
   "source": [
    "df.to_excel('LG화학주가추세_2020101_20241231.xlsx', index=False)"
   ]
  },
  {
   "cell_type": "code",
   "execution_count": 285,
   "id": "de8d4251",
   "metadata": {},
   "outputs": [],
   "source": [
    "lg_stock_info = pd.read_excel('LG화학주가추세_2020101_20241231.xlsx')"
   ]
  },
  {
   "cell_type": "code",
   "execution_count": 286,
   "id": "a4c4317d",
   "metadata": {},
   "outputs": [
    {
     "data": {
      "text/html": [
       "<div>\n",
       "<style scoped>\n",
       "    .dataframe tbody tr th:only-of-type {\n",
       "        vertical-align: middle;\n",
       "    }\n",
       "\n",
       "    .dataframe tbody tr th {\n",
       "        vertical-align: top;\n",
       "    }\n",
       "\n",
       "    .dataframe thead th {\n",
       "        text-align: right;\n",
       "    }\n",
       "</style>\n",
       "<table border=\"1\" class=\"dataframe\">\n",
       "  <thead>\n",
       "    <tr style=\"text-align: right;\">\n",
       "      <th></th>\n",
       "      <th>basDt</th>\n",
       "      <th>srtnCd</th>\n",
       "      <th>isinCd</th>\n",
       "      <th>itmsNm</th>\n",
       "      <th>mrktCtg</th>\n",
       "      <th>clpr</th>\n",
       "      <th>vs</th>\n",
       "      <th>fltRt</th>\n",
       "      <th>mkp</th>\n",
       "      <th>hipr</th>\n",
       "      <th>lopr</th>\n",
       "      <th>trqu</th>\n",
       "      <th>trPrc</th>\n",
       "      <th>lstgStCnt</th>\n",
       "      <th>mrktTotAmt</th>\n",
       "    </tr>\n",
       "  </thead>\n",
       "  <tbody>\n",
       "    <tr>\n",
       "      <th>0</th>\n",
       "      <td>20240403</td>\n",
       "      <td>51910</td>\n",
       "      <td>KR7051910008</td>\n",
       "      <td>LG화학</td>\n",
       "      <td>KOSPI</td>\n",
       "      <td>403000</td>\n",
       "      <td>-21000</td>\n",
       "      <td>-4.95</td>\n",
       "      <td>416000</td>\n",
       "      <td>418500</td>\n",
       "      <td>400500</td>\n",
       "      <td>479871</td>\n",
       "      <td>194455220500</td>\n",
       "      <td>70592343</td>\n",
       "      <td>28448714229000</td>\n",
       "    </tr>\n",
       "  </tbody>\n",
       "</table>\n",
       "</div>"
      ],
      "text/plain": [
       "      basDt  srtnCd        isinCd itmsNm mrktCtg    clpr     vs  fltRt  \\\n",
       "0  20240403   51910  KR7051910008   LG화학   KOSPI  403000 -21000  -4.95   \n",
       "\n",
       "      mkp    hipr    lopr    trqu         trPrc  lstgStCnt      mrktTotAmt  \n",
       "0  416000  418500  400500  479871  194455220500   70592343  28448714229000  "
      ]
     },
     "execution_count": 286,
     "metadata": {},
     "output_type": "execute_result"
    }
   ],
   "source": [
    "lg_stock_info.head(1)"
   ]
  },
  {
   "cell_type": "code",
   "execution_count": 287,
   "id": "0e6a5870",
   "metadata": {},
   "outputs": [],
   "source": [
    "lg_stock_info['basDt'] = lg_stock_info['basDt'].map(lambda x: f'{str(x)[:4]}-{str(x)[4:6]}-{str(x)[6:]}')"
   ]
  },
  {
   "cell_type": "code",
   "execution_count": 288,
   "id": "d143f54b",
   "metadata": {},
   "outputs": [
    {
     "name": "stdout",
     "output_type": "stream",
     "text": [
      "<class 'pandas.core.frame.DataFrame'>\n",
      "RangeIndex: 1051 entries, 0 to 1050\n",
      "Data columns (total 15 columns):\n",
      " #   Column      Non-Null Count  Dtype  \n",
      "---  ------      --------------  -----  \n",
      " 0   basDt       1051 non-null   object \n",
      " 1   srtnCd      1051 non-null   int64  \n",
      " 2   isinCd      1051 non-null   object \n",
      " 3   itmsNm      1051 non-null   object \n",
      " 4   mrktCtg     1051 non-null   object \n",
      " 5   clpr        1051 non-null   int64  \n",
      " 6   vs          1051 non-null   int64  \n",
      " 7   fltRt       1051 non-null   float64\n",
      " 8   mkp         1051 non-null   int64  \n",
      " 9   hipr        1051 non-null   int64  \n",
      " 10  lopr        1051 non-null   int64  \n",
      " 11  trqu        1051 non-null   int64  \n",
      " 12  trPrc       1051 non-null   int64  \n",
      " 13  lstgStCnt   1051 non-null   int64  \n",
      " 14  mrktTotAmt  1051 non-null   int64  \n",
      "dtypes: float64(1), int64(10), object(4)\n",
      "memory usage: 123.3+ KB\n"
     ]
    }
   ],
   "source": [
    "lg_stock_info.info()"
   ]
  },
  {
   "cell_type": "code",
   "execution_count": 289,
   "id": "12f535d0",
   "metadata": {},
   "outputs": [],
   "source": [
    "lg_stock_info['basDt'] = pd.to_datetime(lg_stock_info['basDt'])       "
   ]
  },
  {
   "cell_type": "code",
   "execution_count": 290,
   "id": "6877683e",
   "metadata": {},
   "outputs": [
    {
     "data": {
      "text/html": [
       "<div>\n",
       "<style scoped>\n",
       "    .dataframe tbody tr th:only-of-type {\n",
       "        vertical-align: middle;\n",
       "    }\n",
       "\n",
       "    .dataframe tbody tr th {\n",
       "        vertical-align: top;\n",
       "    }\n",
       "\n",
       "    .dataframe thead th {\n",
       "        text-align: right;\n",
       "    }\n",
       "</style>\n",
       "<table border=\"1\" class=\"dataframe\">\n",
       "  <thead>\n",
       "    <tr style=\"text-align: right;\">\n",
       "      <th></th>\n",
       "      <th>basDt</th>\n",
       "      <th>srtnCd</th>\n",
       "      <th>isinCd</th>\n",
       "      <th>itmsNm</th>\n",
       "      <th>mrktCtg</th>\n",
       "      <th>clpr</th>\n",
       "      <th>vs</th>\n",
       "      <th>fltRt</th>\n",
       "      <th>mkp</th>\n",
       "      <th>hipr</th>\n",
       "      <th>lopr</th>\n",
       "      <th>trqu</th>\n",
       "      <th>trPrc</th>\n",
       "      <th>lstgStCnt</th>\n",
       "      <th>mrktTotAmt</th>\n",
       "    </tr>\n",
       "  </thead>\n",
       "  <tbody>\n",
       "    <tr>\n",
       "      <th>0</th>\n",
       "      <td>2024-04-03</td>\n",
       "      <td>51910</td>\n",
       "      <td>KR7051910008</td>\n",
       "      <td>LG화학</td>\n",
       "      <td>KOSPI</td>\n",
       "      <td>403000</td>\n",
       "      <td>-21000</td>\n",
       "      <td>-4.95</td>\n",
       "      <td>416000</td>\n",
       "      <td>418500</td>\n",
       "      <td>400500</td>\n",
       "      <td>479871</td>\n",
       "      <td>194455220500</td>\n",
       "      <td>70592343</td>\n",
       "      <td>28448714229000</td>\n",
       "    </tr>\n",
       "  </tbody>\n",
       "</table>\n",
       "</div>"
      ],
      "text/plain": [
       "       basDt  srtnCd        isinCd itmsNm mrktCtg    clpr     vs  fltRt  \\\n",
       "0 2024-04-03   51910  KR7051910008   LG화학   KOSPI  403000 -21000  -4.95   \n",
       "\n",
       "      mkp    hipr    lopr    trqu         trPrc  lstgStCnt      mrktTotAmt  \n",
       "0  416000  418500  400500  479871  194455220500   70592343  28448714229000  "
      ]
     },
     "execution_count": 290,
     "metadata": {},
     "output_type": "execute_result"
    }
   ],
   "source": [
    "lg_stock_info.head(1)"
   ]
  },
  {
   "cell_type": "code",
   "execution_count": 291,
   "id": "0868068f",
   "metadata": {},
   "outputs": [
    {
     "data": {
      "text/plain": [
       "basDt         datetime64[ns]\n",
       "srtnCd                 int64\n",
       "isinCd                object\n",
       "itmsNm                object\n",
       "mrktCtg               object\n",
       "clpr                   int64\n",
       "vs                     int64\n",
       "fltRt                float64\n",
       "mkp                    int64\n",
       "hipr                   int64\n",
       "lopr                   int64\n",
       "trqu                   int64\n",
       "trPrc                  int64\n",
       "lstgStCnt              int64\n",
       "mrktTotAmt             int64\n",
       "dtype: object"
      ]
     },
     "execution_count": 291,
     "metadata": {},
     "output_type": "execute_result"
    }
   ],
   "source": [
    "lg_stock_info.dtypes"
   ]
  },
  {
   "cell_type": "code",
   "execution_count": 292,
   "id": "2d780234",
   "metadata": {},
   "outputs": [
    {
     "data": {
      "text/html": [
       "<div>\n",
       "<style scoped>\n",
       "    .dataframe tbody tr th:only-of-type {\n",
       "        vertical-align: middle;\n",
       "    }\n",
       "\n",
       "    .dataframe tbody tr th {\n",
       "        vertical-align: top;\n",
       "    }\n",
       "\n",
       "    .dataframe thead th {\n",
       "        text-align: right;\n",
       "    }\n",
       "</style>\n",
       "<table border=\"1\" class=\"dataframe\">\n",
       "  <thead>\n",
       "    <tr style=\"text-align: right;\">\n",
       "      <th></th>\n",
       "      <th>basDt</th>\n",
       "      <th>srtnCd</th>\n",
       "      <th>isinCd</th>\n",
       "      <th>itmsNm</th>\n",
       "      <th>mrktCtg</th>\n",
       "      <th>clpr</th>\n",
       "      <th>vs</th>\n",
       "      <th>fltRt</th>\n",
       "      <th>mkp</th>\n",
       "      <th>hipr</th>\n",
       "      <th>lopr</th>\n",
       "      <th>trqu</th>\n",
       "      <th>trPrc</th>\n",
       "      <th>lstgStCnt</th>\n",
       "      <th>mrktTotAmt</th>\n",
       "    </tr>\n",
       "  </thead>\n",
       "  <tbody>\n",
       "    <tr>\n",
       "      <th>0</th>\n",
       "      <td>2024-04-03</td>\n",
       "      <td>51910</td>\n",
       "      <td>KR7051910008</td>\n",
       "      <td>LG화학</td>\n",
       "      <td>KOSPI</td>\n",
       "      <td>403000</td>\n",
       "      <td>-21000</td>\n",
       "      <td>-4.95</td>\n",
       "      <td>416000</td>\n",
       "      <td>418500</td>\n",
       "      <td>400500</td>\n",
       "      <td>479871</td>\n",
       "      <td>194455220500</td>\n",
       "      <td>70592343</td>\n",
       "      <td>28448714229000</td>\n",
       "    </tr>\n",
       "  </tbody>\n",
       "</table>\n",
       "</div>"
      ],
      "text/plain": [
       "       basDt  srtnCd        isinCd itmsNm mrktCtg    clpr     vs  fltRt  \\\n",
       "0 2024-04-03   51910  KR7051910008   LG화학   KOSPI  403000 -21000  -4.95   \n",
       "\n",
       "      mkp    hipr    lopr    trqu         trPrc  lstgStCnt      mrktTotAmt  \n",
       "0  416000  418500  400500  479871  194455220500   70592343  28448714229000  "
      ]
     },
     "execution_count": 292,
     "metadata": {},
     "output_type": "execute_result"
    }
   ],
   "source": [
    "lg_stock_info.head(1)"
   ]
  },
  {
   "cell_type": "code",
   "execution_count": 300,
   "id": "6100365d",
   "metadata": {},
   "outputs": [
    {
     "data": {
      "image/png": "[encoded data removed]",
      "text/plain": [
       "<Figure size 1000x600 with 1 Axes>"
      ]
     },
     "metadata": {},
     "output_type": "display_data"
    }
   ],
   "source": [
    "plt.figure(figsize=(10,6))\n",
    "plt.plot(lg_stock_info['basDt'],lg_stock_info['clpr'])\n",
    "plt.title('LG화학 일별 종가 변동')\n",
    "plt.xlabel('종가')\n",
    "plt.ylabel('날짜',rotation='horizontal')\n",
    "plt.xticks(rotation=45)\n",
    "plt.grid(True)\n",
    "plt.show()"
   ]
  },
  {
   "cell_type": "code",
   "execution_count": null,
   "id": "5873d573",
   "metadata": {},
   "outputs": [],
   "source": []
  }
 ],
 "metadata": {
  "kernelspec": {
   "display_name": "Python 3 (ipykernel)",
   "language": "python",
   "name": "python3"
  },
  "language_info": {
   "codemirror_mode": {
    "name": "ipython",
    "version": 3
   },
   "file_extension": ".py",
   "mimetype": "text/x-python",
   "name": "python",
   "nbconvert_exporter": "python",
   "pygments_lexer": "ipython3",
   "version": "3.11.5"
  },
  "toc": {
   "base_numbering": 1,
   "nav_menu": {},
   "number_sections": true,
   "sideBar": true,
   "skip_h1_title": false,
   "title_cell": "Table of Contents",
   "title_sidebar": "Contents",
   "toc_cell": false,
   "toc_position": {},
   "toc_section_display": true,
   "toc_window_display": false
  },
  "varInspector": {
   "cols": {
    "lenName": 16,
    "lenType": 16,
    "lenVar": 40
   },
   "kernels_config": {
    "python": {
     "delete_cmd_postfix": "",
     "delete_cmd_prefix": "del ",
     "library": "var_list.py",
     "varRefreshCmd": "print(var_dic_list())"
    },
    "r": {
     "delete_cmd_postfix": ") ",
     "delete_cmd_prefix": "rm(",
     "library": "var_list.r",
     "varRefreshCmd": "cat(var_dic_list()) "
    }
   },
   "types_to_exclude": [
    "module",
    "function",
    "builtin_function_or_method",
    "instance",
    "_Feature"
   ],
   "window_display": false
  }
 },
 "nbformat": 4,
 "nbformat_minor": 5
}
