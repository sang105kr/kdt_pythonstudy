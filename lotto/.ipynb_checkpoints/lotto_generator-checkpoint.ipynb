{
 "cells": [
  {
   "cell_type": "code",
   "execution_count": 119,
   "id": "8dadcb55",
   "metadata": {},
   "outputs": [],
   "source": [
    "# selenium 라이브러리에서 webdriver 모듈 임포트, 웹 브라우저를 자동으로 제어하기 위한 기능을 제공\n",
    "from selenium import webdriver\n",
    "# 크롬 웹드라이버를 위한 서비스 객체를 사용하기 위해 Service 모듈 임포트\n",
    "from selenium.webdriver.chrome.service import Service\n",
    "# 크롬 드라이버의 자동 업데이트를 위해 webdriver_manager에서 ChromeDriverManager를 임포트\n",
    "from webdriver_manager.chrome import ChromeDriverManager\n",
    "# 크롬 옵션을 설정하기 위한 Options 모듈을 임포트 일반적으로 브라우저의 특정 옵션을 설정할 때 사용\n",
    "from selenium.webdriver.chrome.options import Options\n",
    "# html요소 접근\n",
    "from selenium.webdriver.common.by import By\n",
    "from selenium.webdriver.common.keys import Keys\n",
    "\n",
    "import pandas as pd\n",
    "from bs4 import BeautifulSoup\n",
    "import pyautogui\n",
    "import time\n",
    "\n",
    "# 크롬 브라우저 꺼짐 방지\n",
    "chrome_options = Options()\n",
    "chrome_options.add_experimental_option(\"detach\",True)\n",
    "# 불필요한 에레 메세지 제거\n",
    "chrome_options.add_experimental_option(\"excludeSwitches\",[\"enable-logging\"])\n",
    "\n"
   ]
  },
  {
   "cell_type": "code",
   "execution_count": 120,
   "id": "519f0385",
   "metadata": {},
   "outputs": [],
   "source": [
    "# ChromeDriverManager를 사용해 버전에 맞는 웹드라이버를 다운로드하여 해당 경로를 셀레니움에 전달\n",
    "driver = webdriver.Chrome(service=Service(ChromeDriverManager().install()), options=chrome_options)\n",
    "# 웹페이지가 로딩될대까지 5초대기\n",
    "driver.implicitly_wait(5)\n",
    "# 브라우저 크기 최대화\n",
    "driver.maximize_window()"
   ]
  },
  {
   "cell_type": "code",
   "execution_count": 121,
   "id": "68de2f3b",
   "metadata": {},
   "outputs": [],
   "source": [
    "url = 'https://dhlottery.co.kr/gameResult.do?method=byWin'\n",
    "driver.get(url)"
   ]
  },
  {
   "cell_type": "code",
   "execution_count": 122,
   "id": "12c98ac9",
   "metadata": {},
   "outputs": [],
   "source": [
    "# 첫회차 선택\n",
    "start = driver.find_element(By.CSS_SELECTOR,'#drwNoStart')\n",
    "start.click()\n",
    "time.sleep(1)\n",
    "pyautogui.press('END') #ENd누름\n",
    "time.sleep(1)\n",
    "start.click()\n"
   ]
  },
  {
   "cell_type": "code",
   "execution_count": 123,
   "id": "b4159654",
   "metadata": {},
   "outputs": [],
   "source": [
    "# 마지막회차 선택\n",
    "start = driver.find_element(By.CSS_SELECTOR,'#drwNoEnd')\n",
    "start.click()\n",
    "time.sleep(1)\n",
    "pyautogui.press('HOME') #ENd누름\n",
    "time.sleep(1)\n",
    "start.click()"
   ]
  },
  {
   "cell_type": "code",
   "execution_count": 124,
   "id": "cc2c1fcd",
   "metadata": {},
   "outputs": [],
   "source": [
    "# 다운로드\n",
    "downloadBtn = driver.find_element(By.CSS_SELECTOR,'#exelBtn')\n",
    "downloadBtn.click()\n",
    "time.sleep(2)"
   ]
  },
  {
   "cell_type": "code",
   "execution_count": 125,
   "id": "81cebf05",
   "metadata": {},
   "outputs": [],
   "source": [
    "# 엑셀 파일 경로\n",
    "xls_file_path = 'C:\\\\Users\\\\kh502\\\\Downloads\\\\excel.xls'"
   ]
  },
  {
   "cell_type": "code",
   "execution_count": 126,
   "id": "bf28b00f",
   "metadata": {},
   "outputs": [],
   "source": [
    "with open(xls_file_path,'r',encoding='EUC-KR') as file:\n",
    "    html_content = file.read()"
   ]
  },
  {
   "cell_type": "code",
   "execution_count": 127,
   "id": "3ed03909",
   "metadata": {},
   "outputs": [],
   "source": [
    "soup  = BeautifulSoup(html_content,'html.parser')"
   ]
  },
  {
   "cell_type": "code",
   "execution_count": 128,
   "id": "4fef2131",
   "metadata": {},
   "outputs": [],
   "source": [
    "# str(soup) DOM객체를 순수 HTML문자열로 변환\n",
    "html_str = str(soup)\n",
    "# pd.read_html : html문자열 중에 모든 table 요소를 찾아 데이터 프레임으로 가져와 리스트에 넣어준다.  \n",
    "tables = pd.read_html(str(soup))"
   ]
  },
  {
   "cell_type": "code",
   "execution_count": 129,
   "id": "518992b1",
   "metadata": {},
   "outputs": [],
   "source": [
    "df = tables[1].iloc[2:]\n",
    "df.columns = tables[1].iloc[1]\n",
    "df.to_excel('D:\\\\kdt\\\\pythonstudy\\\\lotto\\\\lotto.xlsx', index=False)"
   ]
  },
  {
   "cell_type": "code",
   "execution_count": 130,
   "id": "37809237",
   "metadata": {},
   "outputs": [
    {
     "data": {
      "text/plain": [
       "(1113, 20)"
      ]
     },
     "execution_count": 130,
     "metadata": {},
     "output_type": "execute_result"
    }
   ],
   "source": [
    "df.shape"
   ]
  },
  {
   "cell_type": "code",
   "execution_count": 131,
   "id": "054155e2",
   "metadata": {},
   "outputs": [],
   "source": [
    "# 현재 포커스된 창만 닫기\n",
    "# driver.close()\n",
    "# 웹드라이버와 함께 연결된 모든 창을 닫고 셀레니엄 세션을 완전히 종료!\n",
    "driver.quit()"
   ]
  }
 ],
 "metadata": {
  "kernelspec": {
   "display_name": "Python 3 (ipykernel)",
   "language": "python",
   "name": "python3"
  },
  "language_info": {
   "codemirror_mode": {
    "name": "ipython",
    "version": 3
   },
   "file_extension": ".py",
   "mimetype": "text/x-python",
   "name": "python",
   "nbconvert_exporter": "python",
   "pygments_lexer": "ipython3",
   "version": "3.11.5"
  },
  "toc": {
   "base_numbering": 1,
   "nav_menu": {},
   "number_sections": true,
   "sideBar": true,
   "skip_h1_title": false,
   "title_cell": "Table of Contents",
   "title_sidebar": "Contents",
   "toc_cell": false,
   "toc_position": {},
   "toc_section_display": true,
   "toc_window_display": false
  },
  "varInspector": {
   "cols": {
    "lenName": 16,
    "lenType": 16,
    "lenVar": 40
   },
   "kernels_config": {
    "python": {
     "delete_cmd_postfix": "",
     "delete_cmd_prefix": "del ",
     "library": "var_list.py",
     "varRefreshCmd": "print(var_dic_list())"
    },
    "r": {
     "delete_cmd_postfix": ") ",
     "delete_cmd_prefix": "rm(",
     "library": "var_list.r",
     "varRefreshCmd": "cat(var_dic_list()) "
    }
   },
   "types_to_exclude": [
    "module",
    "function",
    "builtin_function_or_method",
    "instance",
    "_Feature"
   ],
   "window_display": false
  }
 },
 "nbformat": 4,
 "nbformat_minor": 5
}
