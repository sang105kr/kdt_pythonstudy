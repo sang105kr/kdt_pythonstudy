{
 "cells": [
  {
   "cell_type": "code",
   "execution_count": 185,
   "id": "a405d79c",
   "metadata": {},
   "outputs": [],
   "source": [
    "# selenium 라이브러리에서 webdriver 모듈 임포트, 웹 브라우저를 자동으로 제어하기 위한 기능을 제공\n",
    "from selenium import webdriver\n",
    "# 크롬 웹드라이버를 위한 서비스 객체를 사용하기 위해 Service 모듈 임포트\n",
    "from selenium.webdriver.chrome.service import Service\n",
    "# 크롬 드라이버의 자동 업데이트를 위해 webdriver_manager에서 ChromeDriverManager를 임포트\n",
    "from webdriver_manager.chrome import ChromeDriverManager\n",
    "# 크롬 옵션을 설정하기 위한 Options 모듈을 임포트 일반적으로 브라우저의 특정 옵션을 설정할 때 사용\n",
    "from selenium.webdriver.chrome.options import Options\n",
    "# html요소 접근\n",
    "from selenium.webdriver.common.by import By\n",
    "from selenium.webdriver.common.keys import Keys\n",
    "\n",
    "import pandas as pd\n",
    "from bs4 import BeautifulSoup\n",
    "import pyautogui\n",
    "import time\n",
    "\n",
    "# 크롬 브라우저 꺼짐 방지\n",
    "chrome_options = Options()\n",
    "chrome_options.add_experimental_option(\"detach\",True)\n",
    "# 불필요한 에레 메세지 제거\n",
    "chrome_options.add_experimental_option(\"excludeSwitches\",[\"enable-logging\"])\n",
    "\n"
   ]
  },
  {
   "cell_type": "code",
   "execution_count": 186,
   "id": "a932d48f",
   "metadata": {},
   "outputs": [],
   "source": [
    "# ChromeDriverManager를 사용해 버전에 맞는 웹드라이버를 다운로드하여 해당 경로를 셀레니움에 전달\n",
    "driver = webdriver.Chrome(service=Service(ChromeDriverManager().install()), options=chrome_options)\n",
    "# 웹페이지가 로딩될대까지 5초대기\n",
    "driver.implicitly_wait(5)\n",
    "# 브라우저 크기 최대화\n",
    "driver.maximize_window()"
   ]
  },
  {
   "cell_type": "code",
   "execution_count": 187,
   "id": "63b33f10",
   "metadata": {},
   "outputs": [],
   "source": [
    "url = 'https://dhlottery.co.kr/gameResult.do?method=byWin'\n",
    "driver.get(url)"
   ]
  },
  {
   "cell_type": "code",
   "execution_count": 188,
   "id": "4dddee27",
   "metadata": {},
   "outputs": [],
   "source": [
    "# 첫회차 선택\n",
    "start = driver.find_element(By.CSS_SELECTOR,'#drwNoStart')\n",
    "start.click()\n",
    "time.sleep(1)\n",
    "pyautogui.press('END') #ENd누름\n",
    "time.sleep(1)\n",
    "start.click()\n"
   ]
  },
  {
   "cell_type": "code",
   "execution_count": 189,
   "id": "3ac580cd",
   "metadata": {},
   "outputs": [],
   "source": [
    "# 마지막회차 선택\n",
    "start = driver.find_element(By.CSS_SELECTOR,'#drwNoEnd')\n",
    "start.click()\n",
    "time.sleep(1)\n",
    "pyautogui.press('HOME') #ENd누름\n",
    "time.sleep(1)\n",
    "start.click()"
   ]
  },
  {
   "cell_type": "code",
   "execution_count": 190,
   "id": "52ed301d",
   "metadata": {},
   "outputs": [],
   "source": [
    "# 다운로드\n",
    "downloadBtn = driver.find_element(By.CSS_SELECTOR,'#exelBtn')\n",
    "downloadBtn.click()\n",
    "time.sleep(2)"
   ]
  },
  {
   "cell_type": "code",
   "execution_count": 191,
   "id": "658f395e",
   "metadata": {},
   "outputs": [],
   "source": [
    "# 엑셀 파일 경로\n",
    "xls_file_path = 'C:\\\\Users\\\\kh502\\\\Downloads\\\\excel.xls'"
   ]
  },
  {
   "cell_type": "code",
   "execution_count": 192,
   "id": "18d72e50",
   "metadata": {},
   "outputs": [],
   "source": [
    "with open(xls_file_path,'r',encoding='EUC-KR') as file:\n",
    "    html_content = file.read()"
   ]
  },
  {
   "cell_type": "code",
   "execution_count": 193,
   "id": "2a4b42e2",
   "metadata": {},
   "outputs": [],
   "source": [
    "soup  = BeautifulSoup(html_content,'html.parser')"
   ]
  },
  {
   "cell_type": "code",
   "execution_count": 194,
   "id": "6451f138",
   "metadata": {},
   "outputs": [],
   "source": [
    "# str(soup) DOM객체를 순수 HTML문자열로 변환\n",
    "html_str = str(soup)\n",
    "# pd.read_html : html문자열 중에 모든 table 요소를 찾아 데이터 프레임으로 가져와 리스트에 넣어준다.  \n",
    "tables = pd.read_html(str(soup))"
   ]
  },
  {
   "cell_type": "code",
   "execution_count": 195,
   "id": "cd10a136",
   "metadata": {},
   "outputs": [],
   "source": [
    "df = tables[1].iloc[2:]\n",
    "df.columns = tables[1].iloc[1]\n",
    "df.to_excel('D:\\\\kdt\\\\pythonstudy\\\\lotto\\\\lotto.xlsx', index=False)"
   ]
  },
  {
   "cell_type": "code",
   "execution_count": 196,
   "id": "1f6df40a",
   "metadata": {},
   "outputs": [
    {
     "data": {
      "text/plain": [
       "(1113, 20)"
      ]
     },
     "execution_count": 196,
     "metadata": {},
     "output_type": "execute_result"
    }
   ],
   "source": [
    "df.shape"
   ]
  },
  {
   "cell_type": "code",
   "execution_count": 197,
   "id": "e96969a3",
   "metadata": {},
   "outputs": [],
   "source": [
    "# 현재 포커스된 창만 닫기\n",
    "# driver.close()\n",
    "# 웹드라이버와 함께 연결된 모든 창을 닫고 셀레니엄 세션을 완전히 종료!\n",
    "driver.quit()"
   ]
  },
  {
   "cell_type": "code",
   "execution_count": 198,
   "id": "ade3477b",
   "metadata": {},
   "outputs": [],
   "source": [
    "df = pd.read_excel('D:\\\\kdt\\\\pythonstudy\\\\lotto\\\\lotto.xlsx')\n"
   ]
  },
  {
   "cell_type": "code",
   "execution_count": 199,
   "id": "973f9dc1",
   "metadata": {},
   "outputs": [
    {
     "data": {
      "text/html": [
       "<div>\n",
       "<style scoped>\n",
       "    .dataframe tbody tr th:only-of-type {\n",
       "        vertical-align: middle;\n",
       "    }\n",
       "\n",
       "    .dataframe tbody tr th {\n",
       "        vertical-align: top;\n",
       "    }\n",
       "\n",
       "    .dataframe thead th {\n",
       "        text-align: right;\n",
       "    }\n",
       "</style>\n",
       "<table border=\"1\" class=\"dataframe\">\n",
       "  <thead>\n",
       "    <tr style=\"text-align: right;\">\n",
       "      <th></th>\n",
       "      <th>년도</th>\n",
       "      <th>회차</th>\n",
       "      <th>추첨일</th>\n",
       "      <th>당첨자수</th>\n",
       "      <th>당첨금액</th>\n",
       "      <th>당첨자수.1</th>\n",
       "      <th>당첨금액.1</th>\n",
       "      <th>당첨자수.2</th>\n",
       "      <th>당첨금액.2</th>\n",
       "      <th>당첨자수.3</th>\n",
       "      <th>당첨금액.3</th>\n",
       "      <th>당첨자수.4</th>\n",
       "      <th>당첨금액.4</th>\n",
       "      <th>1</th>\n",
       "      <th>2</th>\n",
       "      <th>3</th>\n",
       "      <th>4</th>\n",
       "      <th>5</th>\n",
       "      <th>6</th>\n",
       "      <th>보너스</th>\n",
       "    </tr>\n",
       "  </thead>\n",
       "  <tbody>\n",
       "    <tr>\n",
       "      <th>0</th>\n",
       "      <td>2024</td>\n",
       "      <td>1113</td>\n",
       "      <td>2024.03.30</td>\n",
       "      <td>14</td>\n",
       "      <td>1,987,426,822원</td>\n",
       "      <td>57</td>\n",
       "      <td>81,356,654원</td>\n",
       "      <td>2936</td>\n",
       "      <td>1,579,472원</td>\n",
       "      <td>146997</td>\n",
       "      <td>50,000원</td>\n",
       "      <td>2444535</td>\n",
       "      <td>5,000원</td>\n",
       "      <td>11</td>\n",
       "      <td>13</td>\n",
       "      <td>20</td>\n",
       "      <td>21</td>\n",
       "      <td>32</td>\n",
       "      <td>44</td>\n",
       "      <td>8</td>\n",
       "    </tr>\n",
       "  </tbody>\n",
       "</table>\n",
       "</div>"
      ],
      "text/plain": [
       "     년도    회차         추첨일  당첨자수            당첨금액  당첨자수.1       당첨금액.1  당첨자수.2  \\\n",
       "0  2024  1113  2024.03.30    14  1,987,426,822원      57  81,356,654원    2936   \n",
       "\n",
       "       당첨금액.2  당첨자수.3   당첨금액.3   당첨자수.4  당첨금액.4   1   2   3   4   5   6  보너스  \n",
       "0  1,579,472원  146997  50,000원  2444535  5,000원  11  13  20  21  32  44    8  "
      ]
     },
     "execution_count": 199,
     "metadata": {},
     "output_type": "execute_result"
    }
   ],
   "source": [
    "df.head(1)"
   ]
  },
  {
   "cell_type": "code",
   "execution_count": 200,
   "id": "91372f1e",
   "metadata": {},
   "outputs": [],
   "source": [
    "# 과거 당첨 로또 번호 6자리 목록만 추출\n",
    "past_lotto_number_list = df.iloc[:,-7:-1]"
   ]
  },
  {
   "cell_type": "code",
   "execution_count": 201,
   "id": "bfd0c573",
   "metadata": {},
   "outputs": [],
   "source": [
    "# 각 열의 가중치 계산 \n",
    "weights = [ past_lotto_number_list[str(i)].value_counts(normalize=True) for i in range(1,6+1) ]\n",
    "# weights"
   ]
  },
  {
   "cell_type": "code",
   "execution_count": 202,
   "id": "b0d6f432",
   "metadata": {},
   "outputs": [],
   "source": [
    "def generate_numbers(past_lotto_number_list, weights) :\n",
    "    dupCnt = 0\n",
    "    \n",
    "    while True:\n",
    "        # 가중치를 반영한 로또 번호생성\n",
    "        numbers = [ np.random.choice(i.index, p=i.values)  for i in weights]\n",
    "\n",
    "        # 과거 당첨번호와 중복되는지 체크\n",
    "        if not any((past_lotto_number_list == numbers).all(axis=1)):\n",
    "            return numbers\n",
    "        else:\n",
    "            print(f'중복{++dupCnt}')\n",
    "    "
   ]
  },
  {
   "cell_type": "code",
   "execution_count": 203,
   "id": "ae4a00b9",
   "metadata": {},
   "outputs": [
    {
     "name": "stdout",
     "output_type": "stream",
     "text": [
      "로또 번호 몇개를 생성할까요?5\n"
     ]
    }
   ],
   "source": [
    "# 사용자에개 로또번호 추출 횟수 입력받기\n",
    "cnt = int(input('로또 번호 몇개를 생성할까요?'))"
   ]
  },
  {
   "cell_type": "code",
   "execution_count": 204,
   "id": "b332784c",
   "metadata": {},
   "outputs": [
    {
     "name": "stdout",
     "output_type": "stream",
     "text": [
      "1번째 추출된 번호 : [2, 23, 14, 33, 30, 44]\n",
      "2번째 추출된 번호 : [10, 14, 29, 33, 24, 45]\n",
      "3번째 추출된 번호 : [4, 14, 29, 11, 21, 37]\n",
      "4번째 추출된 번호 : [3, 25, 26, 17, 30, 39]\n",
      "5번째 추출된 번호 : [12, 11, 11, 37, 22, 44]\n"
     ]
    }
   ],
   "source": [
    "for i in range(cnt) :\n",
    "    number = generate_numbers(past_lotto_number_list, weights)\n",
    "    print(f'{i+1}번째 추출된 번호 : {number}')"
   ]
  },
  {
   "cell_type": "code",
   "execution_count": 205,
   "id": "9bec7eb4",
   "metadata": {},
   "outputs": [
    {
     "data": {
      "text/plain": [
       "1    11\n",
       "2    13\n",
       "3    20\n",
       "4    21\n",
       "5    32\n",
       "6    44\n",
       "Name: 0, dtype: int64"
      ]
     },
     "execution_count": 205,
     "metadata": {},
     "output_type": "execute_result"
    }
   ],
   "source": [
    "past_lotto_number_list.iloc[0]"
   ]
  },
  {
   "cell_type": "code",
   "execution_count": 206,
   "id": "13e11dc8",
   "metadata": {},
   "outputs": [
    {
     "data": {
      "text/html": [
       "<div>\n",
       "<style scoped>\n",
       "    .dataframe tbody tr th:only-of-type {\n",
       "        vertical-align: middle;\n",
       "    }\n",
       "\n",
       "    .dataframe tbody tr th {\n",
       "        vertical-align: top;\n",
       "    }\n",
       "\n",
       "    .dataframe thead th {\n",
       "        text-align: right;\n",
       "    }\n",
       "</style>\n",
       "<table border=\"1\" class=\"dataframe\">\n",
       "  <thead>\n",
       "    <tr style=\"text-align: right;\">\n",
       "      <th></th>\n",
       "      <th>1</th>\n",
       "      <th>2</th>\n",
       "      <th>3</th>\n",
       "      <th>4</th>\n",
       "      <th>5</th>\n",
       "      <th>6</th>\n",
       "    </tr>\n",
       "  </thead>\n",
       "  <tbody>\n",
       "    <tr>\n",
       "      <th>0</th>\n",
       "      <td>11</td>\n",
       "      <td>13</td>\n",
       "      <td>20</td>\n",
       "      <td>21</td>\n",
       "      <td>32</td>\n",
       "      <td>44</td>\n",
       "    </tr>\n",
       "    <tr>\n",
       "      <th>1</th>\n",
       "      <td>16</td>\n",
       "      <td>20</td>\n",
       "      <td>26</td>\n",
       "      <td>36</td>\n",
       "      <td>42</td>\n",
       "      <td>44</td>\n",
       "    </tr>\n",
       "    <tr>\n",
       "      <th>2</th>\n",
       "      <td>3</td>\n",
       "      <td>13</td>\n",
       "      <td>30</td>\n",
       "      <td>33</td>\n",
       "      <td>43</td>\n",
       "      <td>45</td>\n",
       "    </tr>\n",
       "    <tr>\n",
       "      <th>3</th>\n",
       "      <td>3</td>\n",
       "      <td>7</td>\n",
       "      <td>11</td>\n",
       "      <td>20</td>\n",
       "      <td>22</td>\n",
       "      <td>41</td>\n",
       "    </tr>\n",
       "    <tr>\n",
       "      <th>4</th>\n",
       "      <td>10</td>\n",
       "      <td>12</td>\n",
       "      <td>13</td>\n",
       "      <td>19</td>\n",
       "      <td>33</td>\n",
       "      <td>40</td>\n",
       "    </tr>\n",
       "    <tr>\n",
       "      <th>...</th>\n",
       "      <td>...</td>\n",
       "      <td>...</td>\n",
       "      <td>...</td>\n",
       "      <td>...</td>\n",
       "      <td>...</td>\n",
       "      <td>...</td>\n",
       "    </tr>\n",
       "    <tr>\n",
       "      <th>1108</th>\n",
       "      <td>16</td>\n",
       "      <td>24</td>\n",
       "      <td>29</td>\n",
       "      <td>40</td>\n",
       "      <td>41</td>\n",
       "      <td>42</td>\n",
       "    </tr>\n",
       "    <tr>\n",
       "      <th>1109</th>\n",
       "      <td>14</td>\n",
       "      <td>27</td>\n",
       "      <td>30</td>\n",
       "      <td>31</td>\n",
       "      <td>40</td>\n",
       "      <td>42</td>\n",
       "    </tr>\n",
       "    <tr>\n",
       "      <th>1110</th>\n",
       "      <td>11</td>\n",
       "      <td>16</td>\n",
       "      <td>19</td>\n",
       "      <td>21</td>\n",
       "      <td>27</td>\n",
       "      <td>31</td>\n",
       "    </tr>\n",
       "    <tr>\n",
       "      <th>1111</th>\n",
       "      <td>9</td>\n",
       "      <td>13</td>\n",
       "      <td>21</td>\n",
       "      <td>25</td>\n",
       "      <td>32</td>\n",
       "      <td>42</td>\n",
       "    </tr>\n",
       "    <tr>\n",
       "      <th>1112</th>\n",
       "      <td>10</td>\n",
       "      <td>23</td>\n",
       "      <td>29</td>\n",
       "      <td>33</td>\n",
       "      <td>37</td>\n",
       "      <td>40</td>\n",
       "    </tr>\n",
       "  </tbody>\n",
       "</table>\n",
       "<p>1113 rows × 6 columns</p>\n",
       "</div>"
      ],
      "text/plain": [
       "       1   2   3   4   5   6\n",
       "0     11  13  20  21  32  44\n",
       "1     16  20  26  36  42  44\n",
       "2      3  13  30  33  43  45\n",
       "3      3   7  11  20  22  41\n",
       "4     10  12  13  19  33  40\n",
       "...   ..  ..  ..  ..  ..  ..\n",
       "1108  16  24  29  40  41  42\n",
       "1109  14  27  30  31  40  42\n",
       "1110  11  16  19  21  27  31\n",
       "1111   9  13  21  25  32  42\n",
       "1112  10  23  29  33  37  40\n",
       "\n",
       "[1113 rows x 6 columns]"
      ]
     },
     "execution_count": 206,
     "metadata": {},
     "output_type": "execute_result"
    }
   ],
   "source": [
    "past_lotto_number_list"
   ]
  },
  {
   "cell_type": "code",
   "execution_count": 207,
   "id": "a58b7997",
   "metadata": {},
   "outputs": [
    {
     "data": {
      "text/plain": [
       "0        True\n",
       "1       False\n",
       "2       False\n",
       "3       False\n",
       "4       False\n",
       "        ...  \n",
       "1108    False\n",
       "1109    False\n",
       "1110    False\n",
       "1111    False\n",
       "1112    False\n",
       "Length: 1113, dtype: bool"
      ]
     },
     "execution_count": 207,
     "metadata": {},
     "output_type": "execute_result"
    }
   ],
   "source": [
    "(past_lotto_number_list == [11,13,20,21,32,44]).all(axis=1)"
   ]
  },
  {
   "cell_type": "code",
   "execution_count": null,
   "id": "f856a5be",
   "metadata": {},
   "outputs": [],
   "source": []
  }
 ],
 "metadata": {
  "kernelspec": {
   "display_name": "Python 3 (ipykernel)",
   "language": "python",
   "name": "python3"
  },
  "language_info": {
   "codemirror_mode": {
    "name": "ipython",
    "version": 3
   },
   "file_extension": ".py",
   "mimetype": "text/x-python",
   "name": "python",
   "nbconvert_exporter": "python",
   "pygments_lexer": "ipython3",
   "version": "3.11.5"
  },
  "toc": {
   "base_numbering": 1,
   "nav_menu": {},
   "number_sections": true,
   "sideBar": true,
   "skip_h1_title": false,
   "title_cell": "Table of Contents",
   "title_sidebar": "Contents",
   "toc_cell": false,
   "toc_position": {},
   "toc_section_display": true,
   "toc_window_display": false
  },
  "varInspector": {
   "cols": {
    "lenName": 16,
    "lenType": 16,
    "lenVar": 40
   },
   "kernels_config": {
    "python": {
     "delete_cmd_postfix": "",
     "delete_cmd_prefix": "del ",
     "library": "var_list.py",
     "varRefreshCmd": "print(var_dic_list())"
    },
    "r": {
     "delete_cmd_postfix": ") ",
     "delete_cmd_prefix": "rm(",
     "library": "var_list.r",
     "varRefreshCmd": "cat(var_dic_list()) "
    }
   },
   "types_to_exclude": [
    "module",
    "function",
    "builtin_function_or_method",
    "instance",
    "_Feature"
   ],
   "window_display": false
  }
 },
 "nbformat": 4,
 "nbformat_minor": 5
}
