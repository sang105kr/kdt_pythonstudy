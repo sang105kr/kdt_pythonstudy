{
 "cells": [
  {
   "cell_type": "code",
   "execution_count": 1,
   "metadata": {},
   "outputs": [],
   "source": [
    "import pandas as pd"
   ]
  },
  {
   "cell_type": "code",
   "execution_count": 4,
   "metadata": {},
   "outputs": [
    {
     "name": "stdout",
     "output_type": "stream",
     "text": [
      "<class 'pandas.core.series.Series'>\n"
     ]
    },
    {
     "data": {
      "text/plain": [
       "서울    50\n",
       "부산    60\n",
       "광주    40\n",
       "대구    80\n",
       "울산    70\n",
       "목포    30\n",
       "여수    20\n",
       "dtype: int64"
      ]
     },
     "execution_count": 4,
     "metadata": {},
     "output_type": "execute_result"
    }
   ],
   "source": [
    "myindex = ['서울', '부산', '광주', '대구', '울산', '목포', '여수']\n",
    "mylist = [50, 60, 40, 80, 70, 30, 20]\n",
    "myseries = pd.Series(data=mylist, index=myindex)\n",
    "\n",
    "print(type(myseries))\n",
    "# print(dir(myseries))\n",
    "myseries"
   ]
  },
  {
   "cell_type": "code",
   "execution_count": 16,
   "metadata": {},
   "outputs": [
    {
     "name": "stdout",
     "output_type": "stream",
     "text": [
      "<class 'numpy.int64'>\n",
      "<class 'pandas.core.series.Series'>\n"
     ]
    }
   ],
   "source": [
    "# 색인의 이름으로 값 읽기\n",
    "print(type(myseries['대구']))\n",
    "print(type(myseries[['대구']]))\n"
   ]
  },
  {
   "cell_type": "code",
   "execution_count": 17,
   "metadata": {
    "scrolled": true
   },
   "outputs": [
    {
     "data": {
      "text/plain": [
       "대구    80\n",
       "울산    70\n",
       "목포    30\n",
       "dtype: int64"
      ]
     },
     "execution_count": 17,
     "metadata": {},
     "output_type": "execute_result"
    }
   ],
   "source": [
    "# 라벨 이름으로 슬라이싱\n",
    "myseries['대구':'목포']"
   ]
  },
  {
   "cell_type": "code",
   "execution_count": 18,
   "metadata": {},
   "outputs": [
    {
     "data": {
      "text/plain": [
       "대구    80\n",
       "여수    20\n",
       "dtype: int64"
      ]
     },
     "execution_count": 18,
     "metadata": {},
     "output_type": "execute_result"
    }
   ],
   "source": [
    "# 여러 개의 색인 이름으로 데이터 읽기\n",
    "myseries[['대구', '여수']]"
   ]
  },
  {
   "cell_type": "code",
   "execution_count": 30,
   "metadata": {},
   "outputs": [
    {
     "name": "stdout",
     "output_type": "stream",
     "text": [
      "40\n",
      "광주    40\n",
      "dtype: int64\n",
      "40\n",
      "40\n",
      "광주    40\n",
      "dtype: int64\n",
      "40\n",
      "0    40\n",
      "dtype: int64\n"
     ]
    }
   ],
   "source": [
    "# 인덱스 위치를 이용한 데이터 읽기\n",
    "print(myseries[2])\n",
    "print(myseries[[2]])\n",
    "print(myseries.iloc[2])\n",
    "# 인덱스 이용한 데이터 읽기\n",
    "print(myseries['광주'])\n",
    "print(myseries[['광주']])\n",
    "print(myseries.loc['광주'])"
   ]
  },
  {
   "cell_type": "code",
   "execution_count": 31,
   "metadata": {},
   "outputs": [
    {
     "data": {
      "text/plain": [
       "서울    50\n",
       "광주    40\n",
       "울산    70\n",
       "dtype: int64"
      ]
     },
     "execution_count": 31,
     "metadata": {},
     "output_type": "execute_result"
    }
   ],
   "source": [
    "# 0, 2, 4번째 데이터 읽기\n",
    "myseries[0:5:2]"
   ]
  },
  {
   "cell_type": "code",
   "execution_count": 32,
   "metadata": {},
   "outputs": [
    {
     "data": {
      "text/plain": [
       "부산    60\n",
       "대구    80\n",
       "목포    30\n",
       "dtype: int64"
      ]
     },
     "execution_count": 32,
     "metadata": {},
     "output_type": "execute_result"
    }
   ],
   "source": [
    "# 1, 3, 5번째 데이터 읽기\n",
    "myseries[[1, 3, 5]]"
   ]
  },
  {
   "cell_type": "code",
   "execution_count": 33,
   "metadata": {},
   "outputs": [
    {
     "data": {
      "text/plain": [
       "대구    80\n",
       "울산    70\n",
       "목포    30\n",
       "dtype: int64"
      ]
     },
     "execution_count": 33,
     "metadata": {},
     "output_type": "execute_result"
    }
   ],
   "source": [
    "# 슬라이싱 사용하기\n",
    "myseries[3:6] # from <= 결과 < to"
   ]
  },
  {
   "cell_type": "code",
   "execution_count": 34,
   "metadata": {},
   "outputs": [],
   "source": [
    "myseries[2] = 22 # 2번째 항목의 값 변경\n",
    "myseries[2:5] = 33 # 2번째부터 4번째 까지 항목의 값 변경\n",
    "myseries[['서울', '대구']] = 55 # 서울과 대구만  55로 변경\n",
    "myseries[0::2] = 77 # 짝수 행만  77로 변경"
   ]
  },
  {
   "cell_type": "code",
   "execution_count": 35,
   "metadata": {},
   "outputs": [
    {
     "data": {
      "text/plain": [
       "서울    77\n",
       "부산    60\n",
       "광주    77\n",
       "대구    55\n",
       "울산    77\n",
       "목포    30\n",
       "여수    77\n",
       "dtype: int64"
      ]
     },
     "execution_count": 35,
     "metadata": {},
     "output_type": "execute_result"
    }
   ],
   "source": [
    "# 시리즈 내용 확인\n",
    "myseries"
   ]
  },
  {
   "cell_type": "code",
   "execution_count": null,
   "metadata": {},
   "outputs": [],
   "source": []
  }
 ],
 "metadata": {
  "kernelspec": {
   "display_name": "Python 3 (ipykernel)",
   "language": "python",
   "name": "python3"
  },
  "language_info": {
   "codemirror_mode": {
    "name": "ipython",
    "version": 3
   },
   "file_extension": ".py",
   "mimetype": "text/x-python",
   "name": "python",
   "nbconvert_exporter": "python",
   "pygments_lexer": "ipython3",
   "version": "3.11.5"
  },
  "toc": {
   "base_numbering": 1,
   "nav_menu": {},
   "number_sections": true,
   "sideBar": true,
   "skip_h1_title": false,
   "title_cell": "Table of Contents",
   "title_sidebar": "Contents",
   "toc_cell": false,
   "toc_position": {},
   "toc_section_display": true,
   "toc_window_display": false
  },
  "varInspector": {
   "cols": {
    "lenName": 16,
    "lenType": 16,
    "lenVar": 40
   },
   "kernels_config": {
    "python": {
     "delete_cmd_postfix": "",
     "delete_cmd_prefix": "del ",
     "library": "var_list.py",
     "varRefreshCmd": "print(var_dic_list())"
    },
    "r": {
     "delete_cmd_postfix": ") ",
     "delete_cmd_prefix": "rm(",
     "library": "var_list.r",
     "varRefreshCmd": "cat(var_dic_list()) "
    }
   },
   "types_to_exclude": [
    "module",
    "function",
    "builtin_function_or_method",
    "instance",
    "_Feature"
   ],
   "window_display": false
  }
 },
 "nbformat": 4,
 "nbformat_minor": 4
}
