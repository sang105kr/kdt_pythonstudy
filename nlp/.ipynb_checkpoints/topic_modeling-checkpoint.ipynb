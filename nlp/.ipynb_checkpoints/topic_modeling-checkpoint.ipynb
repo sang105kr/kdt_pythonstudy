{
 "cells": [
  {
   "cell_type": "code",
   "execution_count": 1,
   "id": "d5c642da",
   "metadata": {},
   "outputs": [],
   "source": [
    "# 자연어처리\n",
    "from sklearn.feature_extraction.text import CountVectorizer"
   ]
  },
  {
   "cell_type": "code",
   "execution_count": 2,
   "id": "de044b94",
   "metadata": {},
   "outputs": [],
   "source": [
    "# 데이터 분석\n",
    "import pandas as pd\n",
    "import numpy as np"
   ]
  },
  {
   "cell_type": "code",
   "execution_count": 3,
   "id": "ecdc46e4",
   "metadata": {},
   "outputs": [],
   "source": [
    "# 시각화\n",
    "import seaborn as sns\n",
    "import matplotlib.pyplot as plt\n",
    "import koreanize_matplotlib"
   ]
  },
  {
   "cell_type": "code",
   "execution_count": 4,
   "id": "7ff72521",
   "metadata": {},
   "outputs": [],
   "source": [
    "# 정규표현식\n",
    "import re"
   ]
  },
  {
   "cell_type": "code",
   "execution_count": 5,
   "id": "9d7b76c1",
   "metadata": {},
   "outputs": [],
   "source": [
    "# 시간이 오래 걸리는 작업시 시각적으로 진행상황 수치로( %) 보여준다.\n",
    "from tqdm import tqdm\n",
    "tqdm.pandas()"
   ]
  },
  {
   "cell_type": "code",
   "execution_count": 6,
   "id": "47cfab3d",
   "metadata": {},
   "outputs": [],
   "source": [
    "# 정규표현식\n",
    "# # 숫자 제거 [0-9], \\d, [^0-9], \\D\n",
    "# df['title2'] = df['title'].str.replace(r'\\d','',regex=True)\n",
    "# # 문자만 남기기 [^ㄱ-ㅎㅏ-ㅣ가-힣a-zA-Z]\n",
    "# df['title3'] = df['title'].str.replace('[^ㄱ-ㅎㅏ-ㅣ가-힣a-zA-Z]',' ',regex=True)\n",
    "# #df['title'].str.replace('[0-9]', '', regex=True)\n",
    "# df['title4'] = df['title'].str.replace('[^ㄱ-ㅎㅏ-ㅣ가-힣]',' ',regex=True)"
   ]
  },
  {
   "cell_type": "code",
   "execution_count": 7,
   "id": "a6ecc0a2",
   "metadata": {},
   "outputs": [],
   "source": [
    "# 한글만 추출 + 2개이상 공백 1개로 변환\n",
    "def extract_korean(text):\n",
    "    # 한글만 추출\n",
    "    text = re.sub(r'[^ㄱ-ㅎㅏ-ㅣ가-힣\\s]','',text)\n",
    "    # 공백 2개 이상인경우 1개로 변환\n",
    "    text = re.sub(r'\\s+',' ',text)\n",
    "    return text"
   ]
  },
  {
   "cell_type": "code",
   "execution_count": 8,
   "id": "4341f4f1",
   "metadata": {},
   "outputs": [],
   "source": [
    "# 형태소분석\n",
    "from pecab import PeCab\n",
    "pecab = PeCab()"
   ]
  },
  {
   "cell_type": "markdown",
   "id": "8c86d7ab",
   "metadata": {},
   "source": [
    "* 품사태그표 :\n",
    "    * https://konlpy.org/ko/v0.6.0/morph/\n",
    "    * https://docs.google.com/spreadsheets/d/1OGAjUvalBuX-oZvZ_-9tEfYD2gQe7hTGsgUpiiBSXI8/edit#gid=0"
   ]
  },
  {
   "cell_type": "code",
   "execution_count": 9,
   "id": "5dbdf88e",
   "metadata": {},
   "outputs": [
    {
     "data": {
      "text/plain": [
       "[('중국', 'NNP'),\n",
       " ('집', 'NNG'),\n",
       " ('에서', 'JKB'),\n",
       " ('짜장면', 'NNG'),\n",
       " ('을', 'JKO'),\n",
       " ('시켰', 'VV+EP'),\n",
       " ('어요', 'EF')]"
      ]
     },
     "execution_count": 9,
     "metadata": {},
     "output_type": "execute_result"
    }
   ],
   "source": [
    "corpus_text = '중국집에서 짜장면을 시켰어요'\n",
    "pecab_pos = pecab.pos(corpus_text)\n",
    "pecab_pos"
   ]
  },
  {
   "cell_type": "code",
   "execution_count": 10,
   "id": "0665ac38",
   "metadata": {},
   "outputs": [
    {
     "data": {
      "text/plain": [
       "['중국', '집', '짜장면']"
      ]
     },
     "execution_count": 10,
     "metadata": {},
     "output_type": "execute_result"
    }
   ],
   "source": [
    "# 명사만 추출\n",
    "pecab.nouns(corpus_text)"
   ]
  },
  {
   "cell_type": "code",
   "execution_count": 11,
   "id": "9cdbd7d6",
   "metadata": {},
   "outputs": [
    {
     "data": {
      "text/plain": [
       "'중국 집 짜장면 시켰 어요'"
      ]
     },
     "execution_count": 11,
     "metadata": {},
     "output_type": "execute_result"
    }
   ],
   "source": [
    "join_text = []\n",
    "for text,pos in pecab_pos:\n",
    "    if not pos.startswith('J'):\n",
    "#         print(text,pos)\n",
    "        join_text.append(text)\n",
    "\" \".join(join_text)    "
   ]
  },
  {
   "cell_type": "code",
   "execution_count": 12,
   "id": "d35c9458",
   "metadata": {},
   "outputs": [],
   "source": [
    "# 명사,동사,형용사 추출하기\n",
    "def get_nouns_verbs_adjectives(text):\n",
    "    pecab = PeCab()\n",
    "    pecab_pos = pecab.pos(text)\n",
    "    join_text = []\n",
    "    for text,pos in pecab_pos:\n",
    "        if pos.startswith('N') or pos == 'VV' or pos == 'VA':\n",
    "            join_text.append(text)\n",
    "    return \" \".join(join_text)     "
   ]
  },
  {
   "cell_type": "code",
   "execution_count": 13,
   "id": "e9f518b5",
   "metadata": {},
   "outputs": [
    {
     "name": "stdout",
     "output_type": "stream",
     "text": [
      "https://raw.githubusercontent.com/KLUE-benchmark/KLUE/main/klue_benchmark/ynat-v1.1/ynat-v1.1_train.json\n"
     ]
    },
    {
     "data": {
      "text/plain": [
       "(45678, 7)"
      ]
     },
     "execution_count": 13,
     "metadata": {},
     "output_type": "execute_result"
    }
   ],
   "source": [
    "url = 'https://raw.githubusercontent.com/KLUE-benchmark/KLUE/main/klue_benchmark/ynat-v1.1/ynat-v1.1_train.json'\n",
    "print(url)\n",
    "df = pd.read_json(url)\n",
    "df.shape"
   ]
  },
  {
   "cell_type": "code",
   "execution_count": 14,
   "id": "7f148898",
   "metadata": {},
   "outputs": [
    {
     "data": {
      "text/html": [
       "<div>\n",
       "<style scoped>\n",
       "    .dataframe tbody tr th:only-of-type {\n",
       "        vertical-align: middle;\n",
       "    }\n",
       "\n",
       "    .dataframe tbody tr th {\n",
       "        vertical-align: top;\n",
       "    }\n",
       "\n",
       "    .dataframe thead th {\n",
       "        text-align: right;\n",
       "    }\n",
       "</style>\n",
       "<table border=\"1\" class=\"dataframe\">\n",
       "  <thead>\n",
       "    <tr style=\"text-align: right;\">\n",
       "      <th></th>\n",
       "      <th>guid</th>\n",
       "      <th>title</th>\n",
       "      <th>predefined_news_category</th>\n",
       "      <th>label</th>\n",
       "      <th>annotations</th>\n",
       "      <th>url</th>\n",
       "      <th>date</th>\n",
       "    </tr>\n",
       "  </thead>\n",
       "  <tbody>\n",
       "    <tr>\n",
       "      <th>0</th>\n",
       "      <td>ynat-v1_train_00000</td>\n",
       "      <td>유튜브 내달 2일까지 크리에이터 지원 공간 운영</td>\n",
       "      <td>IT과학</td>\n",
       "      <td>생활문화</td>\n",
       "      <td>{'annotators': ['08', '13', '07'], 'annotation...</td>\n",
       "      <td>https://news.naver.com/main/read.nhn?mode=LS2D...</td>\n",
       "      <td>2016.06.30. 오전 10:36</td>\n",
       "    </tr>\n",
       "    <tr>\n",
       "      <th>1</th>\n",
       "      <td>ynat-v1_train_00001</td>\n",
       "      <td>어버이날 맑다가 흐려져…남부지방 옅은 황사</td>\n",
       "      <td>생활문화</td>\n",
       "      <td>생활문화</td>\n",
       "      <td>{'annotators': ['14', '13', '07'], 'annotation...</td>\n",
       "      <td>https://news.naver.com/main/read.nhn?mode=LS2D...</td>\n",
       "      <td>2016.05.08. 오전 5:25</td>\n",
       "    </tr>\n",
       "  </tbody>\n",
       "</table>\n",
       "</div>"
      ],
      "text/plain": [
       "                  guid                       title predefined_news_category  \\\n",
       "0  ynat-v1_train_00000  유튜브 내달 2일까지 크리에이터 지원 공간 운영                     IT과학   \n",
       "1  ynat-v1_train_00001     어버이날 맑다가 흐려져…남부지방 옅은 황사                     생활문화   \n",
       "\n",
       "  label                                        annotations  \\\n",
       "0  생활문화  {'annotators': ['08', '13', '07'], 'annotation...   \n",
       "1  생활문화  {'annotators': ['14', '13', '07'], 'annotation...   \n",
       "\n",
       "                                                 url                  date  \n",
       "0  https://news.naver.com/main/read.nhn?mode=LS2D...  2016.06.30. 오전 10:36  \n",
       "1  https://news.naver.com/main/read.nhn?mode=LS2D...   2016.05.08. 오전 5:25  "
      ]
     },
     "execution_count": 14,
     "metadata": {},
     "output_type": "execute_result"
    }
   ],
   "source": [
    "df.head(2)"
   ]
  },
  {
   "cell_type": "code",
   "execution_count": 15,
   "id": "88247466",
   "metadata": {},
   "outputs": [
    {
     "data": {
      "text/html": [
       "<div>\n",
       "<style scoped>\n",
       "    .dataframe tbody tr th:only-of-type {\n",
       "        vertical-align: middle;\n",
       "    }\n",
       "\n",
       "    .dataframe tbody tr th {\n",
       "        vertical-align: top;\n",
       "    }\n",
       "\n",
       "    .dataframe thead th {\n",
       "        text-align: right;\n",
       "    }\n",
       "</style>\n",
       "<table border=\"1\" class=\"dataframe\">\n",
       "  <thead>\n",
       "    <tr style=\"text-align: right;\">\n",
       "      <th></th>\n",
       "      <th>title</th>\n",
       "      <th>label</th>\n",
       "    </tr>\n",
       "  </thead>\n",
       "  <tbody>\n",
       "    <tr>\n",
       "      <th>0</th>\n",
       "      <td>유튜브 내달 2일까지 크리에이터 지원 공간 운영</td>\n",
       "      <td>생활문화</td>\n",
       "    </tr>\n",
       "    <tr>\n",
       "      <th>1</th>\n",
       "      <td>어버이날 맑다가 흐려져…남부지방 옅은 황사</td>\n",
       "      <td>생활문화</td>\n",
       "    </tr>\n",
       "  </tbody>\n",
       "</table>\n",
       "</div>"
      ],
      "text/plain": [
       "                        title label\n",
       "0  유튜브 내달 2일까지 크리에이터 지원 공간 운영  생활문화\n",
       "1     어버이날 맑다가 흐려져…남부지방 옅은 황사  생활문화"
      ]
     },
     "execution_count": 15,
     "metadata": {},
     "output_type": "execute_result"
    }
   ],
   "source": [
    "df = df[['title','label']]\n",
    "df.head(2)"
   ]
  },
  {
   "cell_type": "code",
   "execution_count": null,
   "id": "cda70e4e",
   "metadata": {},
   "outputs": [],
   "source": []
  },
  {
   "cell_type": "code",
   "execution_count": 20,
   "id": "2dc0a7d6",
   "metadata": {},
   "outputs": [
    {
     "name": "stderr",
     "output_type": "stream",
     "text": [
      "100%|████████████████████████████████████████████████████████████████████████| 45678/45678 [00:00<00:00, 170897.08it/s]\n",
      "100%|████████████████████████████████████████████████████████████████████████████| 45678/45678 [10:43<00:00, 71.01it/s]\n"
     ]
    }
   ],
   "source": [
    "# df['title'].head(2).map(lambda title: extract_korean(title)).map(lambda title: get_nouns_verbs_adjectives(title))\n",
    "# df['title2'] = df['title'].map(extract_korean).map(get_nouns_verbs_adjectives)\n",
    "df['title2'] = df['title'].progress_map(extract_korean).progress_map(get_nouns_verbs_adjectives)"
   ]
  },
  {
   "cell_type": "code",
   "execution_count": 21,
   "id": "d6e55124",
   "metadata": {},
   "outputs": [
    {
     "data": {
      "text/html": [
       "<div>\n",
       "<style scoped>\n",
       "    .dataframe tbody tr th:only-of-type {\n",
       "        vertical-align: middle;\n",
       "    }\n",
       "\n",
       "    .dataframe tbody tr th {\n",
       "        vertical-align: top;\n",
       "    }\n",
       "\n",
       "    .dataframe thead th {\n",
       "        text-align: right;\n",
       "    }\n",
       "</style>\n",
       "<table border=\"1\" class=\"dataframe\">\n",
       "  <thead>\n",
       "    <tr style=\"text-align: right;\">\n",
       "      <th></th>\n",
       "      <th>title</th>\n",
       "      <th>label</th>\n",
       "      <th>title2</th>\n",
       "    </tr>\n",
       "  </thead>\n",
       "  <tbody>\n",
       "    <tr>\n",
       "      <th>0</th>\n",
       "      <td>유튜브 내달 2일까지 크리에이터 지원 공간 운영</td>\n",
       "      <td>생활문화</td>\n",
       "      <td>유튜브 내달 일 크리에이터 지원 공간 운영</td>\n",
       "    </tr>\n",
       "    <tr>\n",
       "      <th>1</th>\n",
       "      <td>어버이날 맑다가 흐려져…남부지방 옅은 황사</td>\n",
       "      <td>생활문화</td>\n",
       "      <td>어버이날 맑 남부 지방 옅 황사</td>\n",
       "    </tr>\n",
       "  </tbody>\n",
       "</table>\n",
       "</div>"
      ],
      "text/plain": [
       "                        title label                   title2\n",
       "0  유튜브 내달 2일까지 크리에이터 지원 공간 운영  생활문화  유튜브 내달 일 크리에이터 지원 공간 운영\n",
       "1     어버이날 맑다가 흐려져…남부지방 옅은 황사  생활문화        어버이날 맑 남부 지방 옅 황사"
      ]
     },
     "execution_count": 21,
     "metadata": {},
     "output_type": "execute_result"
    }
   ],
   "source": [
    "df.head(2)"
   ]
  },
  {
   "cell_type": "code",
   "execution_count": 22,
   "id": "7b5363fa",
   "metadata": {},
   "outputs": [],
   "source": [
    "df.to_csv('정제_형태소.csv',index=False)"
   ]
  },
  {
   "cell_type": "code",
   "execution_count": 23,
   "id": "42daf0a8",
   "metadata": {},
   "outputs": [
    {
     "data": {
      "text/html": [
       "<div>\n",
       "<style scoped>\n",
       "    .dataframe tbody tr th:only-of-type {\n",
       "        vertical-align: middle;\n",
       "    }\n",
       "\n",
       "    .dataframe tbody tr th {\n",
       "        vertical-align: top;\n",
       "    }\n",
       "\n",
       "    .dataframe thead th {\n",
       "        text-align: right;\n",
       "    }\n",
       "</style>\n",
       "<table border=\"1\" class=\"dataframe\">\n",
       "  <thead>\n",
       "    <tr style=\"text-align: right;\">\n",
       "      <th></th>\n",
       "      <th>title</th>\n",
       "      <th>label</th>\n",
       "      <th>title2</th>\n",
       "    </tr>\n",
       "  </thead>\n",
       "  <tbody>\n",
       "    <tr>\n",
       "      <th>0</th>\n",
       "      <td>유튜브 내달 2일까지 크리에이터 지원 공간 운영</td>\n",
       "      <td>생활문화</td>\n",
       "      <td>유튜브 내달 일 크리에이터 지원 공간 운영</td>\n",
       "    </tr>\n",
       "    <tr>\n",
       "      <th>1</th>\n",
       "      <td>어버이날 맑다가 흐려져…남부지방 옅은 황사</td>\n",
       "      <td>생활문화</td>\n",
       "      <td>어버이날 맑 남부 지방 옅 황사</td>\n",
       "    </tr>\n",
       "  </tbody>\n",
       "</table>\n",
       "</div>"
      ],
      "text/plain": [
       "                        title label                   title2\n",
       "0  유튜브 내달 2일까지 크리에이터 지원 공간 운영  생활문화  유튜브 내달 일 크리에이터 지원 공간 운영\n",
       "1     어버이날 맑다가 흐려져…남부지방 옅은 황사  생활문화        어버이날 맑 남부 지방 옅 황사"
      ]
     },
     "execution_count": 23,
     "metadata": {},
     "output_type": "execute_result"
    }
   ],
   "source": [
    "df = pd.read_csv('정제_형태소.csv')\n",
    "df.head(2)"
   ]
  },
  {
   "cell_type": "code",
   "execution_count": 24,
   "id": "2e75f82c",
   "metadata": {},
   "outputs": [
    {
     "data": {
      "text/html": [
       "<div>\n",
       "<style scoped>\n",
       "    .dataframe tbody tr th:only-of-type {\n",
       "        vertical-align: middle;\n",
       "    }\n",
       "\n",
       "    .dataframe tbody tr th {\n",
       "        vertical-align: top;\n",
       "    }\n",
       "\n",
       "    .dataframe thead th {\n",
       "        text-align: right;\n",
       "    }\n",
       "</style>\n",
       "<table border=\"1\" class=\"dataframe\">\n",
       "  <thead>\n",
       "    <tr style=\"text-align: right;\">\n",
       "      <th></th>\n",
       "      <th>title</th>\n",
       "      <th>label</th>\n",
       "      <th>title2</th>\n",
       "    </tr>\n",
       "  </thead>\n",
       "  <tbody>\n",
       "    <tr>\n",
       "      <th>4013</th>\n",
       "      <td>LG스럽지가 않네…달라진 G6 써보니</td>\n",
       "      <td>IT과학</td>\n",
       "      <td>NaN</td>\n",
       "    </tr>\n",
       "    <tr>\n",
       "      <th>24451</th>\n",
       "      <td>YonseiKT 5G OPEN 2018</td>\n",
       "      <td>IT과학</td>\n",
       "      <td>NaN</td>\n",
       "    </tr>\n",
       "    <tr>\n",
       "      <th>25303</th>\n",
       "      <td>LG K10도 있어요</td>\n",
       "      <td>IT과학</td>\n",
       "      <td>NaN</td>\n",
       "    </tr>\n",
       "    <tr>\n",
       "      <th>30814</th>\n",
       "      <td>LG V30S 씽큐</td>\n",
       "      <td>IT과학</td>\n",
       "      <td>NaN</td>\n",
       "    </tr>\n",
       "    <tr>\n",
       "      <th>36620</th>\n",
       "      <td>WatchPlay란</td>\n",
       "      <td>IT과학</td>\n",
       "      <td>NaN</td>\n",
       "    </tr>\n",
       "  </tbody>\n",
       "</table>\n",
       "</div>"
      ],
      "text/plain": [
       "                       title label title2\n",
       "4013    LG스럽지가 않네…달라진 G6 써보니  IT과학    NaN\n",
       "24451  YonseiKT 5G OPEN 2018  IT과학    NaN\n",
       "25303            LG K10도 있어요  IT과학    NaN\n",
       "30814             LG V30S 씽큐  IT과학    NaN\n",
       "36620             WatchPlay란  IT과학    NaN"
      ]
     },
     "execution_count": 24,
     "metadata": {},
     "output_type": "execute_result"
    }
   ],
   "source": [
    "df[df['title2'].isnull()]"
   ]
  },
  {
   "cell_type": "code",
   "execution_count": 25,
   "id": "14562816",
   "metadata": {},
   "outputs": [],
   "source": [
    "# df에서 title2 에서 nan 행 제거\n",
    "df=df.dropna(subset=['title2'])"
   ]
  },
  {
   "cell_type": "markdown",
   "id": "171b859f",
   "metadata": {},
   "source": [
    "* 백터화\n",
    "    * 머신러닝이나 딥러닝 알고리즘은 문자를 이해할수 없다. 내부에서는 수치 계산이 이루어지기때문에 문자를 숫자로 변경해 주어야한다."
   ]
  },
  {
   "cell_type": "code",
   "execution_count": 29,
   "id": "9b4b7e22",
   "metadata": {},
   "outputs": [],
   "source": [
    "# fit : 백터화할 어휘를 학습\n",
    "# transform : 학습된 어휘흘 -> 수치화\n",
    "from sklearn.feature_extraction.text import TfidfVectorizer\n",
    "\n",
    "tfidfvect = TfidfVectorizer(max_features=2000)\n",
    "x_train = tfidfvect.fit(df['title2'])"
   ]
  },
  {
   "cell_type": "code",
   "execution_count": 30,
   "id": "84e08306",
   "metadata": {},
   "outputs": [],
   "source": [
    "x_vect = x_train.transform(df['title2'])"
   ]
  },
  {
   "cell_type": "code",
   "execution_count": 31,
   "id": "3c058975",
   "metadata": {},
   "outputs": [
    {
     "data": {
      "text/plain": [
       "(45673, 2000)"
      ]
     },
     "execution_count": 31,
     "metadata": {},
     "output_type": "execute_result"
    }
   ],
   "source": [
    "x_vect.shape"
   ]
  },
  {
   "cell_type": "code",
   "execution_count": 34,
   "id": "6e61c6a8",
   "metadata": {},
   "outputs": [],
   "source": [
    "df = pd.DataFrame(x_vect.toarray(),columns=tfidfvect.get_feature_names_out())"
   ]
  },
  {
   "cell_type": "code",
   "execution_count": 49,
   "id": "ac5e6e25",
   "metadata": {},
   "outputs": [
    {
     "data": {
      "image/png": "[encoded data removed]",
      "text/plain": [
       "<Figure size 1000x500 with 1 Axes>"
      ]
     },
     "metadata": {},
     "output_type": "display_data"
    }
   ],
   "source": [
    "plt.figure(figsize=(10,5))\n",
    "# plt.title('TF-IDF 가중치 합')\n",
    "df.sum().nlargest(50).plot.bar()\n",
    "plt.show()"
   ]
  },
  {
   "cell_type": "code",
   "execution_count": null,
   "id": "a1f90411",
   "metadata": {},
   "outputs": [],
   "source": []
  }
 ],
 "metadata": {
  "kernelspec": {
   "display_name": "Python 3 (ipykernel)",
   "language": "python",
   "name": "python3"
  },
  "language_info": {
   "codemirror_mode": {
    "name": "ipython",
    "version": 3
   },
   "file_extension": ".py",
   "mimetype": "text/x-python",
   "name": "python",
   "nbconvert_exporter": "python",
   "pygments_lexer": "ipython3",
   "version": "3.11.5"
  },
  "toc": {
   "base_numbering": 1,
   "nav_menu": {},
   "number_sections": true,
   "sideBar": true,
   "skip_h1_title": false,
   "title_cell": "Table of Contents",
   "title_sidebar": "Contents",
   "toc_cell": false,
   "toc_position": {},
   "toc_section_display": true,
   "toc_window_display": false
  },
  "varInspector": {
   "cols": {
    "lenName": 16,
    "lenType": 16,
    "lenVar": 40
   },
   "kernels_config": {
    "python": {
     "delete_cmd_postfix": "",
     "delete_cmd_prefix": "del ",
     "library": "var_list.py",
     "varRefreshCmd": "print(var_dic_list())"
    },
    "r": {
     "delete_cmd_postfix": ") ",
     "delete_cmd_prefix": "rm(",
     "library": "var_list.r",
     "varRefreshCmd": "cat(var_dic_list()) "
    }
   },
   "types_to_exclude": [
    "module",
    "function",
    "builtin_function_or_method",
    "instance",
    "_Feature"
   ],
   "window_display": false
  }
 },
 "nbformat": 4,
 "nbformat_minor": 5
}
