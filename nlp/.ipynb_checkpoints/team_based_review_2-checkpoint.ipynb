{
 "cells": [
  {
   "cell_type": "markdown",
   "id": "d1cfcc6b",
   "metadata": {},
   "source": [
    "## 감성 사전을 만들기 위한 형용사 어간 추출"
   ]
  },
  {
   "cell_type": "code",
   "execution_count": 48,
   "id": "a9f13e20",
   "metadata": {},
   "outputs": [],
   "source": [
    "import pandas as pd\n",
    "import numpy as np\n",
    "import re\n",
    "from konlpy.tag import Okt"
   ]
  },
  {
   "cell_type": "code",
   "execution_count": 190,
   "id": "6a37ae56",
   "metadata": {},
   "outputs": [],
   "source": [
    "# 어간 추출\n",
    "def extract_stem(words):\n",
    "    okt = Okt()\n",
    "    # 어간 추출\n",
    "    stems = okt.morphs(words,stem=True)\n",
    "    return stems[0] if stems else None"
   ]
  },
  {
   "cell_type": "code",
   "execution_count": 5,
   "id": "d85ccd20",
   "metadata": {},
   "outputs": [
    {
     "data": {
      "text/html": [
       "<div>\n",
       "<style scoped>\n",
       "    .dataframe tbody tr th:only-of-type {\n",
       "        vertical-align: middle;\n",
       "    }\n",
       "\n",
       "    .dataframe tbody tr th {\n",
       "        vertical-align: top;\n",
       "    }\n",
       "\n",
       "    .dataframe thead th {\n",
       "        text-align: right;\n",
       "    }\n",
       "</style>\n",
       "<table border=\"1\" class=\"dataframe\">\n",
       "  <thead>\n",
       "    <tr style=\"text-align: right;\">\n",
       "      <th></th>\n",
       "      <th>label</th>\n",
       "      <th>review</th>\n",
       "      <th>review2</th>\n",
       "      <th>adj</th>\n",
       "      <th>verb</th>\n",
       "      <th>noun</th>\n",
       "      <th>exclamation</th>\n",
       "    </tr>\n",
       "  </thead>\n",
       "  <tbody>\n",
       "    <tr>\n",
       "      <th>0</th>\n",
       "      <td>희양산</td>\n",
       "      <td>[2일차: 희양산 - 대야산4山_희양산 50m© NAVER Corp.더보기 /Ope...</td>\n",
       "      <td>일차 희양산 대야산희양산 더보기 지도 데이터 지도 컨트롤러 범례부동산거리읍면동시군구...</td>\n",
       "      <td>간단한 시원한 괜찮다 어렵고 길도 험하고 불친절한 그렇지 나쁘지 많은 미끄럽 없는 ...</td>\n",
       "      <td>둘러 삼아 바라본 하면 나오는 찾아 찾아보니 앞서던 넘치고 않았던 않다 거칠어진 기...</td>\n",
       "      <td>일차 희양산 대야산 희양산 더 보기 지도 데이터 지도 컨트롤러 범례 부동산 거리 읍...</td>\n",
       "      <td>휴</td>\n",
       "    </tr>\n",
       "    <tr>\n",
       "      <th>1</th>\n",
       "      <td>희양산</td>\n",
       "      <td>[몇년전 부봉인가 도명산을 올랐을때 유난히 대머리가 심한 희양산이 눈에 띄어 언젠가...</td>\n",
       "      <td>몇년전 부봉인가 도명산을 올랐을때 유난히 대머리가 심한 희양산이 눈에 띄어 언젠가 ...</td>\n",
       "      <td>심한 뿌옇다 맑아진다니 간략히 희 많지 짧게 덥고 모호한데 예쁘다고 그래 있는 있 ...</td>\n",
       "      <td>올랐을 띄어 가보고 싶었는데 나면 트여 볼거란 들었다 헌데 가르는 기대는 버리지 세...</td>\n",
       "      <td>년전 부 봉인 도명 산 때 대머리 희양산 눈 한번 오늘이 그날 토요일 새벽 비 그 ...</td>\n",
       "      <td>끄응 아 엉</td>\n",
       "    </tr>\n",
       "  </tbody>\n",
       "</table>\n",
       "</div>"
      ],
      "text/plain": [
       "  label                                             review  \\\n",
       "0   희양산  [2일차: 희양산 - 대야산4山_희양산 50m© NAVER Corp.더보기 /Ope...   \n",
       "1   희양산  [몇년전 부봉인가 도명산을 올랐을때 유난히 대머리가 심한 희양산이 눈에 띄어 언젠가...   \n",
       "\n",
       "                                             review2  \\\n",
       "0  일차 희양산 대야산희양산 더보기 지도 데이터 지도 컨트롤러 범례부동산거리읍면동시군구...   \n",
       "1  몇년전 부봉인가 도명산을 올랐을때 유난히 대머리가 심한 희양산이 눈에 띄어 언젠가 ...   \n",
       "\n",
       "                                                 adj  \\\n",
       "0  간단한 시원한 괜찮다 어렵고 길도 험하고 불친절한 그렇지 나쁘지 많은 미끄럽 없는 ...   \n",
       "1  심한 뿌옇다 맑아진다니 간략히 희 많지 짧게 덥고 모호한데 예쁘다고 그래 있는 있 ...   \n",
       "\n",
       "                                                verb  \\\n",
       "0  둘러 삼아 바라본 하면 나오는 찾아 찾아보니 앞서던 넘치고 않았던 않다 거칠어진 기...   \n",
       "1  올랐을 띄어 가보고 싶었는데 나면 트여 볼거란 들었다 헌데 가르는 기대는 버리지 세...   \n",
       "\n",
       "                                                noun exclamation  \n",
       "0  일차 희양산 대야산 희양산 더 보기 지도 데이터 지도 컨트롤러 범례 부동산 거리 읍...           휴  \n",
       "1  년전 부 봉인 도명 산 때 대머리 희양산 눈 한번 오늘이 그날 토요일 새벽 비 그 ...      끄응 아 엉  "
      ]
     },
     "execution_count": 5,
     "metadata": {},
     "output_type": "execute_result"
    }
   ],
   "source": [
    "df_1t = pd.read_csv('./data/review_data_1t_2.csv', encoding='utf-8')\n",
    "df_1t.head(2)"
   ]
  },
  {
   "cell_type": "code",
   "execution_count": 3,
   "id": "ed4de724",
   "metadata": {},
   "outputs": [
    {
     "data": {
      "text/html": [
       "<div>\n",
       "<style scoped>\n",
       "    .dataframe tbody tr th:only-of-type {\n",
       "        vertical-align: middle;\n",
       "    }\n",
       "\n",
       "    .dataframe tbody tr th {\n",
       "        vertical-align: top;\n",
       "    }\n",
       "\n",
       "    .dataframe thead th {\n",
       "        text-align: right;\n",
       "    }\n",
       "</style>\n",
       "<table border=\"1\" class=\"dataframe\">\n",
       "  <thead>\n",
       "    <tr style=\"text-align: right;\">\n",
       "      <th></th>\n",
       "      <th>review</th>\n",
       "      <th>label</th>\n",
       "      <th>review2</th>\n",
       "      <th>adj</th>\n",
       "      <th>verb</th>\n",
       "      <th>noun</th>\n",
       "      <th>exclamation</th>\n",
       "    </tr>\n",
       "  </thead>\n",
       "  <tbody>\n",
       "    <tr>\n",
       "      <th>0</th>\n",
       "      <td>?</td>\n",
       "      <td>문화</td>\n",
       "      <td>NaN</td>\n",
       "      <td>NaN</td>\n",
       "      <td>NaN</td>\n",
       "      <td>NaN</td>\n",
       "      <td>NaN</td>\n",
       "    </tr>\n",
       "    <tr>\n",
       "      <th>1</th>\n",
       "      <td>친절해요</td>\n",
       "      <td>문화</td>\n",
       "      <td>친절해요</td>\n",
       "      <td>친절해요</td>\n",
       "      <td>NaN</td>\n",
       "      <td>NaN</td>\n",
       "      <td>NaN</td>\n",
       "    </tr>\n",
       "  </tbody>\n",
       "</table>\n",
       "</div>"
      ],
      "text/plain": [
       "  review label review2   adj verb noun exclamation\n",
       "0      ?    문화     NaN   NaN  NaN  NaN         NaN\n",
       "1   친절해요    문화    친절해요  친절해요  NaN  NaN         NaN"
      ]
     },
     "execution_count": 3,
     "metadata": {},
     "output_type": "execute_result"
    }
   ],
   "source": [
    "df_2t = pd.read_csv('./data/review_data_2t_2.csv', encoding='utf-8')\n",
    "df_2t.head(2)"
   ]
  },
  {
   "cell_type": "code",
   "execution_count": 6,
   "id": "2e9a1258",
   "metadata": {},
   "outputs": [
    {
     "data": {
      "text/html": [
       "<div>\n",
       "<style scoped>\n",
       "    .dataframe tbody tr th:only-of-type {\n",
       "        vertical-align: middle;\n",
       "    }\n",
       "\n",
       "    .dataframe tbody tr th {\n",
       "        vertical-align: top;\n",
       "    }\n",
       "\n",
       "    .dataframe thead th {\n",
       "        text-align: right;\n",
       "    }\n",
       "</style>\n",
       "<table border=\"1\" class=\"dataframe\">\n",
       "  <thead>\n",
       "    <tr style=\"text-align: right;\">\n",
       "      <th></th>\n",
       "      <th>리뷰</th>\n",
       "      <th>음식유형</th>\n",
       "      <th>review2</th>\n",
       "      <th>adj</th>\n",
       "      <th>verb</th>\n",
       "      <th>noun</th>\n",
       "      <th>exclamation</th>\n",
       "    </tr>\n",
       "  </thead>\n",
       "  <tbody>\n",
       "    <tr>\n",
       "      <th>0</th>\n",
       "      <td>👍</td>\n",
       "      <td>디저트</td>\n",
       "      <td>NaN</td>\n",
       "      <td>NaN</td>\n",
       "      <td>NaN</td>\n",
       "      <td>NaN</td>\n",
       "      <td>NaN</td>\n",
       "    </tr>\n",
       "    <tr>\n",
       "      <th>1</th>\n",
       "      <td>굿</td>\n",
       "      <td>디저트</td>\n",
       "      <td>굿</td>\n",
       "      <td>NaN</td>\n",
       "      <td>NaN</td>\n",
       "      <td>굿</td>\n",
       "      <td>NaN</td>\n",
       "    </tr>\n",
       "  </tbody>\n",
       "</table>\n",
       "</div>"
      ],
      "text/plain": [
       "  리뷰 음식유형 review2  adj verb noun exclamation\n",
       "0  👍  디저트     NaN  NaN  NaN  NaN         NaN\n",
       "1  굿  디저트       굿  NaN  NaN    굿         NaN"
      ]
     },
     "execution_count": 6,
     "metadata": {},
     "output_type": "execute_result"
    }
   ],
   "source": [
    "df_3t = pd.read_csv('./data/review_data_3t_2.csv', encoding='utf-8')\n",
    "df_3t.head(2)"
   ]
  },
  {
   "cell_type": "code",
   "execution_count": 8,
   "id": "e806c1dc",
   "metadata": {},
   "outputs": [
    {
     "name": "stdout",
     "output_type": "stream",
     "text": [
      "<class 'pandas.core.frame.DataFrame'>\n",
      "RangeIndex: 123983 entries, 0 to 123982\n",
      "Data columns (total 7 columns):\n",
      " #   Column       Non-Null Count   Dtype \n",
      "---  ------       --------------   ----- \n",
      " 0   label        123983 non-null  object\n",
      " 1   review       123983 non-null  object\n",
      " 2   review2      123983 non-null  object\n",
      " 3   adj          121758 non-null  object\n",
      " 4   verb         122764 non-null  object\n",
      " 5   noun         123833 non-null  object\n",
      " 6   exclamation  30626 non-null   object\n",
      "dtypes: object(7)\n",
      "memory usage: 6.6+ MB\n"
     ]
    }
   ],
   "source": [
    "df_1t.info()"
   ]
  },
  {
   "cell_type": "code",
   "execution_count": 7,
   "id": "8206350a",
   "metadata": {},
   "outputs": [
    {
     "name": "stdout",
     "output_type": "stream",
     "text": [
      "<class 'pandas.core.frame.DataFrame'>\n",
      "RangeIndex: 141254 entries, 0 to 141253\n",
      "Data columns (total 7 columns):\n",
      " #   Column       Non-Null Count   Dtype \n",
      "---  ------       --------------   ----- \n",
      " 0   review       141254 non-null  object\n",
      " 1   label        141254 non-null  object\n",
      " 2   review2      136766 non-null  object\n",
      " 3   adj          101343 non-null  object\n",
      " 4   verb         59979 non-null   object\n",
      " 5   noun         93857 non-null   object\n",
      " 6   exclamation  1212 non-null    object\n",
      "dtypes: object(7)\n",
      "memory usage: 7.5+ MB\n"
     ]
    }
   ],
   "source": [
    "df_2t.info()"
   ]
  },
  {
   "cell_type": "code",
   "execution_count": 9,
   "id": "4393031d",
   "metadata": {},
   "outputs": [
    {
     "name": "stdout",
     "output_type": "stream",
     "text": [
      "<class 'pandas.core.frame.DataFrame'>\n",
      "RangeIndex: 123749 entries, 0 to 123748\n",
      "Data columns (total 7 columns):\n",
      " #   Column       Non-Null Count   Dtype \n",
      "---  ------       --------------   ----- \n",
      " 0   리뷰           117078 non-null  object\n",
      " 1   음식유형         123749 non-null  object\n",
      " 2   review2      115595 non-null  object\n",
      " 3   adj          95611 non-null   object\n",
      " 4   verb         64770 non-null   object\n",
      " 5   noun         97115 non-null   object\n",
      " 6   exclamation  1270 non-null    object\n",
      "dtypes: object(7)\n",
      "memory usage: 6.6+ MB\n"
     ]
    }
   ],
   "source": [
    "df_3t.info()"
   ]
  },
  {
   "cell_type": "markdown",
   "id": "f9e8db08",
   "metadata": {},
   "source": [
    "### 형용사 중복 제거"
   ]
  },
  {
   "cell_type": "code",
   "execution_count": 15,
   "id": "a8e1f40d",
   "metadata": {},
   "outputs": [
    {
     "data": {
      "text/plain": [
       "235178"
      ]
     },
     "execution_count": 15,
     "metadata": {},
     "output_type": "execute_result"
    }
   ],
   "source": [
    "# 중복제거전\n",
    "len(' '.join(df_2t['adj'].dropna().sort_values()).split())"
   ]
  },
  {
   "cell_type": "code",
   "execution_count": 29,
   "id": "60e9a652",
   "metadata": {},
   "outputs": [
    {
     "name": "stdout",
     "output_type": "stream",
     "text": [
      "114700\n"
     ]
    }
   ],
   "source": [
    "# 중복제거\n",
    "# 'adj'열 결측치 제거 후 오름차순 정렬후 중복제거 후 공백을 구분자로 한개의 문자열로 만든뒤 공백을 구분자로 리스트 변환\n",
    "adj_list_1t = ' '.join(df_1t['adj'].dropna().sort_values().drop_duplicates()).split()\n",
    "# 리스트 내의 중복 제거\n",
    "adj_list_1t = list(set(adj_list_1t))\n",
    "print(len(adj_list_1t))"
   ]
  },
  {
   "cell_type": "code",
   "execution_count": 28,
   "id": "70b0c9d3",
   "metadata": {},
   "outputs": [
    {
     "name": "stdout",
     "output_type": "stream",
     "text": [
      "12912\n"
     ]
    }
   ],
   "source": [
    "# 중복제거후\n",
    "adj_list_2t = ' '.join(df_2t['adj'].dropna().sort_values().drop_duplicates()).split()\n",
    "adj_list_2t = list(set(adj_list_2t))\n",
    "print(len(adj_list_2t))"
   ]
  },
  {
   "cell_type": "code",
   "execution_count": 30,
   "id": "dad84705",
   "metadata": {},
   "outputs": [
    {
     "name": "stdout",
     "output_type": "stream",
     "text": [
      "11990\n"
     ]
    }
   ],
   "source": [
    "# 중복제거후\n",
    "adj_list_3t = ' '.join(df_3t['adj'].dropna().sort_values().drop_duplicates()).split()\n",
    "adj_list_3t = list(set(adj_list_3t))\n",
    "print(len(adj_list_3t))"
   ]
  },
  {
   "cell_type": "code",
   "execution_count": 35,
   "id": "4f3c99b8",
   "metadata": {},
   "outputs": [
    {
     "data": {
      "text/plain": [
       "19408"
      ]
     },
     "execution_count": 35,
     "metadata": {},
     "output_type": "execute_result"
    }
   ],
   "source": [
    "# 2,3팀 병합 후 중복제거 후 형용사 카운트\n",
    "tmp=pd.concat([pd.Series(adj_list_2t),pd.Series(adj_list_3t)]).drop_duplicates()\n",
    "len(tmp)"
   ]
  },
  {
   "cell_type": "code",
   "execution_count": 37,
   "id": "e2196434",
   "metadata": {},
   "outputs": [
    {
     "data": {
      "text/plain": [
       "120042"
      ]
     },
     "execution_count": 37,
     "metadata": {},
     "output_type": "execute_result"
    }
   ],
   "source": [
    "# 1,2,3팀 병합 후 중복제거 후 형용사 카운트\n",
    "tmp=pd.concat([pd.Series(adj_list_1t),pd.Series(adj_list_2t),pd.Series(adj_list_3t)]).drop_duplicates()\n",
    "len(tmp)"
   ]
  },
  {
   "cell_type": "markdown",
   "id": "d2a859a2",
   "metadata": {},
   "source": [
    "### 형용사 어간 추출"
   ]
  },
  {
   "cell_type": "code",
   "execution_count": 168,
   "id": "f54bd973",
   "metadata": {},
   "outputs": [
    {
     "name": "stderr",
     "output_type": "stream",
     "text": [
      "100%|█████████████████████████████████████████████████████████████████████████| 114700/114700 [02:06<00:00, 908.95it/s]\n"
     ]
    }
   ],
   "source": [
    "from tqdm import tqdm\n",
    "tqdm.pandas()\n",
    "adj_stem_list_1t = pd.Series(adj_list_1t).progress_map(extract_stem)"
   ]
  },
  {
   "cell_type": "code",
   "execution_count": 177,
   "id": "047d738e",
   "metadata": {},
   "outputs": [
    {
     "data": {
      "text/plain": [
       "0        가깝다\n",
       "1       가난하다\n",
       "2       가냘프다\n",
       "3       가녀리다\n",
       "4        가늘다\n",
       "        ... \n",
       "2065     힘나다\n",
       "2066     힘드다\n",
       "2067     힘들다\n",
       "2068     힘없다\n",
       "2069     힘차다\n",
       "Length: 2070, dtype: object"
      ]
     },
     "execution_count": 177,
     "metadata": {},
     "output_type": "execute_result"
    }
   ],
   "source": [
    "# 중복제거\n",
    "adj_stem_list_1t_unique = adj_stem_list_1t.drop_duplicates()\n",
    "filtered_adj_stem_list_1t_unique = adj_stem_list_1t_unique[adj_stem_list_1t_unique.map(lambda x:len(x) > 1)]\n",
    "filtered_adj_stem_list_1t = filtered_adj_stem_list_1t_unique.sort_values().reset_index(drop=True)\n",
    "filtered_adj_stem_list_1t"
   ]
  },
  {
   "cell_type": "code",
   "execution_count": 156,
   "id": "5906a654",
   "metadata": {},
   "outputs": [
    {
     "name": "stderr",
     "output_type": "stream",
     "text": [
      "100%|██████████████████████████████████████████████████████████████████████████| 12912/12912 [00:11<00:00, 1137.15it/s]\n"
     ]
    }
   ],
   "source": [
    "from tqdm import tqdm\n",
    "tqdm.pandas()\n",
    "adj_stem_list_2t = pd.Series(adj_list_2t).progress_map(extract_stem)"
   ]
  },
  {
   "cell_type": "code",
   "execution_count": 175,
   "id": "539c894c",
   "metadata": {},
   "outputs": [],
   "source": [
    "# 중복제거\n",
    "adj_stem_list_2t_unique = adj_stem_list_2t.drop_duplicates()\n",
    "filtered_adj_stem_list_2t_unique = adj_stem_list_2t_unique[adj_stem_list_2t_unique.map(lambda x:len(x) > 1)]\n",
    "filtered_adj_stem_list_2t = filtered_adj_stem_list_2t_unique.sort_values().reset_index(drop=True)"
   ]
  },
  {
   "cell_type": "code",
   "execution_count": 176,
   "id": "1fcbb287",
   "metadata": {},
   "outputs": [
    {
     "data": {
      "text/plain": [
       "0       가깝다\n",
       "1      가난하다\n",
       "2       가늘다\n",
       "3      가능하다\n",
       "4      가득하다\n",
       "       ... \n",
       "988     힘나다\n",
       "989     힘드다\n",
       "990     힘들다\n",
       "991     힘없다\n",
       "992     힘차다\n",
       "Length: 993, dtype: object"
      ]
     },
     "execution_count": 176,
     "metadata": {},
     "output_type": "execute_result"
    }
   ],
   "source": [
    "filtered_adj_stem_list_2t"
   ]
  },
  {
   "cell_type": "code",
   "execution_count": 171,
   "id": "168378bf",
   "metadata": {},
   "outputs": [
    {
     "name": "stderr",
     "output_type": "stream",
     "text": [
      "100%|██████████████████████████████████████████████████████████████████████████| 11990/11990 [00:11<00:00, 1046.76it/s]\n"
     ]
    }
   ],
   "source": [
    "from tqdm import tqdm\n",
    "tqdm.pandas()\n",
    "adj_stem_list_3t = pd.Series(adj_list_3t).progress_map(extract_stem)"
   ]
  },
  {
   "cell_type": "code",
   "execution_count": 174,
   "id": "3aab2e9e",
   "metadata": {},
   "outputs": [
    {
     "data": {
      "text/plain": [
       "0       가깝다\n",
       "1       가늘다\n",
       "2      가능하다\n",
       "3      가득하다\n",
       "4       가볍다\n",
       "       ... \n",
       "867    희한하다\n",
       "868     힘겹다\n",
       "869     힘드다\n",
       "870     힘들다\n",
       "871     힘차다\n",
       "Length: 872, dtype: object"
      ]
     },
     "execution_count": 174,
     "metadata": {},
     "output_type": "execute_result"
    }
   ],
   "source": [
    "# 중복제거\n",
    "adj_stem_list_3t_unique = adj_stem_list_3t.drop_duplicates()\n",
    "filtered_adj_stem_list_3t_unique = adj_stem_list_3t_unique[adj_stem_list_3t_unique.map(lambda x:len(x) > 1)]\n",
    "filtered_adj_stem_list_3t = filtered_adj_stem_list_3t_unique.sort_values().reset_index(drop=True)\n",
    "filtered_adj_stem_list_3t"
   ]
  },
  {
   "cell_type": "markdown",
   "id": "3334d6f5",
   "metadata": {},
   "source": [
    "### 형용사 어간 파일 저장"
   ]
  },
  {
   "cell_type": "code",
   "execution_count": 186,
   "id": "5a4e81d4",
   "metadata": {},
   "outputs": [],
   "source": [
    "filtered_adj_stem_list_1t.to_csv('./data/sentimental_1t_adj.csv', index=False, encoding='cp949')"
   ]
  },
  {
   "cell_type": "code",
   "execution_count": 187,
   "id": "34748c18",
   "metadata": {},
   "outputs": [],
   "source": [
    "filtered_adj_stem_list_2t.to_csv('./data/sentimental_2t_adj.csv', index=False, encoding='cp949')"
   ]
  },
  {
   "cell_type": "code",
   "execution_count": 188,
   "id": "a7628803",
   "metadata": {},
   "outputs": [],
   "source": [
    "filtered_adj_stem_list_3t.to_csv('./data/sentimental_3t_adj.csv', index=False, encoding='cp949')"
   ]
  },
  {
   "cell_type": "code",
   "execution_count": 181,
   "id": "282f4006",
   "metadata": {},
   "outputs": [
    {
     "data": {
      "text/html": [
       "<div>\n",
       "<style scoped>\n",
       "    .dataframe tbody tr th:only-of-type {\n",
       "        vertical-align: middle;\n",
       "    }\n",
       "\n",
       "    .dataframe tbody tr th {\n",
       "        vertical-align: top;\n",
       "    }\n",
       "\n",
       "    .dataframe thead th {\n",
       "        text-align: right;\n",
       "    }\n",
       "</style>\n",
       "<table border=\"1\" class=\"dataframe\">\n",
       "  <thead>\n",
       "    <tr style=\"text-align: right;\">\n",
       "      <th></th>\n",
       "      <th>0</th>\n",
       "    </tr>\n",
       "  </thead>\n",
       "  <tbody>\n",
       "    <tr>\n",
       "      <th>0</th>\n",
       "      <td>가깝다</td>\n",
       "    </tr>\n",
       "    <tr>\n",
       "      <th>1</th>\n",
       "      <td>가난하다</td>\n",
       "    </tr>\n",
       "    <tr>\n",
       "      <th>2</th>\n",
       "      <td>가냘프다</td>\n",
       "    </tr>\n",
       "    <tr>\n",
       "      <th>3</th>\n",
       "      <td>가녀리다</td>\n",
       "    </tr>\n",
       "    <tr>\n",
       "      <th>4</th>\n",
       "      <td>가늘다</td>\n",
       "    </tr>\n",
       "  </tbody>\n",
       "</table>\n",
       "</div>"
      ],
      "text/plain": [
       "      0\n",
       "0   가깝다\n",
       "1  가난하다\n",
       "2  가냘프다\n",
       "3  가녀리다\n",
       "4   가늘다"
      ]
     },
     "execution_count": 181,
     "metadata": {},
     "output_type": "execute_result"
    }
   ],
   "source": [
    "tmp = pd.read_csv('./data/sentimental_1t.csv')\n",
    "tmp.head()"
   ]
  },
  {
   "cell_type": "markdown",
   "id": "6bf3ac9e",
   "metadata": {},
   "source": [
    "### 동사 어간 추출"
   ]
  },
  {
   "cell_type": "code",
   "execution_count": null,
   "id": "d43899f2",
   "metadata": {},
   "outputs": [],
   "source": [
    "from tqdm import tqdm\n",
    "tqdm.pandas()\n",
    "verb_stem_list_1t = pd.Series(adj_list_1t).progress_map(extract_stem)"
   ]
  }
 ],
 "metadata": {
  "kernelspec": {
   "display_name": "Python 3 (ipykernel)",
   "language": "python",
   "name": "python3"
  },
  "language_info": {
   "codemirror_mode": {
    "name": "ipython",
    "version": 3
   },
   "file_extension": ".py",
   "mimetype": "text/x-python",
   "name": "python",
   "nbconvert_exporter": "python",
   "pygments_lexer": "ipython3",
   "version": "3.11.5"
  },
  "toc": {
   "base_numbering": 1,
   "nav_menu": {},
   "number_sections": true,
   "sideBar": true,
   "skip_h1_title": false,
   "title_cell": "Table of Contents",
   "title_sidebar": "Contents",
   "toc_cell": false,
   "toc_position": {},
   "toc_section_display": true,
   "toc_window_display": false
  },
  "varInspector": {
   "cols": {
    "lenName": 16,
    "lenType": 16,
    "lenVar": 40
   },
   "kernels_config": {
    "python": {
     "delete_cmd_postfix": "",
     "delete_cmd_prefix": "del ",
     "library": "var_list.py",
     "varRefreshCmd": "print(var_dic_list())"
    },
    "r": {
     "delete_cmd_postfix": ") ",
     "delete_cmd_prefix": "rm(",
     "library": "var_list.r",
     "varRefreshCmd": "cat(var_dic_list()) "
    }
   },
   "types_to_exclude": [
    "module",
    "function",
    "builtin_function_or_method",
    "instance",
    "_Feature"
   ],
   "window_display": false
  }
 },
 "nbformat": 4,
 "nbformat_minor": 5
}
