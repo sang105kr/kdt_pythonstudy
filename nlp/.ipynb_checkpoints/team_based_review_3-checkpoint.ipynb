{
 "cells": [
  {
   "cell_type": "markdown",
   "id": "0ba68c18",
   "metadata": {},
   "source": [
    "## 형용사, 동사 어간추출"
   ]
  },
  {
   "cell_type": "code",
   "execution_count": 173,
   "id": "9d9a3dc3",
   "metadata": {},
   "outputs": [],
   "source": [
    "import pandas as pd\n",
    "import numpy as np\n",
    "from konlpy.tag import Okt\n",
    "okt = Okt()"
   ]
  },
  {
   "cell_type": "code",
   "execution_count": 187,
   "id": "1ef785c9",
   "metadata": {},
   "outputs": [],
   "source": [
    "def extract_stem(words, tokenizer):\n",
    "    # 문자열을 포함한 다양한 타입에서 NaN 확인\n",
    "    if pd.isna(words):\n",
    "        return\n",
    "\n",
    "    # 전체 텍스트에 대해 한 번에 형태소 분석을 수행\n",
    "    morphs = tokenizer.morphs(words, stem=True)\n",
    "    \n",
    "    # 결과에서 어간만 추출하여 조인\n",
    "    return ' '.join(morph for morph in morphs if morph)"
   ]
  },
  {
   "cell_type": "code",
   "execution_count": 175,
   "id": "5adbe3e3",
   "metadata": {},
   "outputs": [
    {
     "data": {
      "text/plain": [
       "'좋다 만족스럽다'"
      ]
     },
     "execution_count": 175,
     "metadata": {},
     "output_type": "execute_result"
    }
   ],
   "source": [
    "extract_stem(df_2t.loc[2,'adj'],okt)"
   ]
  },
  {
   "cell_type": "code",
   "execution_count": 139,
   "id": "133674ae",
   "metadata": {},
   "outputs": [
    {
     "data": {
      "text/html": [
       "<div>\n",
       "<style scoped>\n",
       "    .dataframe tbody tr th:only-of-type {\n",
       "        vertical-align: middle;\n",
       "    }\n",
       "\n",
       "    .dataframe tbody tr th {\n",
       "        vertical-align: top;\n",
       "    }\n",
       "\n",
       "    .dataframe thead th {\n",
       "        text-align: right;\n",
       "    }\n",
       "</style>\n",
       "<table border=\"1\" class=\"dataframe\">\n",
       "  <thead>\n",
       "    <tr style=\"text-align: right;\">\n",
       "      <th></th>\n",
       "      <th>label</th>\n",
       "      <th>review</th>\n",
       "      <th>review2</th>\n",
       "      <th>adj</th>\n",
       "      <th>verb</th>\n",
       "      <th>noun</th>\n",
       "      <th>exclamation</th>\n",
       "    </tr>\n",
       "  </thead>\n",
       "  <tbody>\n",
       "    <tr>\n",
       "      <th>0</th>\n",
       "      <td>희양산</td>\n",
       "      <td>[2일차: 희양산 - 대야산4山_희양산 50m© NAVER Corp.더보기 /Ope...</td>\n",
       "      <td>일차 희양산 대야산희양산 더보기 지도 데이터 지도 컨트롤러 범례부동산거리읍면동시군구...</td>\n",
       "      <td>간단한 시원한 괜찮다 어렵고 길도 험하고 불친절한 그렇지 나쁘지 많은 미끄럽 없는 ...</td>\n",
       "      <td>둘러 삼아 바라본 하면 나오는 찾아 찾아보니 앞서던 넘치고 않았던 않다 거칠어진 기...</td>\n",
       "      <td>일차 희양산 대야산 희양산 더 보기 지도 데이터 지도 컨트롤러 범례 부동산 거리 읍...</td>\n",
       "      <td>휴</td>\n",
       "    </tr>\n",
       "    <tr>\n",
       "      <th>1</th>\n",
       "      <td>희양산</td>\n",
       "      <td>[몇년전 부봉인가 도명산을 올랐을때 유난히 대머리가 심한 희양산이 눈에 띄어 언젠가...</td>\n",
       "      <td>몇년전 부봉인가 도명산을 올랐을때 유난히 대머리가 심한 희양산이 눈에 띄어 언젠가 ...</td>\n",
       "      <td>심한 뿌옇다 맑아진다니 간략히 희 많지 짧게 덥고 모호한데 예쁘다고 그래 있는 있 ...</td>\n",
       "      <td>올랐을 띄어 가보고 싶었는데 나면 트여 볼거란 들었다 헌데 가르는 기대는 버리지 세...</td>\n",
       "      <td>년전 부 봉인 도명 산 때 대머리 희양산 눈 한번 오늘이 그날 토요일 새벽 비 그 ...</td>\n",
       "      <td>끄응 아 엉</td>\n",
       "    </tr>\n",
       "  </tbody>\n",
       "</table>\n",
       "</div>"
      ],
      "text/plain": [
       "  label                                             review  \\\n",
       "0   희양산  [2일차: 희양산 - 대야산4山_희양산 50m© NAVER Corp.더보기 /Ope...   \n",
       "1   희양산  [몇년전 부봉인가 도명산을 올랐을때 유난히 대머리가 심한 희양산이 눈에 띄어 언젠가...   \n",
       "\n",
       "                                             review2  \\\n",
       "0  일차 희양산 대야산희양산 더보기 지도 데이터 지도 컨트롤러 범례부동산거리읍면동시군구...   \n",
       "1  몇년전 부봉인가 도명산을 올랐을때 유난히 대머리가 심한 희양산이 눈에 띄어 언젠가 ...   \n",
       "\n",
       "                                                 adj  \\\n",
       "0  간단한 시원한 괜찮다 어렵고 길도 험하고 불친절한 그렇지 나쁘지 많은 미끄럽 없는 ...   \n",
       "1  심한 뿌옇다 맑아진다니 간략히 희 많지 짧게 덥고 모호한데 예쁘다고 그래 있는 있 ...   \n",
       "\n",
       "                                                verb  \\\n",
       "0  둘러 삼아 바라본 하면 나오는 찾아 찾아보니 앞서던 넘치고 않았던 않다 거칠어진 기...   \n",
       "1  올랐을 띄어 가보고 싶었는데 나면 트여 볼거란 들었다 헌데 가르는 기대는 버리지 세...   \n",
       "\n",
       "                                                noun exclamation  \n",
       "0  일차 희양산 대야산 희양산 더 보기 지도 데이터 지도 컨트롤러 범례 부동산 거리 읍...           휴  \n",
       "1  년전 부 봉인 도명 산 때 대머리 희양산 눈 한번 오늘이 그날 토요일 새벽 비 그 ...      끄응 아 엉  "
      ]
     },
     "execution_count": 139,
     "metadata": {},
     "output_type": "execute_result"
    }
   ],
   "source": [
    "df_1t = pd.read_csv('./data/review_data_1t_2.csv', encoding='utf-8')\n",
    "df_1t.head(2)"
   ]
  },
  {
   "cell_type": "code",
   "execution_count": 140,
   "id": "4624e26d",
   "metadata": {},
   "outputs": [
    {
     "data": {
      "text/html": [
       "<div>\n",
       "<style scoped>\n",
       "    .dataframe tbody tr th:only-of-type {\n",
       "        vertical-align: middle;\n",
       "    }\n",
       "\n",
       "    .dataframe tbody tr th {\n",
       "        vertical-align: top;\n",
       "    }\n",
       "\n",
       "    .dataframe thead th {\n",
       "        text-align: right;\n",
       "    }\n",
       "</style>\n",
       "<table border=\"1\" class=\"dataframe\">\n",
       "  <thead>\n",
       "    <tr style=\"text-align: right;\">\n",
       "      <th></th>\n",
       "      <th>review</th>\n",
       "      <th>label</th>\n",
       "      <th>review2</th>\n",
       "      <th>adj</th>\n",
       "      <th>verb</th>\n",
       "      <th>noun</th>\n",
       "      <th>exclamation</th>\n",
       "    </tr>\n",
       "  </thead>\n",
       "  <tbody>\n",
       "    <tr>\n",
       "      <th>0</th>\n",
       "      <td>?</td>\n",
       "      <td>문화</td>\n",
       "      <td>NaN</td>\n",
       "      <td>NaN</td>\n",
       "      <td>NaN</td>\n",
       "      <td>NaN</td>\n",
       "      <td>NaN</td>\n",
       "    </tr>\n",
       "    <tr>\n",
       "      <th>1</th>\n",
       "      <td>친절해요</td>\n",
       "      <td>문화</td>\n",
       "      <td>친절해요</td>\n",
       "      <td>친절해요</td>\n",
       "      <td>NaN</td>\n",
       "      <td>NaN</td>\n",
       "      <td>NaN</td>\n",
       "    </tr>\n",
       "    <tr>\n",
       "      <th>2</th>\n",
       "      <td>좋아요 만족스러워요</td>\n",
       "      <td>문화</td>\n",
       "      <td>좋아요 만족스러워요</td>\n",
       "      <td>좋아요 만족스러워요</td>\n",
       "      <td>NaN</td>\n",
       "      <td>NaN</td>\n",
       "      <td>NaN</td>\n",
       "    </tr>\n",
       "  </tbody>\n",
       "</table>\n",
       "</div>"
      ],
      "text/plain": [
       "       review label     review2         adj verb noun exclamation\n",
       "0           ?    문화         NaN         NaN  NaN  NaN         NaN\n",
       "1        친절해요    문화        친절해요        친절해요  NaN  NaN         NaN\n",
       "2  좋아요 만족스러워요    문화  좋아요 만족스러워요  좋아요 만족스러워요  NaN  NaN         NaN"
      ]
     },
     "execution_count": 140,
     "metadata": {},
     "output_type": "execute_result"
    }
   ],
   "source": [
    "df_2t = pd.read_csv('./data/review_data_2t_2.csv', encoding='utf-8')\n",
    "df_2t.head(3)"
   ]
  },
  {
   "cell_type": "code",
   "execution_count": 141,
   "id": "68b1978d",
   "metadata": {},
   "outputs": [
    {
     "data": {
      "text/html": [
       "<div>\n",
       "<style scoped>\n",
       "    .dataframe tbody tr th:only-of-type {\n",
       "        vertical-align: middle;\n",
       "    }\n",
       "\n",
       "    .dataframe tbody tr th {\n",
       "        vertical-align: top;\n",
       "    }\n",
       "\n",
       "    .dataframe thead th {\n",
       "        text-align: right;\n",
       "    }\n",
       "</style>\n",
       "<table border=\"1\" class=\"dataframe\">\n",
       "  <thead>\n",
       "    <tr style=\"text-align: right;\">\n",
       "      <th></th>\n",
       "      <th>리뷰</th>\n",
       "      <th>음식유형</th>\n",
       "      <th>review2</th>\n",
       "      <th>adj</th>\n",
       "      <th>verb</th>\n",
       "      <th>noun</th>\n",
       "      <th>exclamation</th>\n",
       "    </tr>\n",
       "  </thead>\n",
       "  <tbody>\n",
       "    <tr>\n",
       "      <th>0</th>\n",
       "      <td>👍</td>\n",
       "      <td>디저트</td>\n",
       "      <td>NaN</td>\n",
       "      <td>NaN</td>\n",
       "      <td>NaN</td>\n",
       "      <td>NaN</td>\n",
       "      <td>NaN</td>\n",
       "    </tr>\n",
       "    <tr>\n",
       "      <th>1</th>\n",
       "      <td>굿</td>\n",
       "      <td>디저트</td>\n",
       "      <td>굿</td>\n",
       "      <td>NaN</td>\n",
       "      <td>NaN</td>\n",
       "      <td>굿</td>\n",
       "      <td>NaN</td>\n",
       "    </tr>\n",
       "  </tbody>\n",
       "</table>\n",
       "</div>"
      ],
      "text/plain": [
       "  리뷰 음식유형 review2  adj verb noun exclamation\n",
       "0  👍  디저트     NaN  NaN  NaN  NaN         NaN\n",
       "1  굿  디저트       굿  NaN  NaN    굿         NaN"
      ]
     },
     "execution_count": 141,
     "metadata": {},
     "output_type": "execute_result"
    }
   ],
   "source": [
    "df_3t = pd.read_csv('./data/review_data_3t_2.csv', encoding='utf-8')\n",
    "df_3t.head(2)"
   ]
  },
  {
   "cell_type": "markdown",
   "id": "fe66e8cb",
   "metadata": {},
   "source": [
    "### 형용사 어간 추출하여 파생열 만들기"
   ]
  },
  {
   "cell_type": "code",
   "execution_count": 188,
   "id": "3fb8d541",
   "metadata": {},
   "outputs": [],
   "source": [
    "from tqdm import tqdm\n",
    "tqdm.pandas()\n",
    "from functools import partial"
   ]
  },
  {
   "cell_type": "code",
   "execution_count": 189,
   "id": "f61e2506",
   "metadata": {},
   "outputs": [],
   "source": [
    "# extract_stem 함수에 대한 partial 함수 생성\n",
    "extract_stem_okt = partial(extract_stem, tokenizer=okt)"
   ]
  },
  {
   "cell_type": "code",
   "execution_count": 196,
   "id": "03b87715",
   "metadata": {},
   "outputs": [
    {
     "name": "stderr",
     "output_type": "stream",
     "text": [
      "100%|██████████████████████████████████████████████████████████████████████████| 123983/123983 [21:02<00:00, 98.21it/s]\n"
     ]
    }
   ],
   "source": [
    "df_1t['adj_stem'] = df_1t['adj'].progress_map(extract_stem_okt)"
   ]
  },
  {
   "cell_type": "code",
   "execution_count": 191,
   "id": "7d40e40a",
   "metadata": {},
   "outputs": [
    {
     "name": "stderr",
     "output_type": "stream",
     "text": [
      "100%|████████████████████████████████████████████████████████████████████████| 141254/141254 [01:17<00:00, 1832.97it/s]\n"
     ]
    }
   ],
   "source": [
    "df_2t['adj_stem'] = df_2t['adj'].progress_map(extract_stem_okt)"
   ]
  },
  {
   "cell_type": "code",
   "execution_count": 192,
   "id": "9ecc3a61",
   "metadata": {},
   "outputs": [
    {
     "name": "stderr",
     "output_type": "stream",
     "text": [
      "100%|████████████████████████████████████████████████████████████████████████| 123749/123749 [01:26<00:00, 1429.20it/s]\n"
     ]
    }
   ],
   "source": [
    "df_3t['adj_stem'] = df_3t['adj'].progress_map(extract_stem_okt)"
   ]
  },
  {
   "cell_type": "markdown",
   "id": "ffd38cb0",
   "metadata": {},
   "source": [
    "### 동사 어간 추출하여 파생열 만들기"
   ]
  },
  {
   "cell_type": "code",
   "execution_count": 201,
   "id": "066b15d3",
   "metadata": {},
   "outputs": [
    {
     "name": "stderr",
     "output_type": "stream",
     "text": [
      "100%|██████████████████████████████████████████████████████████████████████████| 123983/123983 [40:32<00:00, 50.96it/s]\n"
     ]
    }
   ],
   "source": [
    "df_1t['verb_stem'] = df_1t['verb'].progress_map(extract_stem_okt)"
   ]
  },
  {
   "cell_type": "code",
   "execution_count": 193,
   "id": "0cb82cfa",
   "metadata": {},
   "outputs": [
    {
     "name": "stderr",
     "output_type": "stream",
     "text": [
      "100%|████████████████████████████████████████████████████████████████████████| 141254/141254 [01:18<00:00, 1809.69it/s]\n"
     ]
    }
   ],
   "source": [
    "df_2t['verb_stem'] = df_2t['verb'].progress_map(extract_stem_okt)"
   ]
  },
  {
   "cell_type": "code",
   "execution_count": 194,
   "id": "9e5f56b7",
   "metadata": {},
   "outputs": [
    {
     "name": "stderr",
     "output_type": "stream",
     "text": [
      "100%|████████████████████████████████████████████████████████████████████████| 123749/123749 [01:05<00:00, 1902.42it/s]\n"
     ]
    }
   ],
   "source": [
    "df_3t['verb_stem'] = df_3t['verb'].progress_map(extract_stem_okt)"
   ]
  },
  {
   "cell_type": "code",
   "execution_count": 181,
   "id": "e5152c28",
   "metadata": {},
   "outputs": [
    {
     "data": {
      "text/html": [
       "<div>\n",
       "<style scoped>\n",
       "    .dataframe tbody tr th:only-of-type {\n",
       "        vertical-align: middle;\n",
       "    }\n",
       "\n",
       "    .dataframe tbody tr th {\n",
       "        vertical-align: top;\n",
       "    }\n",
       "\n",
       "    .dataframe thead th {\n",
       "        text-align: right;\n",
       "    }\n",
       "</style>\n",
       "<table border=\"1\" class=\"dataframe\">\n",
       "  <thead>\n",
       "    <tr style=\"text-align: right;\">\n",
       "      <th></th>\n",
       "      <th>adj</th>\n",
       "      <th>adj_stem</th>\n",
       "    </tr>\n",
       "  </thead>\n",
       "  <tbody>\n",
       "    <tr>\n",
       "      <th>0</th>\n",
       "      <td>NaN</td>\n",
       "      <td>None</td>\n",
       "    </tr>\n",
       "    <tr>\n",
       "      <th>1</th>\n",
       "      <td>친절해요</td>\n",
       "      <td>친절하다</td>\n",
       "    </tr>\n",
       "    <tr>\n",
       "      <th>2</th>\n",
       "      <td>좋아요 만족스러워요</td>\n",
       "      <td>좋다 만족스럽다</td>\n",
       "    </tr>\n",
       "    <tr>\n",
       "      <th>3</th>\n",
       "      <td>NaN</td>\n",
       "      <td>None</td>\n",
       "    </tr>\n",
       "    <tr>\n",
       "      <th>4</th>\n",
       "      <td>NaN</td>\n",
       "      <td>None</td>\n",
       "    </tr>\n",
       "    <tr>\n",
       "      <th>...</th>\n",
       "      <td>...</td>\n",
       "      <td>...</td>\n",
       "    </tr>\n",
       "    <tr>\n",
       "      <th>141249</th>\n",
       "      <td>꼼꼼히 다행히 좋</td>\n",
       "      <td>꼼꼼하다 다행하다 좋다</td>\n",
       "    </tr>\n",
       "    <tr>\n",
       "      <th>141250</th>\n",
       "      <td>NaN</td>\n",
       "      <td>None</td>\n",
       "    </tr>\n",
       "    <tr>\n",
       "      <th>141251</th>\n",
       "      <td>친절하십니다</td>\n",
       "      <td>친절하다</td>\n",
       "    </tr>\n",
       "    <tr>\n",
       "      <th>141252</th>\n",
       "      <td>꼼꼼히 약발라주고 있는데</td>\n",
       "      <td>꼼꼼하다 약바르다 있다</td>\n",
       "    </tr>\n",
       "    <tr>\n",
       "      <th>141253</th>\n",
       "      <td>친절하셔서 좋으시지만 꼼꼼하게 좋더라 좋아하는 이뻐 편하게</td>\n",
       "      <td>친절하다 좋다 꼼꼼하다 좋다 좋아하다 이쁘다 편하다</td>\n",
       "    </tr>\n",
       "  </tbody>\n",
       "</table>\n",
       "<p>141254 rows × 2 columns</p>\n",
       "</div>"
      ],
      "text/plain": [
       "                                     adj                      adj_stem\n",
       "0                                    NaN                          None\n",
       "1                                   친절해요                          친절하다\n",
       "2                             좋아요 만족스러워요                      좋다 만족스럽다\n",
       "3                                    NaN                          None\n",
       "4                                    NaN                          None\n",
       "...                                  ...                           ...\n",
       "141249                         꼼꼼히 다행히 좋                  꼼꼼하다 다행하다 좋다\n",
       "141250                               NaN                          None\n",
       "141251                            친절하십니다                          친절하다\n",
       "141252                     꼼꼼히 약발라주고 있는데                  꼼꼼하다 약바르다 있다\n",
       "141253  친절하셔서 좋으시지만 꼼꼼하게 좋더라 좋아하는 이뻐 편하게  친절하다 좋다 꼼꼼하다 좋다 좋아하다 이쁘다 편하다\n",
       "\n",
       "[141254 rows x 2 columns]"
      ]
     },
     "execution_count": 181,
     "metadata": {},
     "output_type": "execute_result"
    }
   ],
   "source": [
    "df_2t[['adj','adj_stem']]"
   ]
  },
  {
   "cell_type": "code",
   "execution_count": 207,
   "id": "f225a834",
   "metadata": {},
   "outputs": [],
   "source": [
    "df_1t.to_csv('./data/review_data_1t_3.csv',index=False)"
   ]
  },
  {
   "cell_type": "code",
   "execution_count": 208,
   "id": "03567e81",
   "metadata": {},
   "outputs": [],
   "source": [
    "df_2t.to_csv('./data/review_data_2t_3.csv',index=False)"
   ]
  },
  {
   "cell_type": "code",
   "execution_count": null,
   "id": "91c9c620",
   "metadata": {},
   "outputs": [],
   "source": [
    "df_3t.to_csv('./data/review_data_3t_3.csv',index=False)"
   ]
  },
  {
   "cell_type": "code",
   "execution_count": 212,
   "id": "0f380175",
   "metadata": {},
   "outputs": [],
   "source": [
    "tmp = pd.read_csv('./data/review_data_2t_3.csv')"
   ]
  },
  {
   "cell_type": "code",
   "execution_count": 213,
   "id": "c694d4b2",
   "metadata": {
    "scrolled": true
   },
   "outputs": [
    {
     "data": {
      "text/html": [
       "<div>\n",
       "<style scoped>\n",
       "    .dataframe tbody tr th:only-of-type {\n",
       "        vertical-align: middle;\n",
       "    }\n",
       "\n",
       "    .dataframe tbody tr th {\n",
       "        vertical-align: top;\n",
       "    }\n",
       "\n",
       "    .dataframe thead th {\n",
       "        text-align: right;\n",
       "    }\n",
       "</style>\n",
       "<table border=\"1\" class=\"dataframe\">\n",
       "  <thead>\n",
       "    <tr style=\"text-align: right;\">\n",
       "      <th></th>\n",
       "      <th>review</th>\n",
       "      <th>label</th>\n",
       "      <th>review2</th>\n",
       "      <th>adj</th>\n",
       "      <th>verb</th>\n",
       "      <th>noun</th>\n",
       "      <th>exclamation</th>\n",
       "      <th>adj_stem</th>\n",
       "      <th>verb_stem</th>\n",
       "    </tr>\n",
       "  </thead>\n",
       "  <tbody>\n",
       "    <tr>\n",
       "      <th>0</th>\n",
       "      <td>?</td>\n",
       "      <td>문화</td>\n",
       "      <td>NaN</td>\n",
       "      <td>NaN</td>\n",
       "      <td>NaN</td>\n",
       "      <td>NaN</td>\n",
       "      <td>NaN</td>\n",
       "      <td>NaN</td>\n",
       "      <td>NaN</td>\n",
       "    </tr>\n",
       "    <tr>\n",
       "      <th>1</th>\n",
       "      <td>친절해요</td>\n",
       "      <td>문화</td>\n",
       "      <td>친절해요</td>\n",
       "      <td>친절해요</td>\n",
       "      <td>NaN</td>\n",
       "      <td>NaN</td>\n",
       "      <td>NaN</td>\n",
       "      <td>친절하다</td>\n",
       "      <td>NaN</td>\n",
       "    </tr>\n",
       "    <tr>\n",
       "      <th>2</th>\n",
       "      <td>좋아요 만족스러워요</td>\n",
       "      <td>문화</td>\n",
       "      <td>좋아요 만족스러워요</td>\n",
       "      <td>좋아요 만족스러워요</td>\n",
       "      <td>NaN</td>\n",
       "      <td>NaN</td>\n",
       "      <td>NaN</td>\n",
       "      <td>좋다 만족스럽다</td>\n",
       "      <td>NaN</td>\n",
       "    </tr>\n",
       "    <tr>\n",
       "      <th>3</th>\n",
       "      <td>와우~~</td>\n",
       "      <td>문화</td>\n",
       "      <td>와우</td>\n",
       "      <td>NaN</td>\n",
       "      <td>NaN</td>\n",
       "      <td>와우</td>\n",
       "      <td>NaN</td>\n",
       "      <td>NaN</td>\n",
       "      <td>NaN</td>\n",
       "    </tr>\n",
       "    <tr>\n",
       "      <th>4</th>\n",
       "      <td>굿</td>\n",
       "      <td>문화</td>\n",
       "      <td>굿</td>\n",
       "      <td>NaN</td>\n",
       "      <td>NaN</td>\n",
       "      <td>굿</td>\n",
       "      <td>NaN</td>\n",
       "      <td>NaN</td>\n",
       "      <td>NaN</td>\n",
       "    </tr>\n",
       "    <tr>\n",
       "      <th>...</th>\n",
       "      <td>...</td>\n",
       "      <td>...</td>\n",
       "      <td>...</td>\n",
       "      <td>...</td>\n",
       "      <td>...</td>\n",
       "      <td>...</td>\n",
       "      <td>...</td>\n",
       "      <td>...</td>\n",
       "      <td>...</td>\n",
       "    </tr>\n",
       "    <tr>\n",
       "      <th>141249</th>\n",
       "      <td>설사를해서 병원갔어요 배를 만져보고 꼼꼼히 살펴보시더니 약은 안먹어도 되겠다고 하셔...</td>\n",
       "      <td>동물병원</td>\n",
       "      <td>설사를해서 병원갔어요 배를 만져보고 꼼꼼히 살펴보시더니 약은 안먹어도 되겠다고 하셔...</td>\n",
       "      <td>꼼꼼히 다행히 좋</td>\n",
       "      <td>해서 갔어요 만져 살펴보시더니 먹어도 되겠다고 하셔서 맞고 왔는데 졌어요</td>\n",
       "      <td>설사 병원 배 보고 약 주사 집 그다음 날</td>\n",
       "      <td>아</td>\n",
       "      <td>꼼꼼하다 다행하다 좋다</td>\n",
       "      <td>하다 가다 만지다 살펴보다 먹다 되다 하다 맞다 오다 지다</td>\n",
       "    </tr>\n",
       "    <tr>\n",
       "      <th>141250</th>\n",
       "      <td>저희 천사 데려온 곳이고 중성화부터 혈액검사까지 전부 세세하게 봐주셔서 늘 감사드립...</td>\n",
       "      <td>동물병원</td>\n",
       "      <td>저희 천사 데려온 곳이고 중성화부터 혈액검사까지 전부 세세하게 봐주셔서 늘 감사드립니다</td>\n",
       "      <td>NaN</td>\n",
       "      <td>데려온 세세하게 봐주셔서 드립니다</td>\n",
       "      <td>저희 천사 곳 중성 혈액 검사 전부 늘 감사</td>\n",
       "      <td>NaN</td>\n",
       "      <td>NaN</td>\n",
       "      <td>데려오다 세다 보다 드리다</td>\n",
       "    </tr>\n",
       "    <tr>\n",
       "      <th>141251</th>\n",
       "      <td>친절하십니다</td>\n",
       "      <td>동물병원</td>\n",
       "      <td>친절하십니다</td>\n",
       "      <td>친절하십니다</td>\n",
       "      <td>NaN</td>\n",
       "      <td>NaN</td>\n",
       "      <td>NaN</td>\n",
       "      <td>친절하다</td>\n",
       "      <td>NaN</td>\n",
       "    </tr>\n",
       "    <tr>\n",
       "      <th>141252</th>\n",
       "      <td>진료 꼼꼼히 잘봐주세요 진료후 간식도 챙겨주시고 선생님께서 산책 가자고하니 요미가 ...</td>\n",
       "      <td>동물병원</td>\n",
       "      <td>진료 꼼꼼히 잘봐주세요 진료후 간식도 챙겨주시고 선생님께서 산책 가자고하니 요미가 ...</td>\n",
       "      <td>꼼꼼히 약발라주고 있는데</td>\n",
       "      <td>봐주세요 챙겨주시고 가자고하니 따라가네요 해주신 좋아졌어요</td>\n",
       "      <td>진료 진료 후 간식 선생님 산책 요미 처방 습진 약 눈꼽끼는</td>\n",
       "      <td>NaN</td>\n",
       "      <td>꼼꼼하다 약바르다 있다</td>\n",
       "      <td>보다 챙기다 가다 따라가다 해주다 좋아지다</td>\n",
       "    </tr>\n",
       "    <tr>\n",
       "      <th>141253</th>\n",
       "      <td>선생님들이 너무 친절하셔서 동물병원은 여기만 갑니다  두분 다 좋으시지만 여자원장님...</td>\n",
       "      <td>동물병원</td>\n",
       "      <td>선생님들이 너무 친절하셔서 동물병원은 여기만 갑니다 두분 다 좋으시지만 여자원장님이...</td>\n",
       "      <td>친절하셔서 좋으시지만 꼼꼼하게 좋더라 좋아하는 이뻐 편하게</td>\n",
       "      <td>갑니다 잘 해주셔서 말못하는 잘 알잖아요 해주셔서 떨지도 않고 받고 감사합니다</td>\n",
       "      <td>선생님 동물병원 여기 분 여자 원장 나 더 설명 구 요 멍뭉이 자기 사람 더 진료</td>\n",
       "      <td>NaN</td>\n",
       "      <td>친절하다 좋다 꼼꼼하다 좋다 좋아하다 이쁘다 편하다</td>\n",
       "      <td>가다 자다 해주다 말다 자다 알다 해주다 떨다 않다 받다 감사하다</td>\n",
       "    </tr>\n",
       "  </tbody>\n",
       "</table>\n",
       "<p>141254 rows × 9 columns</p>\n",
       "</div>"
      ],
      "text/plain": [
       "                                                   review label  \\\n",
       "0                                                       ?    문화   \n",
       "1                                                    친절해요    문화   \n",
       "2                                              좋아요 만족스러워요    문화   \n",
       "3                                                    와우~~    문화   \n",
       "4                                                       굿    문화   \n",
       "...                                                   ...   ...   \n",
       "141249  설사를해서 병원갔어요 배를 만져보고 꼼꼼히 살펴보시더니 약은 안먹어도 되겠다고 하셔...  동물병원   \n",
       "141250  저희 천사 데려온 곳이고 중성화부터 혈액검사까지 전부 세세하게 봐주셔서 늘 감사드립...  동물병원   \n",
       "141251                                             친절하십니다  동물병원   \n",
       "141252  진료 꼼꼼히 잘봐주세요 진료후 간식도 챙겨주시고 선생님께서 산책 가자고하니 요미가 ...  동물병원   \n",
       "141253  선생님들이 너무 친절하셔서 동물병원은 여기만 갑니다  두분 다 좋으시지만 여자원장님...  동물병원   \n",
       "\n",
       "                                                  review2  \\\n",
       "0                                                     NaN   \n",
       "1                                                    친절해요   \n",
       "2                                              좋아요 만족스러워요   \n",
       "3                                                      와우   \n",
       "4                                                       굿   \n",
       "...                                                   ...   \n",
       "141249  설사를해서 병원갔어요 배를 만져보고 꼼꼼히 살펴보시더니 약은 안먹어도 되겠다고 하셔...   \n",
       "141250  저희 천사 데려온 곳이고 중성화부터 혈액검사까지 전부 세세하게 봐주셔서 늘 감사드립니다    \n",
       "141251                                             친절하십니다   \n",
       "141252  진료 꼼꼼히 잘봐주세요 진료후 간식도 챙겨주시고 선생님께서 산책 가자고하니 요미가 ...   \n",
       "141253  선생님들이 너무 친절하셔서 동물병원은 여기만 갑니다 두분 다 좋으시지만 여자원장님이...   \n",
       "\n",
       "                                     adj  \\\n",
       "0                                    NaN   \n",
       "1                                   친절해요   \n",
       "2                             좋아요 만족스러워요   \n",
       "3                                    NaN   \n",
       "4                                    NaN   \n",
       "...                                  ...   \n",
       "141249                         꼼꼼히 다행히 좋   \n",
       "141250                               NaN   \n",
       "141251                            친절하십니다   \n",
       "141252                     꼼꼼히 약발라주고 있는데   \n",
       "141253  친절하셔서 좋으시지만 꼼꼼하게 좋더라 좋아하는 이뻐 편하게   \n",
       "\n",
       "                                               verb  \\\n",
       "0                                               NaN   \n",
       "1                                               NaN   \n",
       "2                                               NaN   \n",
       "3                                               NaN   \n",
       "4                                               NaN   \n",
       "...                                             ...   \n",
       "141249     해서 갔어요 만져 살펴보시더니 먹어도 되겠다고 하셔서 맞고 왔는데 졌어요   \n",
       "141250                           데려온 세세하게 봐주셔서 드립니다   \n",
       "141251                                          NaN   \n",
       "141252             봐주세요 챙겨주시고 가자고하니 따라가네요 해주신 좋아졌어요   \n",
       "141253  갑니다 잘 해주셔서 말못하는 잘 알잖아요 해주셔서 떨지도 않고 받고 감사합니다   \n",
       "\n",
       "                                                 noun exclamation  \\\n",
       "0                                                 NaN         NaN   \n",
       "1                                                 NaN         NaN   \n",
       "2                                                 NaN         NaN   \n",
       "3                                                  와우         NaN   \n",
       "4                                                   굿         NaN   \n",
       "...                                               ...         ...   \n",
       "141249                        설사 병원 배 보고 약 주사 집 그다음 날           아   \n",
       "141250                       저희 천사 곳 중성 혈액 검사 전부 늘 감사         NaN   \n",
       "141251                                            NaN         NaN   \n",
       "141252              진료 진료 후 간식 선생님 산책 요미 처방 습진 약 눈꼽끼는         NaN   \n",
       "141253  선생님 동물병원 여기 분 여자 원장 나 더 설명 구 요 멍뭉이 자기 사람 더 진료         NaN   \n",
       "\n",
       "                            adj_stem                             verb_stem  \n",
       "0                                NaN                                   NaN  \n",
       "1                               친절하다                                   NaN  \n",
       "2                           좋다 만족스럽다                                   NaN  \n",
       "3                                NaN                                   NaN  \n",
       "4                                NaN                                   NaN  \n",
       "...                              ...                                   ...  \n",
       "141249                  꼼꼼하다 다행하다 좋다      하다 가다 만지다 살펴보다 먹다 되다 하다 맞다 오다 지다  \n",
       "141250                           NaN                        데려오다 세다 보다 드리다  \n",
       "141251                          친절하다                                   NaN  \n",
       "141252                  꼼꼼하다 약바르다 있다               보다 챙기다 가다 따라가다 해주다 좋아지다  \n",
       "141253  친절하다 좋다 꼼꼼하다 좋다 좋아하다 이쁘다 편하다  가다 자다 해주다 말다 자다 알다 해주다 떨다 않다 받다 감사하다  \n",
       "\n",
       "[141254 rows x 9 columns]"
      ]
     },
     "execution_count": 213,
     "metadata": {},
     "output_type": "execute_result"
    }
   ],
   "source": [
    "tmp"
   ]
  },
  {
   "cell_type": "code",
   "execution_count": null,
   "id": "c86bdd64",
   "metadata": {},
   "outputs": [],
   "source": []
  }
 ],
 "metadata": {
  "kernelspec": {
   "display_name": "Python 3 (ipykernel)",
   "language": "python",
   "name": "python3"
  },
  "language_info": {
   "codemirror_mode": {
    "name": "ipython",
    "version": 3
   },
   "file_extension": ".py",
   "mimetype": "text/x-python",
   "name": "python",
   "nbconvert_exporter": "python",
   "pygments_lexer": "ipython3",
   "version": "3.11.5"
  },
  "toc": {
   "base_numbering": 1,
   "nav_menu": {},
   "number_sections": true,
   "sideBar": true,
   "skip_h1_title": false,
   "title_cell": "Table of Contents",
   "title_sidebar": "Contents",
   "toc_cell": false,
   "toc_position": {},
   "toc_section_display": true,
   "toc_window_display": false
  },
  "varInspector": {
   "cols": {
    "lenName": 16,
    "lenType": 16,
    "lenVar": 40
   },
   "kernels_config": {
    "python": {
     "delete_cmd_postfix": "",
     "delete_cmd_prefix": "del ",
     "library": "var_list.py",
     "varRefreshCmd": "print(var_dic_list())"
    },
    "r": {
     "delete_cmd_postfix": ") ",
     "delete_cmd_prefix": "rm(",
     "library": "var_list.r",
     "varRefreshCmd": "cat(var_dic_list()) "
    }
   },
   "types_to_exclude": [
    "module",
    "function",
    "builtin_function_or_method",
    "instance",
    "_Feature"
   ],
   "window_display": false
  }
 },
 "nbformat": 4,
 "nbformat_minor": 5
}
