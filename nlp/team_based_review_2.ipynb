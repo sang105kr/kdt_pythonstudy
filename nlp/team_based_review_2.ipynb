{
 "cells": [
  {
   "cell_type": "code",
   "execution_count": 48,
   "id": "fe0faf41",
   "metadata": {},
   "outputs": [],
   "source": [
    "import pandas as pd\n",
    "import numpy as np\n",
    "import re\n",
    "from konlpy.tag import Okt"
   ]
  },
  {
   "cell_type": "code",
   "execution_count": 5,
   "id": "b22463fa",
   "metadata": {},
   "outputs": [
    {
     "data": {
      "text/html": [
       "<div>\n",
       "<style scoped>\n",
       "    .dataframe tbody tr th:only-of-type {\n",
       "        vertical-align: middle;\n",
       "    }\n",
       "\n",
       "    .dataframe tbody tr th {\n",
       "        vertical-align: top;\n",
       "    }\n",
       "\n",
       "    .dataframe thead th {\n",
       "        text-align: right;\n",
       "    }\n",
       "</style>\n",
       "<table border=\"1\" class=\"dataframe\">\n",
       "  <thead>\n",
       "    <tr style=\"text-align: right;\">\n",
       "      <th></th>\n",
       "      <th>label</th>\n",
       "      <th>review</th>\n",
       "      <th>review2</th>\n",
       "      <th>adj</th>\n",
       "      <th>verb</th>\n",
       "      <th>noun</th>\n",
       "      <th>exclamation</th>\n",
       "    </tr>\n",
       "  </thead>\n",
       "  <tbody>\n",
       "    <tr>\n",
       "      <th>0</th>\n",
       "      <td>희양산</td>\n",
       "      <td>[2일차: 희양산 - 대야산4山_희양산 50m© NAVER Corp.더보기 /Ope...</td>\n",
       "      <td>일차 희양산 대야산희양산 더보기 지도 데이터 지도 컨트롤러 범례부동산거리읍면동시군구...</td>\n",
       "      <td>간단한 시원한 괜찮다 어렵고 길도 험하고 불친절한 그렇지 나쁘지 많은 미끄럽 없는 ...</td>\n",
       "      <td>둘러 삼아 바라본 하면 나오는 찾아 찾아보니 앞서던 넘치고 않았던 않다 거칠어진 기...</td>\n",
       "      <td>일차 희양산 대야산 희양산 더 보기 지도 데이터 지도 컨트롤러 범례 부동산 거리 읍...</td>\n",
       "      <td>휴</td>\n",
       "    </tr>\n",
       "    <tr>\n",
       "      <th>1</th>\n",
       "      <td>희양산</td>\n",
       "      <td>[몇년전 부봉인가 도명산을 올랐을때 유난히 대머리가 심한 희양산이 눈에 띄어 언젠가...</td>\n",
       "      <td>몇년전 부봉인가 도명산을 올랐을때 유난히 대머리가 심한 희양산이 눈에 띄어 언젠가 ...</td>\n",
       "      <td>심한 뿌옇다 맑아진다니 간략히 희 많지 짧게 덥고 모호한데 예쁘다고 그래 있는 있 ...</td>\n",
       "      <td>올랐을 띄어 가보고 싶었는데 나면 트여 볼거란 들었다 헌데 가르는 기대는 버리지 세...</td>\n",
       "      <td>년전 부 봉인 도명 산 때 대머리 희양산 눈 한번 오늘이 그날 토요일 새벽 비 그 ...</td>\n",
       "      <td>끄응 아 엉</td>\n",
       "    </tr>\n",
       "  </tbody>\n",
       "</table>\n",
       "</div>"
      ],
      "text/plain": [
       "  label                                             review  \\\n",
       "0   희양산  [2일차: 희양산 - 대야산4山_희양산 50m© NAVER Corp.더보기 /Ope...   \n",
       "1   희양산  [몇년전 부봉인가 도명산을 올랐을때 유난히 대머리가 심한 희양산이 눈에 띄어 언젠가...   \n",
       "\n",
       "                                             review2  \\\n",
       "0  일차 희양산 대야산희양산 더보기 지도 데이터 지도 컨트롤러 범례부동산거리읍면동시군구...   \n",
       "1  몇년전 부봉인가 도명산을 올랐을때 유난히 대머리가 심한 희양산이 눈에 띄어 언젠가 ...   \n",
       "\n",
       "                                                 adj  \\\n",
       "0  간단한 시원한 괜찮다 어렵고 길도 험하고 불친절한 그렇지 나쁘지 많은 미끄럽 없는 ...   \n",
       "1  심한 뿌옇다 맑아진다니 간략히 희 많지 짧게 덥고 모호한데 예쁘다고 그래 있는 있 ...   \n",
       "\n",
       "                                                verb  \\\n",
       "0  둘러 삼아 바라본 하면 나오는 찾아 찾아보니 앞서던 넘치고 않았던 않다 거칠어진 기...   \n",
       "1  올랐을 띄어 가보고 싶었는데 나면 트여 볼거란 들었다 헌데 가르는 기대는 버리지 세...   \n",
       "\n",
       "                                                noun exclamation  \n",
       "0  일차 희양산 대야산 희양산 더 보기 지도 데이터 지도 컨트롤러 범례 부동산 거리 읍...           휴  \n",
       "1  년전 부 봉인 도명 산 때 대머리 희양산 눈 한번 오늘이 그날 토요일 새벽 비 그 ...      끄응 아 엉  "
      ]
     },
     "execution_count": 5,
     "metadata": {},
     "output_type": "execute_result"
    }
   ],
   "source": [
    "df_1t = pd.read_csv('./data/review_data_1t_2.csv', encoding='utf-8')\n",
    "df_1t.head(2)"
   ]
  },
  {
   "cell_type": "code",
   "execution_count": 3,
   "id": "19d4cae1",
   "metadata": {},
   "outputs": [
    {
     "data": {
      "text/html": [
       "<div>\n",
       "<style scoped>\n",
       "    .dataframe tbody tr th:only-of-type {\n",
       "        vertical-align: middle;\n",
       "    }\n",
       "\n",
       "    .dataframe tbody tr th {\n",
       "        vertical-align: top;\n",
       "    }\n",
       "\n",
       "    .dataframe thead th {\n",
       "        text-align: right;\n",
       "    }\n",
       "</style>\n",
       "<table border=\"1\" class=\"dataframe\">\n",
       "  <thead>\n",
       "    <tr style=\"text-align: right;\">\n",
       "      <th></th>\n",
       "      <th>review</th>\n",
       "      <th>label</th>\n",
       "      <th>review2</th>\n",
       "      <th>adj</th>\n",
       "      <th>verb</th>\n",
       "      <th>noun</th>\n",
       "      <th>exclamation</th>\n",
       "    </tr>\n",
       "  </thead>\n",
       "  <tbody>\n",
       "    <tr>\n",
       "      <th>0</th>\n",
       "      <td>?</td>\n",
       "      <td>문화</td>\n",
       "      <td>NaN</td>\n",
       "      <td>NaN</td>\n",
       "      <td>NaN</td>\n",
       "      <td>NaN</td>\n",
       "      <td>NaN</td>\n",
       "    </tr>\n",
       "    <tr>\n",
       "      <th>1</th>\n",
       "      <td>친절해요</td>\n",
       "      <td>문화</td>\n",
       "      <td>친절해요</td>\n",
       "      <td>친절해요</td>\n",
       "      <td>NaN</td>\n",
       "      <td>NaN</td>\n",
       "      <td>NaN</td>\n",
       "    </tr>\n",
       "  </tbody>\n",
       "</table>\n",
       "</div>"
      ],
      "text/plain": [
       "  review label review2   adj verb noun exclamation\n",
       "0      ?    문화     NaN   NaN  NaN  NaN         NaN\n",
       "1   친절해요    문화    친절해요  친절해요  NaN  NaN         NaN"
      ]
     },
     "execution_count": 3,
     "metadata": {},
     "output_type": "execute_result"
    }
   ],
   "source": [
    "df_2t = pd.read_csv('./data/review_data_2t_2.csv', encoding='utf-8')\n",
    "df_2t.head(2)"
   ]
  },
  {
   "cell_type": "code",
   "execution_count": 6,
   "id": "b30ee46b",
   "metadata": {},
   "outputs": [
    {
     "data": {
      "text/html": [
       "<div>\n",
       "<style scoped>\n",
       "    .dataframe tbody tr th:only-of-type {\n",
       "        vertical-align: middle;\n",
       "    }\n",
       "\n",
       "    .dataframe tbody tr th {\n",
       "        vertical-align: top;\n",
       "    }\n",
       "\n",
       "    .dataframe thead th {\n",
       "        text-align: right;\n",
       "    }\n",
       "</style>\n",
       "<table border=\"1\" class=\"dataframe\">\n",
       "  <thead>\n",
       "    <tr style=\"text-align: right;\">\n",
       "      <th></th>\n",
       "      <th>리뷰</th>\n",
       "      <th>음식유형</th>\n",
       "      <th>review2</th>\n",
       "      <th>adj</th>\n",
       "      <th>verb</th>\n",
       "      <th>noun</th>\n",
       "      <th>exclamation</th>\n",
       "    </tr>\n",
       "  </thead>\n",
       "  <tbody>\n",
       "    <tr>\n",
       "      <th>0</th>\n",
       "      <td>👍</td>\n",
       "      <td>디저트</td>\n",
       "      <td>NaN</td>\n",
       "      <td>NaN</td>\n",
       "      <td>NaN</td>\n",
       "      <td>NaN</td>\n",
       "      <td>NaN</td>\n",
       "    </tr>\n",
       "    <tr>\n",
       "      <th>1</th>\n",
       "      <td>굿</td>\n",
       "      <td>디저트</td>\n",
       "      <td>굿</td>\n",
       "      <td>NaN</td>\n",
       "      <td>NaN</td>\n",
       "      <td>굿</td>\n",
       "      <td>NaN</td>\n",
       "    </tr>\n",
       "  </tbody>\n",
       "</table>\n",
       "</div>"
      ],
      "text/plain": [
       "  리뷰 음식유형 review2  adj verb noun exclamation\n",
       "0  👍  디저트     NaN  NaN  NaN  NaN         NaN\n",
       "1  굿  디저트       굿  NaN  NaN    굿         NaN"
      ]
     },
     "execution_count": 6,
     "metadata": {},
     "output_type": "execute_result"
    }
   ],
   "source": [
    "df_3t = pd.read_csv('./data/review_data_3t_2.csv', encoding='utf-8')\n",
    "df_3t.head(2)"
   ]
  },
  {
   "cell_type": "code",
   "execution_count": 8,
   "id": "8ebba31f",
   "metadata": {},
   "outputs": [
    {
     "name": "stdout",
     "output_type": "stream",
     "text": [
      "<class 'pandas.core.frame.DataFrame'>\n",
      "RangeIndex: 123983 entries, 0 to 123982\n",
      "Data columns (total 7 columns):\n",
      " #   Column       Non-Null Count   Dtype \n",
      "---  ------       --------------   ----- \n",
      " 0   label        123983 non-null  object\n",
      " 1   review       123983 non-null  object\n",
      " 2   review2      123983 non-null  object\n",
      " 3   adj          121758 non-null  object\n",
      " 4   verb         122764 non-null  object\n",
      " 5   noun         123833 non-null  object\n",
      " 6   exclamation  30626 non-null   object\n",
      "dtypes: object(7)\n",
      "memory usage: 6.6+ MB\n"
     ]
    }
   ],
   "source": [
    "df_1t.info()"
   ]
  },
  {
   "cell_type": "code",
   "execution_count": 7,
   "id": "2494d369",
   "metadata": {},
   "outputs": [
    {
     "name": "stdout",
     "output_type": "stream",
     "text": [
      "<class 'pandas.core.frame.DataFrame'>\n",
      "RangeIndex: 141254 entries, 0 to 141253\n",
      "Data columns (total 7 columns):\n",
      " #   Column       Non-Null Count   Dtype \n",
      "---  ------       --------------   ----- \n",
      " 0   review       141254 non-null  object\n",
      " 1   label        141254 non-null  object\n",
      " 2   review2      136766 non-null  object\n",
      " 3   adj          101343 non-null  object\n",
      " 4   verb         59979 non-null   object\n",
      " 5   noun         93857 non-null   object\n",
      " 6   exclamation  1212 non-null    object\n",
      "dtypes: object(7)\n",
      "memory usage: 7.5+ MB\n"
     ]
    }
   ],
   "source": [
    "df_2t.info()"
   ]
  },
  {
   "cell_type": "code",
   "execution_count": 9,
   "id": "4aa437c3",
   "metadata": {},
   "outputs": [
    {
     "name": "stdout",
     "output_type": "stream",
     "text": [
      "<class 'pandas.core.frame.DataFrame'>\n",
      "RangeIndex: 123749 entries, 0 to 123748\n",
      "Data columns (total 7 columns):\n",
      " #   Column       Non-Null Count   Dtype \n",
      "---  ------       --------------   ----- \n",
      " 0   리뷰           117078 non-null  object\n",
      " 1   음식유형         123749 non-null  object\n",
      " 2   review2      115595 non-null  object\n",
      " 3   adj          95611 non-null   object\n",
      " 4   verb         64770 non-null   object\n",
      " 5   noun         97115 non-null   object\n",
      " 6   exclamation  1270 non-null    object\n",
      "dtypes: object(7)\n",
      "memory usage: 6.6+ MB\n"
     ]
    }
   ],
   "source": [
    "df_3t.info()"
   ]
  },
  {
   "cell_type": "code",
   "execution_count": 15,
   "id": "78a3d7f0",
   "metadata": {},
   "outputs": [
    {
     "data": {
      "text/plain": [
       "235178"
      ]
     },
     "execution_count": 15,
     "metadata": {},
     "output_type": "execute_result"
    }
   ],
   "source": [
    "# 중복제거전\n",
    "len(' '.join(df_2t['adj'].dropna().sort_values()).split())"
   ]
  },
  {
   "cell_type": "code",
   "execution_count": 29,
   "id": "06ffea20",
   "metadata": {},
   "outputs": [
    {
     "name": "stdout",
     "output_type": "stream",
     "text": [
      "114700\n"
     ]
    }
   ],
   "source": [
    "# 중복제거후\n",
    "adj_list_1t = ' '.join(df_1t['adj'].dropna().sort_values().drop_duplicates()).split()\n",
    "adj_list_1t = list(set(adj_list_1t))\n",
    "print(len(adj_list_1t))"
   ]
  },
  {
   "cell_type": "code",
   "execution_count": 28,
   "id": "d67bbbad",
   "metadata": {},
   "outputs": [
    {
     "name": "stdout",
     "output_type": "stream",
     "text": [
      "12912\n"
     ]
    }
   ],
   "source": [
    "# 중복제거후\n",
    "adj_list_2t = ' '.join(df_2t['adj'].dropna().sort_values().drop_duplicates()).split()\n",
    "adj_list_2t = list(set(adj_list_2t))\n",
    "print(len(adj_list_2t))"
   ]
  },
  {
   "cell_type": "code",
   "execution_count": 30,
   "id": "4964d60d",
   "metadata": {},
   "outputs": [
    {
     "name": "stdout",
     "output_type": "stream",
     "text": [
      "11990\n"
     ]
    }
   ],
   "source": [
    "# 중복제거후\n",
    "adj_list_3t = ' '.join(df_3t['adj'].dropna().sort_values().drop_duplicates()).split()\n",
    "adj_list_3t = list(set(adj_list_3t))\n",
    "print(len(adj_list_3t))"
   ]
  },
  {
   "cell_type": "code",
   "execution_count": 35,
   "id": "16ad314d",
   "metadata": {},
   "outputs": [
    {
     "data": {
      "text/plain": [
       "19408"
      ]
     },
     "execution_count": 35,
     "metadata": {},
     "output_type": "execute_result"
    }
   ],
   "source": [
    "tmp=pd.concat([pd.Series(adj_list_2t),pd.Series(adj_list_3t)]).drop_duplicates()\n",
    "len(tmp)"
   ]
  },
  {
   "cell_type": "code",
   "execution_count": 37,
   "id": "c0a92e05",
   "metadata": {},
   "outputs": [
    {
     "data": {
      "text/plain": [
       "120042"
      ]
     },
     "execution_count": 37,
     "metadata": {},
     "output_type": "execute_result"
    }
   ],
   "source": [
    "tmp=pd.concat([pd.Series(adj_list_1t),pd.Series(adj_list_2t),pd.Series(adj_list_3t)]).drop_duplicates()\n",
    "len(tmp)"
   ]
  },
  {
   "cell_type": "code",
   "execution_count": 49,
   "id": "68ed272c",
   "metadata": {},
   "outputs": [],
   "source": [
    "# 어간 추출\n",
    "def extract_stem(words):\n",
    "    okt = Okt()\n",
    "    stems = []\n",
    "    for word in words:\n",
    "        # 어간 추출\n",
    "        stems = okt.normalize(words)\n",
    "    return stems"
   ]
  },
  {
   "cell_type": "code",
   "execution_count": 53,
   "id": "bdb9af3e",
   "metadata": {},
   "outputs": [
    {
     "name": "stderr",
     "output_type": "stream",
     "text": [
      "100%|███████████████████████████████████████████████████████████████████████████| 12912/12912 [00:28<00:00, 446.91it/s]\n"
     ]
    }
   ],
   "source": [
    "from tqdm import tqdm\n",
    "tqdm.pandas()\n",
    "adj_norm_list_2t = pd.Series(adj_list_2t).progress_map(extract_stem)"
   ]
  },
  {
   "cell_type": "code",
   "execution_count": 54,
   "id": "d8e67598",
   "metadata": {},
   "outputs": [
    {
     "data": {
      "text/plain": [
       "12912"
      ]
     },
     "execution_count": 54,
     "metadata": {},
     "output_type": "execute_result"
    }
   ],
   "source": [
    "len(adj_norm_list_2t)"
   ]
  },
  {
   "cell_type": "code",
   "execution_count": 55,
   "id": "3e78ef6e",
   "metadata": {},
   "outputs": [
    {
     "name": "stderr",
     "output_type": "stream",
     "text": [
      "100%|███████████████████████████████████████████████████████████████████████████| 11990/11990 [00:26<00:00, 454.47it/s]\n"
     ]
    }
   ],
   "source": [
    "from tqdm import tqdm\n",
    "tqdm.pandas()\n",
    "adj_norm_list_3t = pd.Series(adj_list_3t).progress_map(extract_stem)"
   ]
  },
  {
   "cell_type": "code",
   "execution_count": null,
   "id": "cbf2c983",
   "metadata": {},
   "outputs": [],
   "source": []
  }
 ],
 "metadata": {
  "kernelspec": {
   "display_name": "Python 3 (ipykernel)",
   "language": "python",
   "name": "python3"
  },
  "language_info": {
   "codemirror_mode": {
    "name": "ipython",
    "version": 3
   },
   "file_extension": ".py",
   "mimetype": "text/x-python",
   "name": "python",
   "nbconvert_exporter": "python",
   "pygments_lexer": "ipython3",
   "version": "3.11.5"
  },
  "toc": {
   "base_numbering": 1,
   "nav_menu": {},
   "number_sections": true,
   "sideBar": true,
   "skip_h1_title": false,
   "title_cell": "Table of Contents",
   "title_sidebar": "Contents",
   "toc_cell": false,
   "toc_position": {},
   "toc_section_display": true,
   "toc_window_display": false
  },
  "varInspector": {
   "cols": {
    "lenName": 16,
    "lenType": 16,
    "lenVar": 40
   },
   "kernels_config": {
    "python": {
     "delete_cmd_postfix": "",
     "delete_cmd_prefix": "del ",
     "library": "var_list.py",
     "varRefreshCmd": "print(var_dic_list())"
    },
    "r": {
     "delete_cmd_postfix": ") ",
     "delete_cmd_prefix": "rm(",
     "library": "var_list.r",
     "varRefreshCmd": "cat(var_dic_list()) "
    }
   },
   "types_to_exclude": [
    "module",
    "function",
    "builtin_function_or_method",
    "instance",
    "_Feature"
   ],
   "window_display": false
  }
 },
 "nbformat": 4,
 "nbformat_minor": 5
}
