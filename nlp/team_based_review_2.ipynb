{
 "cells": [
  {
   "cell_type": "markdown",
   "id": "6b3fe13a",
   "metadata": {},
   "source": [
    "## 감성 사전을 만들기(형용사,동사,감탄사 어간 추출 후 파일로 저장)"
   ]
  },
  {
   "cell_type": "code",
   "execution_count": 259,
   "id": "d6ae6491",
   "metadata": {},
   "outputs": [],
   "source": [
    "import pandas as pd\n",
    "import numpy as np\n",
    "from konlpy.tag import Okt\n",
    "okt = Okt()"
   ]
  },
  {
   "cell_type": "code",
   "execution_count": 260,
   "id": "00278318",
   "metadata": {},
   "outputs": [],
   "source": [
    "def extract_stem(words, tokenizer):\n",
    "    # 문자열을 포함한 다양한 타입에서 NaN 확인\n",
    "    if pd.isna(words):\n",
    "        return\n",
    "\n",
    "    # 전체 텍스트에 대해 한 번에 형태소 분석을 수행\n",
    "    morphs = tokenizer.morphs(words, stem=True)\n",
    "    \n",
    "    # 결과에서 어간만 추출하여 조인\n",
    "    return ' '.join(morph for morph in morphs if morph)"
   ]
  },
  {
   "cell_type": "code",
   "execution_count": 5,
   "id": "7196205c",
   "metadata": {},
   "outputs": [
    {
     "data": {
      "text/html": [
       "<div>\n",
       "<style scoped>\n",
       "    .dataframe tbody tr th:only-of-type {\n",
       "        vertical-align: middle;\n",
       "    }\n",
       "\n",
       "    .dataframe tbody tr th {\n",
       "        vertical-align: top;\n",
       "    }\n",
       "\n",
       "    .dataframe thead th {\n",
       "        text-align: right;\n",
       "    }\n",
       "</style>\n",
       "<table border=\"1\" class=\"dataframe\">\n",
       "  <thead>\n",
       "    <tr style=\"text-align: right;\">\n",
       "      <th></th>\n",
       "      <th>label</th>\n",
       "      <th>review</th>\n",
       "      <th>review2</th>\n",
       "      <th>adj</th>\n",
       "      <th>verb</th>\n",
       "      <th>noun</th>\n",
       "      <th>exclamation</th>\n",
       "    </tr>\n",
       "  </thead>\n",
       "  <tbody>\n",
       "    <tr>\n",
       "      <th>0</th>\n",
       "      <td>희양산</td>\n",
       "      <td>[2일차: 희양산 - 대야산4山_희양산 50m© NAVER Corp.더보기 /Ope...</td>\n",
       "      <td>일차 희양산 대야산희양산 더보기 지도 데이터 지도 컨트롤러 범례부동산거리읍면동시군구...</td>\n",
       "      <td>간단한 시원한 괜찮다 어렵고 길도 험하고 불친절한 그렇지 나쁘지 많은 미끄럽 없는 ...</td>\n",
       "      <td>둘러 삼아 바라본 하면 나오는 찾아 찾아보니 앞서던 넘치고 않았던 않다 거칠어진 기...</td>\n",
       "      <td>일차 희양산 대야산 희양산 더 보기 지도 데이터 지도 컨트롤러 범례 부동산 거리 읍...</td>\n",
       "      <td>휴</td>\n",
       "    </tr>\n",
       "    <tr>\n",
       "      <th>1</th>\n",
       "      <td>희양산</td>\n",
       "      <td>[몇년전 부봉인가 도명산을 올랐을때 유난히 대머리가 심한 희양산이 눈에 띄어 언젠가...</td>\n",
       "      <td>몇년전 부봉인가 도명산을 올랐을때 유난히 대머리가 심한 희양산이 눈에 띄어 언젠가 ...</td>\n",
       "      <td>심한 뿌옇다 맑아진다니 간략히 희 많지 짧게 덥고 모호한데 예쁘다고 그래 있는 있 ...</td>\n",
       "      <td>올랐을 띄어 가보고 싶었는데 나면 트여 볼거란 들었다 헌데 가르는 기대는 버리지 세...</td>\n",
       "      <td>년전 부 봉인 도명 산 때 대머리 희양산 눈 한번 오늘이 그날 토요일 새벽 비 그 ...</td>\n",
       "      <td>끄응 아 엉</td>\n",
       "    </tr>\n",
       "  </tbody>\n",
       "</table>\n",
       "</div>"
      ],
      "text/plain": [
       "  label                                             review  \\\n",
       "0   희양산  [2일차: 희양산 - 대야산4山_희양산 50m© NAVER Corp.더보기 /Ope...   \n",
       "1   희양산  [몇년전 부봉인가 도명산을 올랐을때 유난히 대머리가 심한 희양산이 눈에 띄어 언젠가...   \n",
       "\n",
       "                                             review2  \\\n",
       "0  일차 희양산 대야산희양산 더보기 지도 데이터 지도 컨트롤러 범례부동산거리읍면동시군구...   \n",
       "1  몇년전 부봉인가 도명산을 올랐을때 유난히 대머리가 심한 희양산이 눈에 띄어 언젠가 ...   \n",
       "\n",
       "                                                 adj  \\\n",
       "0  간단한 시원한 괜찮다 어렵고 길도 험하고 불친절한 그렇지 나쁘지 많은 미끄럽 없는 ...   \n",
       "1  심한 뿌옇다 맑아진다니 간략히 희 많지 짧게 덥고 모호한데 예쁘다고 그래 있는 있 ...   \n",
       "\n",
       "                                                verb  \\\n",
       "0  둘러 삼아 바라본 하면 나오는 찾아 찾아보니 앞서던 넘치고 않았던 않다 거칠어진 기...   \n",
       "1  올랐을 띄어 가보고 싶었는데 나면 트여 볼거란 들었다 헌데 가르는 기대는 버리지 세...   \n",
       "\n",
       "                                                noun exclamation  \n",
       "0  일차 희양산 대야산 희양산 더 보기 지도 데이터 지도 컨트롤러 범례 부동산 거리 읍...           휴  \n",
       "1  년전 부 봉인 도명 산 때 대머리 희양산 눈 한번 오늘이 그날 토요일 새벽 비 그 ...      끄응 아 엉  "
      ]
     },
     "execution_count": 5,
     "metadata": {},
     "output_type": "execute_result"
    }
   ],
   "source": [
    "df_1t = pd.read_csv('./data/review_data_1t_2.csv', encoding='utf-8')\n",
    "df_1t.head(2)"
   ]
  },
  {
   "cell_type": "code",
   "execution_count": 3,
   "id": "70b65f8d",
   "metadata": {},
   "outputs": [
    {
     "data": {
      "text/html": [
       "<div>\n",
       "<style scoped>\n",
       "    .dataframe tbody tr th:only-of-type {\n",
       "        vertical-align: middle;\n",
       "    }\n",
       "\n",
       "    .dataframe tbody tr th {\n",
       "        vertical-align: top;\n",
       "    }\n",
       "\n",
       "    .dataframe thead th {\n",
       "        text-align: right;\n",
       "    }\n",
       "</style>\n",
       "<table border=\"1\" class=\"dataframe\">\n",
       "  <thead>\n",
       "    <tr style=\"text-align: right;\">\n",
       "      <th></th>\n",
       "      <th>review</th>\n",
       "      <th>label</th>\n",
       "      <th>review2</th>\n",
       "      <th>adj</th>\n",
       "      <th>verb</th>\n",
       "      <th>noun</th>\n",
       "      <th>exclamation</th>\n",
       "    </tr>\n",
       "  </thead>\n",
       "  <tbody>\n",
       "    <tr>\n",
       "      <th>0</th>\n",
       "      <td>?</td>\n",
       "      <td>문화</td>\n",
       "      <td>NaN</td>\n",
       "      <td>NaN</td>\n",
       "      <td>NaN</td>\n",
       "      <td>NaN</td>\n",
       "      <td>NaN</td>\n",
       "    </tr>\n",
       "    <tr>\n",
       "      <th>1</th>\n",
       "      <td>친절해요</td>\n",
       "      <td>문화</td>\n",
       "      <td>친절해요</td>\n",
       "      <td>친절해요</td>\n",
       "      <td>NaN</td>\n",
       "      <td>NaN</td>\n",
       "      <td>NaN</td>\n",
       "    </tr>\n",
       "  </tbody>\n",
       "</table>\n",
       "</div>"
      ],
      "text/plain": [
       "  review label review2   adj verb noun exclamation\n",
       "0      ?    문화     NaN   NaN  NaN  NaN         NaN\n",
       "1   친절해요    문화    친절해요  친절해요  NaN  NaN         NaN"
      ]
     },
     "execution_count": 3,
     "metadata": {},
     "output_type": "execute_result"
    }
   ],
   "source": [
    "df_2t = pd.read_csv('./data/review_data_2t_2.csv', encoding='utf-8')\n",
    "df_2t.head(2)"
   ]
  },
  {
   "cell_type": "code",
   "execution_count": 6,
   "id": "db748d51",
   "metadata": {},
   "outputs": [
    {
     "data": {
      "text/html": [
       "<div>\n",
       "<style scoped>\n",
       "    .dataframe tbody tr th:only-of-type {\n",
       "        vertical-align: middle;\n",
       "    }\n",
       "\n",
       "    .dataframe tbody tr th {\n",
       "        vertical-align: top;\n",
       "    }\n",
       "\n",
       "    .dataframe thead th {\n",
       "        text-align: right;\n",
       "    }\n",
       "</style>\n",
       "<table border=\"1\" class=\"dataframe\">\n",
       "  <thead>\n",
       "    <tr style=\"text-align: right;\">\n",
       "      <th></th>\n",
       "      <th>리뷰</th>\n",
       "      <th>음식유형</th>\n",
       "      <th>review2</th>\n",
       "      <th>adj</th>\n",
       "      <th>verb</th>\n",
       "      <th>noun</th>\n",
       "      <th>exclamation</th>\n",
       "    </tr>\n",
       "  </thead>\n",
       "  <tbody>\n",
       "    <tr>\n",
       "      <th>0</th>\n",
       "      <td>👍</td>\n",
       "      <td>디저트</td>\n",
       "      <td>NaN</td>\n",
       "      <td>NaN</td>\n",
       "      <td>NaN</td>\n",
       "      <td>NaN</td>\n",
       "      <td>NaN</td>\n",
       "    </tr>\n",
       "    <tr>\n",
       "      <th>1</th>\n",
       "      <td>굿</td>\n",
       "      <td>디저트</td>\n",
       "      <td>굿</td>\n",
       "      <td>NaN</td>\n",
       "      <td>NaN</td>\n",
       "      <td>굿</td>\n",
       "      <td>NaN</td>\n",
       "    </tr>\n",
       "  </tbody>\n",
       "</table>\n",
       "</div>"
      ],
      "text/plain": [
       "  리뷰 음식유형 review2  adj verb noun exclamation\n",
       "0  👍  디저트     NaN  NaN  NaN  NaN         NaN\n",
       "1  굿  디저트       굿  NaN  NaN    굿         NaN"
      ]
     },
     "execution_count": 6,
     "metadata": {},
     "output_type": "execute_result"
    }
   ],
   "source": [
    "df_3t = pd.read_csv('./data/review_data_3t_2.csv', encoding='utf-8')\n",
    "df_3t.head(2)"
   ]
  },
  {
   "cell_type": "code",
   "execution_count": 8,
   "id": "360fc1cd",
   "metadata": {},
   "outputs": [
    {
     "name": "stdout",
     "output_type": "stream",
     "text": [
      "<class 'pandas.core.frame.DataFrame'>\n",
      "RangeIndex: 123983 entries, 0 to 123982\n",
      "Data columns (total 7 columns):\n",
      " #   Column       Non-Null Count   Dtype \n",
      "---  ------       --------------   ----- \n",
      " 0   label        123983 non-null  object\n",
      " 1   review       123983 non-null  object\n",
      " 2   review2      123983 non-null  object\n",
      " 3   adj          121758 non-null  object\n",
      " 4   verb         122764 non-null  object\n",
      " 5   noun         123833 non-null  object\n",
      " 6   exclamation  30626 non-null   object\n",
      "dtypes: object(7)\n",
      "memory usage: 6.6+ MB\n"
     ]
    }
   ],
   "source": [
    "df_1t.info()"
   ]
  },
  {
   "cell_type": "code",
   "execution_count": 7,
   "id": "52aa5755",
   "metadata": {},
   "outputs": [
    {
     "name": "stdout",
     "output_type": "stream",
     "text": [
      "<class 'pandas.core.frame.DataFrame'>\n",
      "RangeIndex: 141254 entries, 0 to 141253\n",
      "Data columns (total 7 columns):\n",
      " #   Column       Non-Null Count   Dtype \n",
      "---  ------       --------------   ----- \n",
      " 0   review       141254 non-null  object\n",
      " 1   label        141254 non-null  object\n",
      " 2   review2      136766 non-null  object\n",
      " 3   adj          101343 non-null  object\n",
      " 4   verb         59979 non-null   object\n",
      " 5   noun         93857 non-null   object\n",
      " 6   exclamation  1212 non-null    object\n",
      "dtypes: object(7)\n",
      "memory usage: 7.5+ MB\n"
     ]
    }
   ],
   "source": [
    "df_2t.info()"
   ]
  },
  {
   "cell_type": "code",
   "execution_count": 9,
   "id": "bf7f92d5",
   "metadata": {},
   "outputs": [
    {
     "name": "stdout",
     "output_type": "stream",
     "text": [
      "<class 'pandas.core.frame.DataFrame'>\n",
      "RangeIndex: 123749 entries, 0 to 123748\n",
      "Data columns (total 7 columns):\n",
      " #   Column       Non-Null Count   Dtype \n",
      "---  ------       --------------   ----- \n",
      " 0   리뷰           117078 non-null  object\n",
      " 1   음식유형         123749 non-null  object\n",
      " 2   review2      115595 non-null  object\n",
      " 3   adj          95611 non-null   object\n",
      " 4   verb         64770 non-null   object\n",
      " 5   noun         97115 non-null   object\n",
      " 6   exclamation  1270 non-null    object\n",
      "dtypes: object(7)\n",
      "memory usage: 6.6+ MB\n"
     ]
    }
   ],
   "source": [
    "df_3t.info()"
   ]
  },
  {
   "cell_type": "markdown",
   "id": "0ca8ab6a",
   "metadata": {},
   "source": [
    "### 형용사"
   ]
  },
  {
   "cell_type": "markdown",
   "id": "3368cc25",
   "metadata": {},
   "source": [
    "#### 형용사 중복 제거"
   ]
  },
  {
   "cell_type": "code",
   "execution_count": 15,
   "id": "fb7ac278",
   "metadata": {},
   "outputs": [
    {
     "data": {
      "text/plain": [
       "235178"
      ]
     },
     "execution_count": 15,
     "metadata": {},
     "output_type": "execute_result"
    }
   ],
   "source": [
    "# 중복제거전\n",
    "len(' '.join(df_2t['adj'].dropna().sort_values()).split())"
   ]
  },
  {
   "cell_type": "code",
   "execution_count": 29,
   "id": "01b1b5ae",
   "metadata": {},
   "outputs": [
    {
     "name": "stdout",
     "output_type": "stream",
     "text": [
      "114700\n"
     ]
    }
   ],
   "source": [
    "# 중복제거\n",
    "# 'adj'열 결측치 제거 후 오름차순 정렬후 중복제거 후 공백을 구분자로 한개의 문자열로 만든뒤 공백을 구분자로 리스트 변환\n",
    "adj_list_1t = ' '.join(df_1t['adj'].dropna().sort_values().drop_duplicates()).split()\n",
    "# 리스트 내의 중복 제거\n",
    "adj_list_1t = list(set(adj_list_1t))\n",
    "print(len(adj_list_1t))"
   ]
  },
  {
   "cell_type": "code",
   "execution_count": 28,
   "id": "b0bf23ce",
   "metadata": {},
   "outputs": [
    {
     "name": "stdout",
     "output_type": "stream",
     "text": [
      "12912\n"
     ]
    }
   ],
   "source": [
    "# 중복제거후\n",
    "adj_list_2t = ' '.join(df_2t['adj'].dropna().sort_values().drop_duplicates()).split()\n",
    "adj_list_2t = list(set(adj_list_2t))\n",
    "print(len(adj_list_2t))"
   ]
  },
  {
   "cell_type": "code",
   "execution_count": 30,
   "id": "866587cb",
   "metadata": {},
   "outputs": [
    {
     "name": "stdout",
     "output_type": "stream",
     "text": [
      "11990\n"
     ]
    }
   ],
   "source": [
    "# 중복제거후\n",
    "adj_list_3t = ' '.join(df_3t['adj'].dropna().sort_values().drop_duplicates()).split()\n",
    "adj_list_3t = list(set(adj_list_3t))\n",
    "print(len(adj_list_3t))"
   ]
  },
  {
   "cell_type": "code",
   "execution_count": 35,
   "id": "2883ff19",
   "metadata": {},
   "outputs": [
    {
     "data": {
      "text/plain": [
       "19408"
      ]
     },
     "execution_count": 35,
     "metadata": {},
     "output_type": "execute_result"
    }
   ],
   "source": [
    "# 2,3팀 병합 후 중복제거 후 형용사 카운트\n",
    "tmp=pd.concat([pd.Series(adj_list_2t),pd.Series(adj_list_3t)]).drop_duplicates()\n",
    "len(tmp)"
   ]
  },
  {
   "cell_type": "code",
   "execution_count": 37,
   "id": "40a98403",
   "metadata": {},
   "outputs": [
    {
     "data": {
      "text/plain": [
       "120042"
      ]
     },
     "execution_count": 37,
     "metadata": {},
     "output_type": "execute_result"
    }
   ],
   "source": [
    "# 1,2,3팀 병합 후 중복제거 후 형용사 카운트\n",
    "tmp=pd.concat([pd.Series(adj_list_1t),pd.Series(adj_list_2t),pd.Series(adj_list_3t)]).drop_duplicates()\n",
    "len(tmp)"
   ]
  },
  {
   "cell_type": "markdown",
   "id": "41dcc4db",
   "metadata": {},
   "source": [
    "#### 형용사 어간 추출"
   ]
  },
  {
   "cell_type": "code",
   "execution_count": 261,
   "id": "23d0c354",
   "metadata": {},
   "outputs": [],
   "source": [
    "from tqdm import tqdm\n",
    "tqdm.pandas()\n",
    "from functools import partial"
   ]
  },
  {
   "cell_type": "code",
   "execution_count": 262,
   "id": "4814b29b",
   "metadata": {},
   "outputs": [],
   "source": [
    "# extract_stem 함수에 대한 partial 함수 생성\n",
    "extract_stem_okt = partial(extract_stem, tokenizer=okt)"
   ]
  },
  {
   "cell_type": "code",
   "execution_count": 265,
   "id": "e7f05eca",
   "metadata": {},
   "outputs": [
    {
     "name": "stderr",
     "output_type": "stream",
     "text": [
      "100%|█████████████████████████████████████████████████████████████████████████| 114700/114700 [02:02<00:00, 934.87it/s]\n"
     ]
    }
   ],
   "source": [
    "adj_stem_list_1t = pd.Series(adj_list_1t).progress_map(extract_stem_okt)"
   ]
  },
  {
   "cell_type": "code",
   "execution_count": 266,
   "id": "a6bc69d3",
   "metadata": {},
   "outputs": [
    {
     "data": {
      "text/plain": [
       "0        가깝다\n",
       "1       가난하다\n",
       "2       가냘프다\n",
       "3       가녀리다\n",
       "4        가늘다\n",
       "        ... \n",
       "2320     힘나다\n",
       "2321     힘드다\n",
       "2322     힘들다\n",
       "2323     힘없다\n",
       "2324     힘차다\n",
       "Length: 2325, dtype: object"
      ]
     },
     "execution_count": 266,
     "metadata": {},
     "output_type": "execute_result"
    }
   ],
   "source": [
    "# 중복제거\n",
    "adj_stem_list_1t_unique = adj_stem_list_1t.drop_duplicates()\n",
    "filtered_adj_stem_list_1t_unique = adj_stem_list_1t_unique[adj_stem_list_1t_unique.map(lambda x:len(x) > 1)]\n",
    "filtered_adj_stem_list_1t = filtered_adj_stem_list_1t_unique.sort_values().reset_index(drop=True)\n",
    "filtered_adj_stem_list_1t"
   ]
  },
  {
   "cell_type": "code",
   "execution_count": 263,
   "id": "ec084955",
   "metadata": {},
   "outputs": [
    {
     "name": "stderr",
     "output_type": "stream",
     "text": [
      "100%|███████████████████████████████████████████████████████████████████████████| 12912/12912 [00:16<00:00, 772.19it/s]\n"
     ]
    }
   ],
   "source": [
    "adj_stem_list_2t = pd.Series(adj_list_2t).progress_map(extract_stem_okt)"
   ]
  },
  {
   "cell_type": "code",
   "execution_count": 267,
   "id": "57394206",
   "metadata": {},
   "outputs": [
    {
     "data": {
      "text/plain": [
       "0        가깝다\n",
       "1       가난하다\n",
       "2        가늘다\n",
       "3       가능하다\n",
       "4       가득하다\n",
       "        ... \n",
       "1003     힘나다\n",
       "1004     힘드다\n",
       "1005     힘들다\n",
       "1006     힘없다\n",
       "1007     힘차다\n",
       "Length: 1008, dtype: object"
      ]
     },
     "execution_count": 267,
     "metadata": {},
     "output_type": "execute_result"
    }
   ],
   "source": [
    "# 중복제거\n",
    "adj_stem_list_2t_unique = adj_stem_list_2t.drop_duplicates()\n",
    "filtered_adj_stem_list_2t_unique = adj_stem_list_2t_unique[adj_stem_list_2t_unique.map(lambda x:len(x) > 1)]\n",
    "filtered_adj_stem_list_2t = filtered_adj_stem_list_2t_unique.sort_values().reset_index(drop=True)\n",
    "filtered_adj_stem_list_2t"
   ]
  },
  {
   "cell_type": "code",
   "execution_count": 264,
   "id": "3ee2529b",
   "metadata": {},
   "outputs": [
    {
     "name": "stderr",
     "output_type": "stream",
     "text": [
      "100%|██████████████████████████████████████████████████████████████████████████| 11990/11990 [00:10<00:00, 1180.83it/s]\n"
     ]
    }
   ],
   "source": [
    "adj_stem_list_3t = pd.Series(adj_list_3t).progress_map(extract_stem_okt)"
   ]
  },
  {
   "cell_type": "code",
   "execution_count": 268,
   "id": "9b5d89bc",
   "metadata": {},
   "outputs": [
    {
     "data": {
      "text/plain": [
       "0       가깝다\n",
       "1       가늘다\n",
       "2      가능하다\n",
       "3      가득하다\n",
       "4       가볍다\n",
       "       ... \n",
       "880    희한하다\n",
       "881     힘겹다\n",
       "882     힘드다\n",
       "883     힘들다\n",
       "884     힘차다\n",
       "Length: 885, dtype: object"
      ]
     },
     "execution_count": 268,
     "metadata": {},
     "output_type": "execute_result"
    }
   ],
   "source": [
    "# 중복제거\n",
    "adj_stem_list_3t_unique = adj_stem_list_3t.drop_duplicates()\n",
    "filtered_adj_stem_list_3t_unique = adj_stem_list_3t_unique[adj_stem_list_3t_unique.map(lambda x:len(x) > 1)]\n",
    "filtered_adj_stem_list_3t = filtered_adj_stem_list_3t_unique.sort_values().reset_index(drop=True)\n",
    "filtered_adj_stem_list_3t"
   ]
  },
  {
   "cell_type": "markdown",
   "id": "148f9da0",
   "metadata": {},
   "source": [
    "#### 형용사 어간 파일 저장"
   ]
  },
  {
   "cell_type": "code",
   "execution_count": 289,
   "id": "154ea7e8",
   "metadata": {},
   "outputs": [],
   "source": [
    "tmp = pd.DataFrame(filtered_adj_stem_list_1t,columns=['단어'])\n",
    "tmp['점수'] = ''\n",
    "tmp.to_csv('./data/sentimental_1t_adj.csv', index=False, encoding='cp949')"
   ]
  },
  {
   "cell_type": "code",
   "execution_count": 290,
   "id": "d24d16b4",
   "metadata": {},
   "outputs": [],
   "source": [
    "tmp = pd.DataFrame(filtered_adj_stem_list_2t,columns=['단어'])\n",
    "tmp['점수'] = ''\n",
    "tmp.to_csv('./data/sentimental_2t_adj.csv', index=False, encoding='cp949')"
   ]
  },
  {
   "cell_type": "code",
   "execution_count": 291,
   "id": "f9e00771",
   "metadata": {},
   "outputs": [],
   "source": [
    "tmp = pd.DataFrame(filtered_adj_stem_list_3t,columns=['단어'])\n",
    "tmp['점수'] = ''\n",
    "tmp.to_csv('./data/sentimental_3t_adj.csv', index=False, encoding='cp949')"
   ]
  },
  {
   "cell_type": "code",
   "execution_count": 286,
   "id": "665917ad",
   "metadata": {},
   "outputs": [
    {
     "data": {
      "text/html": [
       "<div>\n",
       "<style scoped>\n",
       "    .dataframe tbody tr th:only-of-type {\n",
       "        vertical-align: middle;\n",
       "    }\n",
       "\n",
       "    .dataframe tbody tr th {\n",
       "        vertical-align: top;\n",
       "    }\n",
       "\n",
       "    .dataframe thead th {\n",
       "        text-align: right;\n",
       "    }\n",
       "</style>\n",
       "<table border=\"1\" class=\"dataframe\">\n",
       "  <thead>\n",
       "    <tr style=\"text-align: right;\">\n",
       "      <th></th>\n",
       "      <th>단어</th>\n",
       "      <th>점수</th>\n",
       "    </tr>\n",
       "  </thead>\n",
       "  <tbody>\n",
       "    <tr>\n",
       "      <th>0</th>\n",
       "      <td>가깝다</td>\n",
       "      <td>NaN</td>\n",
       "    </tr>\n",
       "    <tr>\n",
       "      <th>1</th>\n",
       "      <td>가난하다</td>\n",
       "      <td>NaN</td>\n",
       "    </tr>\n",
       "    <tr>\n",
       "      <th>2</th>\n",
       "      <td>가냘프다</td>\n",
       "      <td>NaN</td>\n",
       "    </tr>\n",
       "    <tr>\n",
       "      <th>3</th>\n",
       "      <td>가녀리다</td>\n",
       "      <td>NaN</td>\n",
       "    </tr>\n",
       "    <tr>\n",
       "      <th>4</th>\n",
       "      <td>가늘다</td>\n",
       "      <td>NaN</td>\n",
       "    </tr>\n",
       "  </tbody>\n",
       "</table>\n",
       "</div>"
      ],
      "text/plain": [
       "     단어  점수\n",
       "0   가깝다 NaN\n",
       "1  가난하다 NaN\n",
       "2  가냘프다 NaN\n",
       "3  가녀리다 NaN\n",
       "4   가늘다 NaN"
      ]
     },
     "execution_count": 286,
     "metadata": {},
     "output_type": "execute_result"
    }
   ],
   "source": [
    "tmp = pd.read_csv('./data/sentimental_1t_adj.csv', encoding='cp949')\n",
    "tmp.head()"
   ]
  },
  {
   "cell_type": "markdown",
   "id": "f80a4167",
   "metadata": {},
   "source": [
    "### 동사"
   ]
  },
  {
   "cell_type": "markdown",
   "id": "618d880b",
   "metadata": {},
   "source": [
    "#### 동사 중복 제거"
   ]
  },
  {
   "cell_type": "code",
   "execution_count": 199,
   "id": "9482014a",
   "metadata": {},
   "outputs": [
    {
     "name": "stdout",
     "output_type": "stream",
     "text": [
      "297039\n"
     ]
    }
   ],
   "source": [
    "# 중복제거후\n",
    "verb_list_1t = ' '.join(df_1t['verb'].dropna().sort_values().drop_duplicates()).split()\n",
    "verb_list_1t = list(set(verb_list_1t))\n",
    "print(len(verb_list_1t))"
   ]
  },
  {
   "cell_type": "code",
   "execution_count": 200,
   "id": "0b024e23",
   "metadata": {},
   "outputs": [
    {
     "name": "stdout",
     "output_type": "stream",
     "text": [
      "12912\n"
     ]
    }
   ],
   "source": [
    "# 중복제거후\n",
    "verb_list_2t = ' '.join(df_2t['verb'].dropna().sort_values().drop_duplicates()).split()\n",
    "verb_list_2t = list(set(verb_list_2t))\n",
    "print(len(adj_list_2t))"
   ]
  },
  {
   "cell_type": "code",
   "execution_count": 201,
   "id": "8d68a3d5",
   "metadata": {},
   "outputs": [
    {
     "name": "stdout",
     "output_type": "stream",
     "text": [
      "22176\n"
     ]
    }
   ],
   "source": [
    "# 중복제거후\n",
    "verb_list_3t = ' '.join(df_3t['verb'].dropna().sort_values().drop_duplicates()).split()\n",
    "verb_list_3t = list(set(verb_list_3t))\n",
    "print(len(verb_list_3t))"
   ]
  },
  {
   "cell_type": "markdown",
   "id": "0fa4861d",
   "metadata": {},
   "source": [
    "#### 동사 어간 추출"
   ]
  },
  {
   "cell_type": "code",
   "execution_count": 278,
   "id": "ff922f57",
   "metadata": {},
   "outputs": [
    {
     "name": "stderr",
     "output_type": "stream",
     "text": [
      "100%|█████████████████████████████████████████████████████████████████████████| 297039/297039 [06:01<00:00, 821.80it/s]\n"
     ]
    }
   ],
   "source": [
    "verb_stem_list_1t = pd.Series(verb_list_1t).progress_map(extract_stem_okt)"
   ]
  },
  {
   "cell_type": "code",
   "execution_count": 279,
   "id": "15631cac",
   "metadata": {},
   "outputs": [
    {
     "data": {
      "text/plain": [
       "0        가가 워\n",
       "1       가가 지고\n",
       "2          가게\n",
       "3        가게 만\n",
       "4       가게 주인\n",
       "        ...  \n",
       "5903    힐끗거리다\n",
       "5904      힘내다\n",
       "5905     힘빠지다\n",
       "5906      힘쓰다\n",
       "5907      힘주다\n",
       "Length: 5908, dtype: object"
      ]
     },
     "execution_count": 279,
     "metadata": {},
     "output_type": "execute_result"
    }
   ],
   "source": [
    "# 중복제거\n",
    "verb_stem_list_1t_unique = verb_stem_list_1t.drop_duplicates()\n",
    "filtered_verb_stem_list_1t_unique = verb_stem_list_1t_unique[verb_stem_list_1t_unique.map(lambda x:len(x) > 1)]\n",
    "filtered_verb_stem_list_1t = filtered_verb_stem_list_1t_unique.sort_values().reset_index(drop=True)\n",
    "filtered_verb_stem_list_1t"
   ]
  },
  {
   "cell_type": "code",
   "execution_count": 275,
   "id": "e5e8f26a",
   "metadata": {},
   "outputs": [
    {
     "name": "stderr",
     "output_type": "stream",
     "text": [
      "100%|██████████████████████████████████████████████████████████████████████████| 27223/27223 [00:22<00:00, 1220.74it/s]\n"
     ]
    }
   ],
   "source": [
    "from tqdm import tqdm\n",
    "tqdm.pandas()\n",
    "verb_stem_list_2t = pd.Series(verb_list_2t).progress_map(extract_stem_okt)"
   ]
  },
  {
   "cell_type": "code",
   "execution_count": 280,
   "id": "69dc3625",
   "metadata": {},
   "outputs": [
    {
     "data": {
      "text/plain": [
       "0          가게\n",
       "1        가기 도\n",
       "2       가까워지다\n",
       "3         가꾸다\n",
       "4       가꾸어지다\n",
       "        ...  \n",
       "1461     흥이나다\n",
       "1462     흩날리다\n",
       "1463       흩다\n",
       "1464      힘내다\n",
       "1465      힘쓰다\n",
       "Length: 1466, dtype: object"
      ]
     },
     "execution_count": 280,
     "metadata": {},
     "output_type": "execute_result"
    }
   ],
   "source": [
    "# 중복제거\n",
    "verb_stem_list_2t_unique = verb_stem_list_2t.drop_duplicates()\n",
    "filtered_verb_stem_list_2t_unique = verb_stem_list_2t_unique[verb_stem_list_2t_unique.map(lambda x:len(x) > 1)]\n",
    "filtered_verb_stem_list_2t = filtered_verb_stem_list_2t_unique.sort_values().reset_index(drop=True)\n",
    "filtered_verb_stem_list_2t"
   ]
  },
  {
   "cell_type": "code",
   "execution_count": 273,
   "id": "d3ba2b41",
   "metadata": {},
   "outputs": [
    {
     "name": "stderr",
     "output_type": "stream",
     "text": [
      "100%|██████████████████████████████████████████████████████████████████████████| 22176/22176 [00:17<00:00, 1245.11it/s]\n"
     ]
    }
   ],
   "source": [
    "from tqdm import tqdm\n",
    "tqdm.pandas()\n",
    "verb_stem_list_3t = pd.Series(verb_list_3t).progress_map(extract_stem_okt)"
   ]
  },
  {
   "cell_type": "code",
   "execution_count": 281,
   "id": "9466d615",
   "metadata": {},
   "outputs": [
    {
     "data": {
      "text/plain": [
       "0          가게\n",
       "1       가게 안도\n",
       "2       가까워지다\n",
       "3         가꾸다\n",
       "4       가꾸어지다\n",
       "        ...  \n",
       "1342       흩다\n",
       "1343     흩어지다\n",
       "1344      힘내다\n",
       "1345      힘쓰다\n",
       "1346      힘주다\n",
       "Length: 1347, dtype: object"
      ]
     },
     "execution_count": 281,
     "metadata": {},
     "output_type": "execute_result"
    }
   ],
   "source": [
    "# 중복제거\n",
    "verb_stem_list_3t_unique = verb_stem_list_3t.drop_duplicates()\n",
    "filtered_verb_stem_list_3t_unique = verb_stem_list_3t_unique[verb_stem_list_3t_unique.map(lambda x:len(x) > 1)]\n",
    "filtered_verb_stem_list_3t = filtered_verb_stem_list_3t_unique.sort_values().reset_index(drop=True)\n",
    "filtered_verb_stem_list_3t"
   ]
  },
  {
   "cell_type": "markdown",
   "id": "4dd3f521",
   "metadata": {},
   "source": [
    "#### 동사 어간 파일 저장"
   ]
  },
  {
   "cell_type": "code",
   "execution_count": 292,
   "id": "64d74482",
   "metadata": {},
   "outputs": [],
   "source": [
    "tmp = pd.DataFrame(filtered_verb_stem_list_1t,columns=['단어'])\n",
    "tmp['점수'] = ''\n",
    "tmp.to_csv('./data/sentimental_1t_verb.csv', index=False, encoding='cp949')"
   ]
  },
  {
   "cell_type": "code",
   "execution_count": 293,
   "id": "0b3947fa",
   "metadata": {},
   "outputs": [],
   "source": [
    "tmp = pd.DataFrame(filtered_verb_stem_list_1t,columns=['단어'])\n",
    "tmp['점수'] = ''\n",
    "tmp.to_csv('./data/sentimental_2t_verb.csv', index=False, encoding='cp949')"
   ]
  },
  {
   "cell_type": "code",
   "execution_count": 294,
   "id": "a0c508d4",
   "metadata": {},
   "outputs": [],
   "source": [
    "tmp = pd.DataFrame(filtered_verb_stem_list_1t,columns=['단어'])\n",
    "tmp['점수'] = ''\n",
    "tmp.to_csv('./data/sentimental_3t_verb.csv', index=False, encoding='cp949')"
   ]
  },
  {
   "cell_type": "code",
   "execution_count": 285,
   "id": "ad07b3dd",
   "metadata": {},
   "outputs": [
    {
     "data": {
      "text/html": [
       "<div>\n",
       "<style scoped>\n",
       "    .dataframe tbody tr th:only-of-type {\n",
       "        vertical-align: middle;\n",
       "    }\n",
       "\n",
       "    .dataframe tbody tr th {\n",
       "        vertical-align: top;\n",
       "    }\n",
       "\n",
       "    .dataframe thead th {\n",
       "        text-align: right;\n",
       "    }\n",
       "</style>\n",
       "<table border=\"1\" class=\"dataframe\">\n",
       "  <thead>\n",
       "    <tr style=\"text-align: right;\">\n",
       "      <th></th>\n",
       "      <th>단어</th>\n",
       "      <th>점수</th>\n",
       "    </tr>\n",
       "  </thead>\n",
       "  <tbody>\n",
       "    <tr>\n",
       "      <th>0</th>\n",
       "      <td>가가 워</td>\n",
       "      <td>NaN</td>\n",
       "    </tr>\n",
       "    <tr>\n",
       "      <th>1</th>\n",
       "      <td>가가 지고</td>\n",
       "      <td>NaN</td>\n",
       "    </tr>\n",
       "    <tr>\n",
       "      <th>2</th>\n",
       "      <td>가게</td>\n",
       "      <td>NaN</td>\n",
       "    </tr>\n",
       "    <tr>\n",
       "      <th>3</th>\n",
       "      <td>가게 만</td>\n",
       "      <td>NaN</td>\n",
       "    </tr>\n",
       "    <tr>\n",
       "      <th>4</th>\n",
       "      <td>가게 주인</td>\n",
       "      <td>NaN</td>\n",
       "    </tr>\n",
       "  </tbody>\n",
       "</table>\n",
       "</div>"
      ],
      "text/plain": [
       "      단어  점수\n",
       "0   가가 워 NaN\n",
       "1  가가 지고 NaN\n",
       "2     가게 NaN\n",
       "3   가게 만 NaN\n",
       "4  가게 주인 NaN"
      ]
     },
     "execution_count": 285,
     "metadata": {},
     "output_type": "execute_result"
    }
   ],
   "source": [
    "tmp = pd.read_csv('./data/sentimental_1t_verb.csv', encoding='cp949')\n",
    "tmp.head()"
   ]
  },
  {
   "cell_type": "markdown",
   "id": "6e649753",
   "metadata": {},
   "source": [
    "### 감탄사"
   ]
  },
  {
   "cell_type": "markdown",
   "id": "976a8eff",
   "metadata": {},
   "source": [
    "#### 감탄사 중복 제거"
   ]
  },
  {
   "cell_type": "code",
   "execution_count": 221,
   "id": "322dce75",
   "metadata": {},
   "outputs": [
    {
     "name": "stdout",
     "output_type": "stream",
     "text": [
      "162\n"
     ]
    }
   ],
   "source": [
    "# 중복제거후\n",
    "exclamation_list_1t = ' '.join(df_1t['exclamation'].dropna().sort_values().drop_duplicates()).split()\n",
    "exclamation_list_1t = list(set(exclamation_list_1t))\n",
    "print(len(exclamation_list_1t))"
   ]
  },
  {
   "cell_type": "code",
   "execution_count": 222,
   "id": "8771d7f5",
   "metadata": {},
   "outputs": [
    {
     "name": "stdout",
     "output_type": "stream",
     "text": [
      "63\n"
     ]
    }
   ],
   "source": [
    "# 중복제거후\n",
    "exclamation_list_2t = ' '.join(df_2t['exclamation'].dropna().sort_values().drop_duplicates()).split()\n",
    "exclamation_list_2t = list(set(exclamation_list_2t))\n",
    "print(len(exclamation_list_2t))"
   ]
  },
  {
   "cell_type": "code",
   "execution_count": 223,
   "id": "73d03972",
   "metadata": {},
   "outputs": [
    {
     "name": "stdout",
     "output_type": "stream",
     "text": [
      "61\n"
     ]
    }
   ],
   "source": [
    "# 중복제거후\n",
    "exclamation_list_3t = ' '.join(df_3t['exclamation'].dropna().sort_values().drop_duplicates()).split()\n",
    "exclamation_list_3t = list(set(exclamation_list_3t))\n",
    "print(len(exclamation_list_3t))"
   ]
  },
  {
   "cell_type": "markdown",
   "id": "e600407b",
   "metadata": {},
   "source": [
    "#### 감탄사 파일저장"
   ]
  },
  {
   "cell_type": "code",
   "execution_count": 295,
   "id": "0f382a2a",
   "metadata": {},
   "outputs": [],
   "source": [
    "tmp = pd.DataFrame(exclamation_list_1t,columns=['단어'])\n",
    "tmp['점수'] = ''\n",
    "tmp.to_csv('./data/sentimental_1t_exclamation.csv', index=False, encoding='cp949')"
   ]
  },
  {
   "cell_type": "code",
   "execution_count": 296,
   "id": "57a250b4",
   "metadata": {},
   "outputs": [],
   "source": [
    "tmp = pd.DataFrame(exclamation_list_2t,columns=['단어'])\n",
    "tmp['점수'] = ''\n",
    "tmp.to_csv('./data/sentimental_2t_exclamation.csv', index=False, encoding='cp949')"
   ]
  },
  {
   "cell_type": "code",
   "execution_count": 297,
   "id": "addb3b54",
   "metadata": {},
   "outputs": [],
   "source": [
    "tmp = pd.DataFrame(exclamation_list_3t,columns=['단어'])\n",
    "tmp['점수'] = ''\n",
    "tmp.to_csv('./data/sentimental_3t_exclamation.csv', index=False, encoding='cp949')"
   ]
  },
  {
   "cell_type": "code",
   "execution_count": 257,
   "id": "5495fca7",
   "metadata": {},
   "outputs": [
    {
     "data": {
      "text/html": [
       "<div>\n",
       "<style scoped>\n",
       "    .dataframe tbody tr th:only-of-type {\n",
       "        vertical-align: middle;\n",
       "    }\n",
       "\n",
       "    .dataframe tbody tr th {\n",
       "        vertical-align: top;\n",
       "    }\n",
       "\n",
       "    .dataframe thead th {\n",
       "        text-align: right;\n",
       "    }\n",
       "</style>\n",
       "<table border=\"1\" class=\"dataframe\">\n",
       "  <thead>\n",
       "    <tr style=\"text-align: right;\">\n",
       "      <th></th>\n",
       "      <th>단어</th>\n",
       "      <th>점수</th>\n",
       "    </tr>\n",
       "  </thead>\n",
       "  <tbody>\n",
       "    <tr>\n",
       "      <th>0</th>\n",
       "      <td>휴</td>\n",
       "      <td>NaN</td>\n",
       "    </tr>\n",
       "    <tr>\n",
       "      <th>1</th>\n",
       "      <td>에헴</td>\n",
       "      <td>NaN</td>\n",
       "    </tr>\n",
       "    <tr>\n",
       "      <th>2</th>\n",
       "      <td>앙</td>\n",
       "      <td>NaN</td>\n",
       "    </tr>\n",
       "    <tr>\n",
       "      <th>3</th>\n",
       "      <td>애고</td>\n",
       "      <td>NaN</td>\n",
       "    </tr>\n",
       "    <tr>\n",
       "      <th>4</th>\n",
       "      <td>어머나</td>\n",
       "      <td>NaN</td>\n",
       "    </tr>\n",
       "  </tbody>\n",
       "</table>\n",
       "</div>"
      ],
      "text/plain": [
       "    단어  점수\n",
       "0    휴 NaN\n",
       "1   에헴 NaN\n",
       "2    앙 NaN\n",
       "3   애고 NaN\n",
       "4  어머나 NaN"
      ]
     },
     "execution_count": 257,
     "metadata": {},
     "output_type": "execute_result"
    }
   ],
   "source": [
    "tmp = pd.read_csv('./data/sentimental_1t_exclamation.csv', encoding='cp949')\n",
    "tmp.head()"
   ]
  },
  {
   "cell_type": "code",
   "execution_count": null,
   "id": "47b589f4",
   "metadata": {},
   "outputs": [],
   "source": []
  }
 ],
 "metadata": {
  "kernelspec": {
   "display_name": "Python 3 (ipykernel)",
   "language": "python",
   "name": "python3"
  },
  "language_info": {
   "codemirror_mode": {
    "name": "ipython",
    "version": 3
   },
   "file_extension": ".py",
   "mimetype": "text/x-python",
   "name": "python",
   "nbconvert_exporter": "python",
   "pygments_lexer": "ipython3",
   "version": "3.11.5"
  },
  "toc": {
   "base_numbering": 1,
   "nav_menu": {},
   "number_sections": true,
   "sideBar": true,
   "skip_h1_title": false,
   "title_cell": "Table of Contents",
   "title_sidebar": "Contents",
   "toc_cell": false,
   "toc_position": {},
   "toc_section_display": true,
   "toc_window_display": false
  },
  "varInspector": {
   "cols": {
    "lenName": 16,
    "lenType": 16,
    "lenVar": 40
   },
   "kernels_config": {
    "python": {
     "delete_cmd_postfix": "",
     "delete_cmd_prefix": "del ",
     "library": "var_list.py",
     "varRefreshCmd": "print(var_dic_list())"
    },
    "r": {
     "delete_cmd_postfix": ") ",
     "delete_cmd_prefix": "rm(",
     "library": "var_list.r",
     "varRefreshCmd": "cat(var_dic_list()) "
    }
   },
   "types_to_exclude": [
    "module",
    "function",
    "builtin_function_or_method",
    "instance",
    "_Feature"
   ],
   "window_display": false
  }
 },
 "nbformat": 4,
 "nbformat_minor": 5
}
