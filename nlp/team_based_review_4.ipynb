{
 "cells": [
  {
   "cell_type": "markdown",
   "id": "31a64bc0",
   "metadata": {},
   "source": [
    "## 감성사전 참조해서 감성 점수 반영하기"
   ]
  },
  {
   "cell_type": "code",
   "execution_count": 2,
   "id": "9b022398",
   "metadata": {},
   "outputs": [],
   "source": [
    "import pandas as pd\n",
    "import numpy as np"
   ]
  },
  {
   "cell_type": "code",
   "execution_count": 24,
   "id": "0368b2fd",
   "metadata": {},
   "outputs": [],
   "source": [
    "from tqdm import tqdm\n",
    "tqdm.pandas()"
   ]
  },
  {
   "cell_type": "code",
   "execution_count": 40,
   "id": "dfd2eca4",
   "metadata": {},
   "outputs": [],
   "source": [
    "# 리뷰 파일\n",
    "df_2t = pd.read_csv('./data/review_data_2t_3.csv', encoding='utf-8')"
   ]
  },
  {
   "cell_type": "code",
   "execution_count": 41,
   "id": "6d4341cf",
   "metadata": {},
   "outputs": [
    {
     "data": {
      "text/plain": [
       "Index(['review', 'label', 'review2', 'adj', 'verb', 'noun', 'exclamation',\n",
       "       'adj_stem', 'verb_stem'],\n",
       "      dtype='object')"
      ]
     },
     "execution_count": 41,
     "metadata": {},
     "output_type": "execute_result"
    }
   ],
   "source": [
    "df_2t.columns"
   ]
  },
  {
   "cell_type": "code",
   "execution_count": 42,
   "id": "67e94e13",
   "metadata": {},
   "outputs": [],
   "source": [
    "# 감성사전\n",
    "df_adj_sentiment_2t =  pd.read_csv('./data/sentimental_2t_adj.csv', encoding='cp949')"
   ]
  },
  {
   "cell_type": "code",
   "execution_count": 43,
   "id": "1fdba039",
   "metadata": {},
   "outputs": [
    {
     "data": {
      "text/plain": [
       "Index(['단어', '점수'], dtype='object')"
      ]
     },
     "execution_count": 43,
     "metadata": {},
     "output_type": "execute_result"
    }
   ],
   "source": [
    "df_adj_sentiment_2t.columns"
   ]
  },
  {
   "cell_type": "code",
   "execution_count": 44,
   "id": "fd4fef9f",
   "metadata": {},
   "outputs": [],
   "source": [
    "# 감성 점수 계산 함수\n",
    "def calculate_sentiment_score(text):\n",
    "    if pd.isna(text):\n",
    "        return 0\n",
    "    # 감성사전을 사전 형태로 변환\n",
    "    score_dict = dict(zip(df_adj_sentiment_2t['단어'], df_adj_sentiment_2t['점수']))\n",
    "    # 텍스트를 단어로 분리\n",
    "    words = text.split()\n",
    "    # 각 단어의 점수를 누적하여 합산\n",
    "    score = sum(score_dict.get(word, 0) for word in words)\n",
    "    \n",
    "    # score가 NaN인 경우 0으로 반환\n",
    "    if np.isnan(score):\n",
    "        return 0\n",
    "    else:\n",
    "        return score\n",
    "    "
   ]
  },
  {
   "cell_type": "code",
   "execution_count": null,
   "id": "a7fe23bc",
   "metadata": {},
   "outputs": [],
   "source": []
  },
  {
   "cell_type": "code",
   "execution_count": 47,
   "id": "3df7d818",
   "metadata": {},
   "outputs": [
    {
     "data": {
      "text/plain": [
       "0"
      ]
     },
     "execution_count": 47,
     "metadata": {},
     "output_type": "execute_result"
    }
   ],
   "source": [
    "calculate_sentiment_score(df_2t.loc[2,'adj_stem'])"
   ]
  },
  {
   "cell_type": "markdown",
   "id": "fdae9be4",
   "metadata": {},
   "source": [
    "#### 각 텍스트의 감성 점수를 계산하여 새로운 열에 저장"
   ]
  },
  {
   "cell_type": "code",
   "execution_count": null,
   "id": "1f649d59",
   "metadata": {},
   "outputs": [],
   "source": [
    "df_1t['adj_score'] = df_1t['adj_stem'].progress_map(calculate_sentiment_score)\n",
    "df_1t['verb_score'] = df_1t['verb_stem'].progress_map(calculate_sentiment_score)\n",
    "df_1t['exclamation_score'] = df_1t['exclamation_stem'].progress_map(calculate_sentiment_score)"
   ]
  },
  {
   "cell_type": "code",
   "execution_count": null,
   "id": "a9d70691",
   "metadata": {},
   "outputs": [],
   "source": [
    "df_1t['score'] = df_1t['adj_score'] + df_1t['verb_score'] + df_1t['exclamation_score']"
   ]
  },
  {
   "cell_type": "code",
   "execution_count": null,
   "id": "e9f7c8c6",
   "metadata": {},
   "outputs": [],
   "source": [
    "df_2t['adj_score'] = df_2t['adj_stem'].progress_map(calculate_sentiment_score)\n",
    "df_2t['verb_score'] = df_2t['verb_stem'].progrbess_map(calculate_sentiment_score)\n",
    "df_2t['exclamation_score'] = df_2t['exclamation_stem'].progress_map(calculate_sentiment_score)"
   ]
  },
  {
   "cell_type": "code",
   "execution_count": null,
   "id": "303a8add",
   "metadata": {},
   "outputs": [],
   "source": [
    "df_2t['score'] = df_2t['adj_score'] + df_2t['verb_score'] + df_2t['exclamation_score']"
   ]
  },
  {
   "cell_type": "code",
   "execution_count": null,
   "id": "5bf5db3c",
   "metadata": {},
   "outputs": [],
   "source": [
    "df_3t['adj_score'] = df_3t['adj_stem'].progress_map(calculate_sentiment_score)\n",
    "df_3t['verb_score'] = df_3t['verb_stem'].progress_map(calculate_sentiment_score)\n",
    "df_3t['exclamation_score'] = df_3t['exclamation_stem'].progress_map(calculate_sentiment_score)"
   ]
  },
  {
   "cell_type": "code",
   "execution_count": null,
   "id": "33226c3e",
   "metadata": {},
   "outputs": [],
   "source": [
    "df_3t['score'] = df_3t['adj_score'] + df_3t['verb_score'] + df_3t['exclamation_score']"
   ]
  }
 ],
 "metadata": {
  "kernelspec": {
   "display_name": "Python 3 (ipykernel)",
   "language": "python",
   "name": "python3"
  },
  "language_info": {
   "codemirror_mode": {
    "name": "ipython",
    "version": 3
   },
   "file_extension": ".py",
   "mimetype": "text/x-python",
   "name": "python",
   "nbconvert_exporter": "python",
   "pygments_lexer": "ipython3",
   "version": "3.11.5"
  },
  "toc": {
   "base_numbering": 1,
   "nav_menu": {},
   "number_sections": true,
   "sideBar": true,
   "skip_h1_title": false,
   "title_cell": "Table of Contents",
   "title_sidebar": "Contents",
   "toc_cell": false,
   "toc_position": {},
   "toc_section_display": true,
   "toc_window_display": false
  },
  "varInspector": {
   "cols": {
    "lenName": 16,
    "lenType": 16,
    "lenVar": 40
   },
   "kernels_config": {
    "python": {
     "delete_cmd_postfix": "",
     "delete_cmd_prefix": "del ",
     "library": "var_list.py",
     "varRefreshCmd": "print(var_dic_list())"
    },
    "r": {
     "delete_cmd_postfix": ") ",
     "delete_cmd_prefix": "rm(",
     "library": "var_list.r",
     "varRefreshCmd": "cat(var_dic_list()) "
    }
   },
   "types_to_exclude": [
    "module",
    "function",
    "builtin_function_or_method",
    "instance",
    "_Feature"
   ],
   "window_display": false
  }
 },
 "nbformat": 4,
 "nbformat_minor": 5
}
