{
 "cells": [
  {
   "cell_type": "code",
   "execution_count": 6,
   "id": "00c78efb",
   "metadata": {},
   "outputs": [],
   "source": [
    "data = { 'student' : '학생', 'teacher' : '교사', 'classroom' : '교사'}\n"
   ]
  },
  {
   "cell_type": "code",
   "execution_count": 16,
   "id": "041f7409",
   "metadata": {},
   "outputs": [
    {
     "data": {
      "text/plain": [
       "'classroom'"
      ]
     },
     "execution_count": 16,
     "metadata": {},
     "output_type": "execute_result"
    }
   ],
   "source": [
    "max(data.keys(),key=len)"
   ]
  },
  {
   "cell_type": "code",
   "execution_count": 18,
   "id": "773eaf9a",
   "metadata": {},
   "outputs": [
    {
     "data": {
      "text/plain": [
       "['classroom', 'student', 'teacher']"
      ]
     },
     "execution_count": 18,
     "metadata": {},
     "output_type": "execute_result"
    }
   ],
   "source": [
    "sorted(data.keys(),key=len,reverse=True)"
   ]
  },
  {
   "cell_type": "code",
   "execution_count": 70,
   "id": "b0a5e0a2",
   "metadata": {},
   "outputs": [
    {
     "data": {
      "text/plain": [
       "['classroom', 'student', 'teacher']"
      ]
     },
     "execution_count": 70,
     "metadata": {},
     "output_type": "execute_result"
    }
   ],
   "source": [
    "sorted(data,key=lambda x: len(x), reverse=True)"
   ]
  },
  {
   "cell_type": "code",
   "execution_count": 17,
   "id": "05ffdf59",
   "metadata": {},
   "outputs": [
    {
     "name": "stdout",
     "output_type": "stream",
     "text": [
      "<class 'list'>\n"
     ]
    }
   ],
   "source": [
    "print(type(sorted(data,reverse=True)))"
   ]
  },
  {
   "cell_type": "code",
   "execution_count": 23,
   "id": "543bed98",
   "metadata": {},
   "outputs": [
    {
     "name": "stdout",
     "output_type": "stream",
     "text": [
      "dict_items([('student', '학생'), ('teacher', '교사'), ('classroom', '교사')])\n"
     ]
    }
   ],
   "source": [
    "print(data.items())"
   ]
  },
  {
   "cell_type": "code",
   "execution_count": 30,
   "id": "008d74ec",
   "metadata": {},
   "outputs": [
    {
     "data": {
      "text/plain": [
       "[('classroom', '교사'), ('student', '학생'), ('teacher', '교사')]"
      ]
     },
     "execution_count": 30,
     "metadata": {},
     "output_type": "execute_result"
    }
   ],
   "source": [
    "sorted(data.items())"
   ]
  },
  {
   "cell_type": "code",
   "execution_count": 52,
   "id": "f18e5a2f",
   "metadata": {},
   "outputs": [
    {
     "ename": "SyntaxError",
     "evalue": "incomplete input (4054071506.py, line 1)",
     "output_type": "error",
     "traceback": [
      "\u001b[1;36m  Cell \u001b[1;32mIn[52], line 1\u001b[1;36m\u001b[0m\n\u001b[1;33m    dict(sorted(data.items())\u001b[0m\n\u001b[1;37m                             ^\u001b[0m\n\u001b[1;31mSyntaxError\u001b[0m\u001b[1;31m:\u001b[0m incomplete input\n"
     ]
    }
   ],
   "source": [
    "dict(sorted(data.items())"
   ]
  },
  {
   "cell_type": "code",
   "execution_count": 50,
   "id": "f3e47bc7",
   "metadata": {},
   "outputs": [
    {
     "ename": "SyntaxError",
     "evalue": "incomplete input (4054071506.py, line 1)",
     "output_type": "error",
     "traceback": [
      "\u001b[1;36m  Cell \u001b[1;32mIn[50], line 1\u001b[1;36m\u001b[0m\n\u001b[1;33m    dict(sorted(data.items())\u001b[0m\n\u001b[1;37m                             ^\u001b[0m\n\u001b[1;31mSyntaxError\u001b[0m\u001b[1;31m:\u001b[0m incomplete input\n"
     ]
    }
   ],
   "source": [
    "dict(sorted(data.items())"
   ]
  },
  {
   "cell_type": "code",
   "execution_count": 33,
   "id": "3983f068",
   "metadata": {},
   "outputs": [
    {
     "data": {
      "text/plain": [
       "{'classroom': '교사', 'student': '학생', 'teacher': '교사'}"
      ]
     },
     "execution_count": 33,
     "metadata": {},
     "output_type": "execute_result"
    }
   ],
   "source": [
    "dict(sorted(data.items(),reverse=False))"
   ]
  },
  {
   "cell_type": "code",
   "execution_count": 34,
   "id": "56c2416a",
   "metadata": {},
   "outputs": [
    {
     "name": "stdout",
     "output_type": "stream",
     "text": [
      "Help on built-in function sorted in module builtins:\n",
      "\n",
      "sorted(iterable, /, *, key=None, reverse=False)\n",
      "    Return a new list containing all items from the iterable in ascending order.\n",
      "    \n",
      "    A custom key function can be supplied to customize the sort order, and the\n",
      "    reverse flag can be set to request the result in descending order.\n",
      "\n"
     ]
    }
   ],
   "source": [
    "help(sorted)"
   ]
  },
  {
   "cell_type": "code",
   "execution_count": 45,
   "id": "4c024e8d",
   "metadata": {},
   "outputs": [
    {
     "data": {
      "text/plain": [
       "[('classroom', '교사'), ('student', '학생'), ('teacher', '교사')]"
      ]
     },
     "execution_count": 45,
     "metadata": {},
     "output_type": "execute_result"
    }
   ],
   "source": [
    "  sorted([ w for w in data.items()])"
   ]
  },
  {
   "cell_type": "code",
   "execution_count": 5,
   "id": "0f16a917",
   "metadata": {},
   "outputs": [
    {
     "data": {
      "text/plain": [
       "['교사', '교사', '학생']"
      ]
     },
     "execution_count": 5,
     "metadata": {},
     "output_type": "execute_result"
    }
   ],
   "source": [
    "sorted(data.values())"
   ]
  },
  {
   "cell_type": "code",
   "execution_count": null,
   "id": "b0ef4eb0",
   "metadata": {},
   "outputs": [],
   "source": []
  }
 ],
 "metadata": {
  "kernelspec": {
   "display_name": "Python 3 (ipykernel)",
   "language": "python",
   "name": "python3"
  },
  "language_info": {
   "codemirror_mode": {
    "name": "ipython",
    "version": 3
   },
   "file_extension": ".py",
   "mimetype": "text/x-python",
   "name": "python",
   "nbconvert_exporter": "python",
   "pygments_lexer": "ipython3",
   "version": "3.11.5"
  },
  "toc": {
   "base_numbering": 1,
   "nav_menu": {},
   "number_sections": true,
   "sideBar": true,
   "skip_h1_title": false,
   "title_cell": "Table of Contents",
   "title_sidebar": "Contents",
   "toc_cell": false,
   "toc_position": {},
   "toc_section_display": true,
   "toc_window_display": false
  },
  "varInspector": {
   "cols": {
    "lenName": 16,
    "lenType": 16,
    "lenVar": 40
   },
   "kernels_config": {
    "python": {
     "delete_cmd_postfix": "",
     "delete_cmd_prefix": "del ",
     "library": "var_list.py",
     "varRefreshCmd": "print(var_dic_list())"
    },
    "r": {
     "delete_cmd_postfix": ") ",
     "delete_cmd_prefix": "rm(",
     "library": "var_list.r",
     "varRefreshCmd": "cat(var_dic_list()) "
    }
   },
   "types_to_exclude": [
    "module",
    "function",
    "builtin_function_or_method",
    "instance",
    "_Feature"
   ],
   "window_display": false
  }
 },
 "nbformat": 4,
 "nbformat_minor": 5
}
