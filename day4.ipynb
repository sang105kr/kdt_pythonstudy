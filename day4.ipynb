{
 "cells": [
  {
   "cell_type": "markdown",
   "metadata": {
    "id": "5UzsET2hTpb8"
   },
   "source": [
    "## 은행 계좌 구현하기\n",
    "  - 속성 : 잔액\n",
    "  - 행위 : 입급,출금,잔액\n",
    "    - 입금 : 1회 입금한도는 4만원 초과할 수 없다\n",
    "    - 출금 : 1회 출금한도는 4만원을 초과할 수 없다\n",
    "    - 잔액 : 마이너스 잔고를 허용하지 않는다.\n",
    "  - 메뉴 구성 : 1.입금 2.출금 3.잔액조회 4.종료"
   ]
  },
  {
   "cell_type": "code",
   "execution_count": null,
   "metadata": {
    "id": "oxBV59Vnmime"
   },
   "outputs": [],
   "source": [
    "class AccountException(Exception):\n",
    "    def __init__(self,errmsg):\n",
    "      self.errmsg = errmsg\n",
    "     # 객체의 상태를 문자열로 표현하는 메소드 __str__\n",
    "     # print(), str()사용시 객체의 상태를 문자열로 출력해준다\n",
    "    def __str__(self):\n",
    "        return self.errmsg"
   ]
  },
  {
   "cell_type": "code",
   "execution_count": null,
   "metadata": {
    "id": "5SdilylXTcA5"
   },
   "outputs": [],
   "source": [
    "class Account :\n",
    "\n",
    "  # 생성자\n",
    "  def __init__(self):\n",
    "    self.balance = 0\n",
    "\n",
    "  # 입금\n",
    "  def deposit(self, money):\n",
    "    if money > 40000 :\n",
    "      # print('1회 입금한도는 4만원 초과할 수 없다')\n",
    "      raise AccountException('1회 입금한도는 4만원 초과할 수 없다')\n",
    "\n",
    "    self.balance += money\n",
    "\n",
    "  # 출금\n",
    "  def withdraw(self,money):\n",
    "    if money > 40000 :\n",
    "      # print('1회 입금한도는 4만원 초과할 수 없다')\n",
    "      raise AccountException('1회 입금한도는 4만원 초과할 수 없다')\n",
    "\n",
    "    # 마이너스 잔고 체크\n",
    "    if self.balance - money < 0:\n",
    "      # print(f'잔액이 부족합니다.현재 잔액 : {self.balance}')\n",
    "      raise AccountException(f'잔액이 부족합니다.현재 잔액 : {self.balance}')\n",
    "\n",
    "    self.balance -= money\n",
    "\n",
    "  # 잔액조회\n",
    "  def getBalance(self):\n",
    "    return self.balance"
   ]
  },
  {
   "cell_type": "code",
   "execution_count": null,
   "metadata": {
    "colab": {
     "base_uri": "https://localhost:8080/",
     "height": 599
    },
    "executionInfo": {
     "elapsed": 2526413,
     "status": "error",
     "timestamp": 1710386236095,
     "user": {
      "displayName": "sanghak yi",
      "userId": "04049407183115688246"
     },
     "user_tz": -540
    },
    "id": "qLhLRyueXMGx",
    "outputId": "ea98eddd-a0df-4e6c-9f74-17154313d7ed"
   },
   "outputs": [
    {
     "name": "stdout",
     "output_type": "stream",
     "text": [
      "***********************************\n",
      "1.입금 2.출금 3.잔액조회 4.종료\n",
      "***********************************\n",
      "메뉴 선택 : 6\n",
      "5,6,7\n",
      "***********************************\n",
      "1.입금 2.출금 3.잔액조회 4.종료\n",
      "***********************************\n",
      "메뉴 선택 : 6\n",
      "5,6,7\n",
      "***********************************\n",
      "1.입금 2.출금 3.잔액조회 4.종료\n",
      "***********************************\n"
     ]
    },
    {
     "ename": "KeyboardInterrupt",
     "evalue": "Interrupted by user",
     "output_type": "error",
     "traceback": [
      "\u001b[0;31m---------------------------------------------------------------------------\u001b[0m",
      "\u001b[0;31mKeyboardInterrupt\u001b[0m                         Traceback (most recent call last)",
      "\u001b[0;32m<ipython-input-75-d5d30fe3d4de>\u001b[0m in \u001b[0;36m<cell line: 4>\u001b[0;34m()\u001b[0m\n\u001b[1;32m      7\u001b[0m     \u001b[0mprint\u001b[0m\u001b[0;34m(\u001b[0m\u001b[0;34m\"1.입금 2.출금 3.잔액조회 4.종료\"\u001b[0m\u001b[0;34m)\u001b[0m\u001b[0;34m\u001b[0m\u001b[0;34m\u001b[0m\u001b[0m\n\u001b[1;32m      8\u001b[0m     \u001b[0mprint\u001b[0m\u001b[0;34m(\u001b[0m\u001b[0;34m'*'\u001b[0m \u001b[0;34m*\u001b[0m \u001b[0;36m35\u001b[0m\u001b[0;34m)\u001b[0m\u001b[0;34m\u001b[0m\u001b[0;34m\u001b[0m\u001b[0m\n\u001b[0;32m----> 9\u001b[0;31m     \u001b[0mmenu\u001b[0m \u001b[0;34m=\u001b[0m \u001b[0minput\u001b[0m\u001b[0;34m(\u001b[0m\u001b[0;34m'메뉴 선택 : '\u001b[0m\u001b[0;34m)\u001b[0m\u001b[0;34m\u001b[0m\u001b[0;34m\u001b[0m\u001b[0m\n\u001b[0m\u001b[1;32m     10\u001b[0m     \u001b[0mmatch\u001b[0m \u001b[0mmenu\u001b[0m \u001b[0;34m:\u001b[0m\u001b[0;34m\u001b[0m\u001b[0;34m\u001b[0m\u001b[0m\n\u001b[1;32m     11\u001b[0m       \u001b[0mcase\u001b[0m \u001b[0;34m'4'\u001b[0m\u001b[0;34m:\u001b[0m\u001b[0;34m\u001b[0m\u001b[0;34m\u001b[0m\u001b[0m\n",
      "\u001b[0;32m/usr/local/lib/python3.10/dist-packages/ipykernel/kernelbase.py\u001b[0m in \u001b[0;36mraw_input\u001b[0;34m(self, prompt)\u001b[0m\n\u001b[1;32m    849\u001b[0m                 \u001b[0;34m\"raw_input was called, but this frontend does not support input requests.\"\u001b[0m\u001b[0;34m\u001b[0m\u001b[0;34m\u001b[0m\u001b[0m\n\u001b[1;32m    850\u001b[0m             )\n\u001b[0;32m--> 851\u001b[0;31m         return self._input_request(str(prompt),\n\u001b[0m\u001b[1;32m    852\u001b[0m             \u001b[0mself\u001b[0m\u001b[0;34m.\u001b[0m\u001b[0m_parent_ident\u001b[0m\u001b[0;34m,\u001b[0m\u001b[0;34m\u001b[0m\u001b[0;34m\u001b[0m\u001b[0m\n\u001b[1;32m    853\u001b[0m             \u001b[0mself\u001b[0m\u001b[0;34m.\u001b[0m\u001b[0m_parent_header\u001b[0m\u001b[0;34m,\u001b[0m\u001b[0;34m\u001b[0m\u001b[0;34m\u001b[0m\u001b[0m\n",
      "\u001b[0;32m/usr/local/lib/python3.10/dist-packages/ipykernel/kernelbase.py\u001b[0m in \u001b[0;36m_input_request\u001b[0;34m(self, prompt, ident, parent, password)\u001b[0m\n\u001b[1;32m    893\u001b[0m             \u001b[0;32mexcept\u001b[0m \u001b[0mKeyboardInterrupt\u001b[0m\u001b[0;34m:\u001b[0m\u001b[0;34m\u001b[0m\u001b[0;34m\u001b[0m\u001b[0m\n\u001b[1;32m    894\u001b[0m                 \u001b[0;31m# re-raise KeyboardInterrupt, to truncate traceback\u001b[0m\u001b[0;34m\u001b[0m\u001b[0;34m\u001b[0m\u001b[0m\n\u001b[0;32m--> 895\u001b[0;31m                 \u001b[0;32mraise\u001b[0m \u001b[0mKeyboardInterrupt\u001b[0m\u001b[0;34m(\u001b[0m\u001b[0;34m\"Interrupted by user\"\u001b[0m\u001b[0;34m)\u001b[0m \u001b[0;32mfrom\u001b[0m \u001b[0;32mNone\u001b[0m\u001b[0;34m\u001b[0m\u001b[0;34m\u001b[0m\u001b[0m\n\u001b[0m\u001b[1;32m    896\u001b[0m             \u001b[0;32mexcept\u001b[0m \u001b[0mException\u001b[0m \u001b[0;32mas\u001b[0m \u001b[0me\u001b[0m\u001b[0;34m:\u001b[0m\u001b[0;34m\u001b[0m\u001b[0;34m\u001b[0m\u001b[0m\n\u001b[1;32m    897\u001b[0m                 \u001b[0mself\u001b[0m\u001b[0;34m.\u001b[0m\u001b[0mlog\u001b[0m\u001b[0;34m.\u001b[0m\u001b[0mwarning\u001b[0m\u001b[0;34m(\u001b[0m\u001b[0;34m\"Invalid Message:\"\u001b[0m\u001b[0;34m,\u001b[0m \u001b[0mexc_info\u001b[0m\u001b[0;34m=\u001b[0m\u001b[0;32mTrue\u001b[0m\u001b[0;34m)\u001b[0m\u001b[0;34m\u001b[0m\u001b[0;34m\u001b[0m\u001b[0m\n",
      "\u001b[0;31mKeyboardInterrupt\u001b[0m: Interrupted by user"
     ]
    }
   ],
   "source": [
    "account = Account()\n",
    "\n",
    "stop = False\n",
    "while not stop :\n",
    "  try:\n",
    "    print('*' * 35)\n",
    "    print(\"1.입금 2.출금 3.잔액조회 4.종료\")\n",
    "    print('*' * 35)\n",
    "    menu = input('메뉴 선택 : ')\n",
    "    match menu :\n",
    "      case '4':\n",
    "        stop = True\n",
    "      case '1':\n",
    "        money = int(input('입금액 : '))\n",
    "        account.deposit(money)\n",
    "      case '2':\n",
    "        money = int(input('출금액 : '))\n",
    "        account.withdraw(money)\n",
    "      case '3':\n",
    "        print(f'잔액 : {account.getBalance()}');\n",
    "      case '5' | '6' | '7' :\n",
    "        print('5,6,7')\n",
    "      case _ :\n",
    "        print('1~4 에서 선택하세요')\n",
    "  except AccountException as e:\n",
    "    print(e)\n",
    "  else:\n",
    "    continue"
   ]
  },
  {
   "cell_type": "code",
   "execution_count": null,
   "metadata": {
    "colab": {
     "base_uri": "https://localhost:8080/"
    },
    "executionInfo": {
     "elapsed": 4,
     "status": "ok",
     "timestamp": 1710379703826,
     "user": {
      "displayName": "sanghak yi",
      "userId": "04049407183115688246"
     },
     "user_tz": -540
    },
    "id": "wxdPaJBdXLga",
    "outputId": "bcd54f28-7af4-4234-e43e-44f484978f1f"
   },
   "outputs": [
    {
     "name": "stdout",
     "output_type": "stream",
     "text": [
      "1\n",
      "division by zero\n",
      "예외 발생 상관없이 실행할 코드\n",
      "2\n"
     ]
    }
   ],
   "source": [
    "print('1')\n",
    "data = [1,2,3]\n",
    "try :\n",
    "  # 예외가 예상되는 코드\n",
    "  result = 1 / 0\n",
    "\n",
    "  print(data[1])\n",
    "except (ZeroDivisionError, IndexError) as e:\n",
    "  # 예외가 발생했을때 실행할 코드\n",
    "  print(e)\n",
    "# except IndexError as e:\n",
    "#   # 예외가 발생했을때 실행할 코드\n",
    "#   print(e)\n",
    "else:\n",
    "  # 예외가 발생하지 않았을때 실행할 코드\n",
    "  print('예외가 발생하지 않음')\n",
    "finally:\n",
    "  # 예외 발생 상관없이 실행할 코드\n",
    "  print('예외 발생 상관없이 실행할 코드')\n",
    "print('2')\n"
   ]
  },
  {
   "cell_type": "code",
   "execution_count": null,
   "metadata": {
    "colab": {
     "base_uri": "https://localhost:8080/"
    },
    "executionInfo": {
     "elapsed": 389,
     "status": "ok",
     "timestamp": 1710379858641,
     "user": {
      "displayName": "sanghak yi",
      "userId": "04049407183115688246"
     },
     "user_tz": -540
    },
    "id": "M24BxQVmk31m",
    "outputId": "eda33ec1-8868-402c-e6ed-2c84d344a025"
   },
   "outputs": [
    {
     "name": "stdout",
     "output_type": "stream",
     "text": [
      "예외 발생\n"
     ]
    }
   ],
   "source": [
    "def f1(num1, num2):\n",
    "  result = num1 / num2\n",
    "  return result\n",
    "\n",
    "\n",
    "try:\n",
    "  f1(10,0)\n",
    "except:\n",
    "  print('예외 발생')"
   ]
  },
  {
   "cell_type": "code",
   "execution_count": null,
   "metadata": {
    "colab": {
     "base_uri": "https://localhost:8080/"
    },
    "executionInfo": {
     "elapsed": 388,
     "status": "ok",
     "timestamp": 1710380782637,
     "user": {
      "displayName": "sanghak yi",
      "userId": "04049407183115688246"
     },
     "user_tz": -540
    },
    "id": "VN07zOlxlfG2",
    "outputId": "48d88f37-51ab-4b1b-89bf-4744eff62883"
   },
   "outputs": [
    {
     "name": "stdout",
     "output_type": "stream",
     "text": [
      "피젯수는 0이 될수 없습니다!\n"
     ]
    }
   ],
   "source": [
    "def f2(num1, num2):\n",
    "  try:\n",
    "    result = num1 / num2\n",
    "  except:\n",
    "    raise MyError()\n",
    "  else :\n",
    "    return result\n",
    "\n",
    "try:\n",
    "  f2(10,0)\n",
    "except MyError as e:\n",
    "  print(e)"
   ]
  },
  {
   "cell_type": "markdown",
   "metadata": {
    "id": "INz2l2dQ9ykY"
   },
   "source": [
    "## 정규표현식"
   ]
  },
  {
   "cell_type": "code",
   "execution_count": null,
   "metadata": {
    "id": "WGW1Tppa9xPA"
   },
   "outputs": [],
   "source": [
    "import re"
   ]
  },
  {
   "cell_type": "markdown",
   "metadata": {
    "id": "iQ8orVz6AaFA"
   },
   "source": [
    "  ### re.match()\n",
    "    - 처음부터 특정 패턴으로 시작하는지 확인할때"
   ]
  },
  {
   "cell_type": "code",
   "execution_count": null,
   "metadata": {
    "colab": {
     "base_uri": "https://localhost:8080/"
    },
    "executionInfo": {
     "elapsed": 391,
     "status": "ok",
     "timestamp": 1710386860062,
     "user": {
      "displayName": "sanghak yi",
      "userId": "04049407183115688246"
     },
     "user_tz": -540
    },
    "id": "tHtOlVv297N_",
    "outputId": "e778b29a-ac08-49ed-88a8-ef1bab61e08d"
   },
   "outputs": [
    {
     "name": "stdout",
     "output_type": "stream",
     "text": [
      "<class 're.Match'>\n",
      "매치됨: 파이썬\n"
     ]
    }
   ],
   "source": [
    "pattern = r'파이썬'\n",
    "text = '파이썬을 배우자'\n",
    "match = re.match(pattern, text)\n",
    "print(type(match))\n",
    "if match:\n",
    "  print('매치됨:', match.group())\n",
    "else:\n",
    "  print('매치되지 않음')"
   ]
  },
  {
   "cell_type": "markdown",
   "metadata": {
    "id": "TrDtz6KHAn-n"
   },
   "source": [
    "### re.search\n",
    "  - 문자열 내에 특정 패턴을 찾고자 할때 사용"
   ]
  },
  {
   "cell_type": "code",
   "execution_count": null,
   "metadata": {
    "colab": {
     "base_uri": "https://localhost:8080/"
    },
    "executionInfo": {
     "elapsed": 395,
     "status": "ok",
     "timestamp": 1710387135327,
     "user": {
      "displayName": "sanghak yi",
      "userId": "04049407183115688246"
     },
     "user_tz": -540
    },
    "id": "ALkg0IIs-4Mo",
    "outputId": "26ed3186-4b97-4884-bc42-cffcf10fb089"
   },
   "outputs": [
    {
     "name": "stdout",
     "output_type": "stream",
     "text": [
      "<class 're.Match'>\n",
      "매치됨: 파이썬\n"
     ]
    }
   ],
   "source": [
    "pattern = r'파이썬'\n",
    "text = '파이썬을 배우자, 파이썬!!'\n",
    "search = re.search(pattern, text)\n",
    "print(type(search))\n",
    "if search:\n",
    "  print('매치됨:', search.group())\n",
    "else:\n",
    "  print('매치되지 않음')"
   ]
  },
  {
   "cell_type": "markdown",
   "metadata": {
    "id": "Da89jKoyA3QX"
   },
   "source": [
    "### re.findall()\n",
    "  - 매치되는 모든 문자열을 찾고자할때\n",
    "  - 매치되는 문자열을 요소로 갖는 리스트로 반환"
   ]
  },
  {
   "cell_type": "code",
   "execution_count": null,
   "metadata": {
    "colab": {
     "base_uri": "https://localhost:8080/"
    },
    "executionInfo": {
     "elapsed": 409,
     "status": "ok",
     "timestamp": 1710387470119,
     "user": {
      "displayName": "sanghak yi",
      "userId": "04049407183115688246"
     },
     "user_tz": -540
    },
    "id": "YVdA4GfK-6Aw",
    "outputId": "de3fc338-18ca-4824-9316-01cc2c70b88e"
   },
   "outputs": [
    {
     "name": "stdout",
     "output_type": "stream",
     "text": [
      "<class 'list'>\n",
      "2\n",
      "두번째요소:파이썬\n",
      "파이썬\n",
      "파이썬\n"
     ]
    }
   ],
   "source": [
    "pattern = r'파이썬'\n",
    "text = '파이썬을 배우자, 파이썬!!'\n",
    "findall = re.findall(pattern, text)\n",
    "print(type(findall))\n",
    "print(len(findall))\n",
    "print(f'두번째요소:{findall[1]}')\n",
    "for ele in findall:\n",
    "  print(ele)"
   ]
  },
  {
   "cell_type": "markdown",
   "metadata": {
    "id": "sbALDzSOB50_"
   },
   "source": [
    "### re.finditer()\n",
    "  - 매치되는 모든 문자열을 찾고자할때\n",
    "  - 매치되는 문자열을 요소로 갖는 **이터러블객체**로 반환"
   ]
  },
  {
   "cell_type": "code",
   "execution_count": null,
   "metadata": {
    "colab": {
     "base_uri": "https://localhost:8080/"
    },
    "executionInfo": {
     "elapsed": 2,
     "status": "ok",
     "timestamp": 1710387686567,
     "user": {
      "displayName": "sanghak yi",
      "userId": "04049407183115688246"
     },
     "user_tz": -540
    },
    "id": "P-RM7rrpCFfc",
    "outputId": "371a2e12-0072-4790-a86f-eba99511f953"
   },
   "outputs": [
    {
     "name": "stdout",
     "output_type": "stream",
     "text": [
      "<class 'callable_iterator'>\n",
      "<re.Match object; span=(0, 3), match='파이썬'>\n",
      "파이썬\n",
      "3\n",
      "<re.Match object; span=(10, 13), match='파이썬'>\n",
      "파이썬\n",
      "13\n"
     ]
    }
   ],
   "source": [
    "pattern = r'파이썬'\n",
    "text = '파이썬을 배우자, 파이썬!!'\n",
    "finditer = re.finditer(pattern, text)\n",
    "print(type(finditer))\n",
    "# print(len(finditer))\n",
    "# print(f'두번째요소:{finditer[1]}')\n",
    "for ele in finditer:\n",
    "  print(ele)\n",
    "  print(ele.group())\n",
    "  print(ele.span()[1])"
   ]
  },
  {
   "cell_type": "markdown",
   "metadata": {
    "id": "nbId4M6zDYx5"
   },
   "source": [
    "### re.sub()\n",
    "  - 문자열 내에서 특정 패턴을 찾아 변경하고자 할때 사용\n",
    "  - 대체된 문자열의 결과를 반환"
   ]
  },
  {
   "cell_type": "code",
   "execution_count": null,
   "metadata": {
    "colab": {
     "base_uri": "https://localhost:8080/"
    },
    "executionInfo": {
     "elapsed": 418,
     "status": "ok",
     "timestamp": 1710389427323,
     "user": {
      "displayName": "sanghak yi",
      "userId": "04049407183115688246"
     },
     "user_tz": -540
    },
    "id": "AXqeHgbzDibs",
    "outputId": "23c9e6f4-4dcb-4946-e60b-f02ebe17e8ee"
   },
   "outputs": [
    {
     "name": "stdout",
     "output_type": "stream",
     "text": [
      "<class 'str'>\n",
      "Python은 재미있다. Python\n"
     ]
    }
   ],
   "source": [
    "pattern = r'파이썬'\n",
    "text = '파이썬은 재미있다. 파이썬'\n",
    "replacement = 'Python'\n",
    "\n",
    "subbed_text = re.sub(pattern, replacement, text)\n",
    "print(type(subbed_text))\n",
    "print(subbed_text)\n"
   ]
  },
  {
   "cell_type": "markdown",
   "metadata": {
    "id": "_bbZRKKmElf_"
   },
   "source": [
    "### re.compile()\n",
    "  - 같은 패턴을 반복해서 사용할때 사용\n",
    "  - 정규표현식 패턴을 컴파일하여 Pattern객체를 생성"
   ]
  },
  {
   "cell_type": "code",
   "execution_count": null,
   "metadata": {
    "colab": {
     "base_uri": "https://localhost:8080/"
    },
    "executionInfo": {
     "elapsed": 412,
     "status": "ok",
     "timestamp": 1710389853438,
     "user": {
      "displayName": "sanghak yi",
      "userId": "04049407183115688246"
     },
     "user_tz": -540
    },
    "id": "kJzFzkFYE1-9",
    "outputId": "fa65fa28-995b-44aa-b8b7-5608a9c05118"
   },
   "outputs": [
    {
     "name": "stdout",
     "output_type": "stream",
     "text": [
      "<class 're.Pattern'>\n",
      "파이썬\n",
      "파이썬\n"
     ]
    }
   ],
   "source": [
    "pattern = re.compile(r'파이썬')\n",
    "print(type(pattern))\n",
    "\n",
    "text = '파이썬을 배우자'\n",
    "match = pattern.match(text)\n",
    "if match:\n",
    "  print(match.group())\n",
    "\n",
    "search = pattern.search(text)\n",
    "if search:\n",
    "  print(search.group())\n"
   ]
  },
  {
   "cell_type": "markdown",
   "metadata": {
    "id": "zV-zJOqIkGm9"
   },
   "source": [
    "### 탐욕/비탐욕 패턴\n",
    "  - 수량자와 함께 사용되어 기본적으로는 탐욕매칭함\n",
    "  - 수량자와 ?를 함께 사용하여 수량자 탐욕을 제한할수 있다."
   ]
  },
  {
   "cell_type": "code",
   "execution_count": 121,
   "metadata": {
    "colab": {
     "base_uri": "https://localhost:8080/"
    },
    "executionInfo": {
     "elapsed": 409,
     "status": "ok",
     "timestamp": 1710395960606,
     "user": {
      "displayName": "sanghak yi",
      "userId": "04049407183115688246"
     },
     "user_tz": -540
    },
    "id": "LbpITq7eJ_rd",
    "outputId": "b0f77dec-7ade-4344-c0bc-f2dc587fa640"
   },
   "outputs": [
    {
     "name": "stdout",
     "output_type": "stream",
     "text": [
      "['a1b', 'a2b', 'a3b']\n"
     ]
    }
   ],
   "source": [
    "pattern = 'a.*?b'\n",
    "text = 'a1ba2ba3b'\n",
    "findall = re.findall(pattern,text)\n",
    "print(findall)"
   ]
  },
  {
   "cell_type": "markdown",
   "metadata": {
    "id": "RMD8xTf7ka8t"
   },
   "source": [
    "### 그룹핑 : ( ), (? )\n",
    "  - ( ) : 여러문자를 하나의 단위처리, 캡쳐링하여 나중에 참조\n",
    "  - (?: ) : 여러문자를 하나의 단위처리, 캡처링(X)\n"
   ]
  },
  {
   "cell_type": "code",
   "execution_count": null,
   "metadata": {
    "id": "8f7aFpyvLaYr"
   },
   "outputs": [],
   "source": [
    "pattern = '(?:\\w+)@(?:\\w+)\\.(?:\\w+)'\n",
    "text = '이메일 주소는 example@email.com입니다, abc@kh.com'\n",
    "search = re.search(pattern, text)\n",
    "print(search.group())\n",
    "\n",
    "# 캡쳐링하지 않았기때문에 인덱스 접근 불가\n",
    "# print(search.group(1))\n",
    "# print(search.group(2))\n",
    "# print(search.group(3))"
   ]
  },
  {
   "cell_type": "markdown",
   "metadata": {
    "id": "aiujT3fOotHk"
   },
   "source": [
    "### 전방/후방 탐색\n",
    "  - 양의 전방 탐색(Positive Lookahead) :  (?= )\n",
    "  - 음의 전방 탐색(Negative Lookahead) :  (?! )\n",
    "  - 양의 후방 탐색(Positive Lookbehind) :  (?<= )\n",
    "  - 음의 후방 탐색(Negative Lookbehind) :  (?<! )\n"
   ]
  },
  {
   "cell_type": "code",
   "execution_count": 132,
   "metadata": {
    "colab": {
     "base_uri": "https://localhost:8080/"
    },
    "executionInfo": {
     "elapsed": 555,
     "status": "ok",
     "timestamp": 1710397956999,
     "user": {
      "displayName": "sanghak yi",
      "userId": "04049407183115688246"
     },
     "user_tz": -540
    },
    "id": "lG0yxZ8_pwDk",
    "outputId": "4bdfbbb7-c77c-46fd-94b8-a6ccb854ac7d"
   },
   "outputs": [
    {
     "name": "stdout",
     "output_type": "stream",
     "text": [
      "['http://example', 'http://sample']\n"
     ]
    }
   ],
   "source": [
    "# 양의 전방 탐색\n",
    "import re\n",
    "\n",
    "pattern = r'http://[^ ]+(?=\\.com)'\n",
    "text = \"Visit our website at http://example.com or http://sample.com\"\n",
    "\n",
    "matches = re.findall(pattern, text)\n",
    "print(matches)\n"
   ]
  },
  {
   "cell_type": "code",
   "execution_count": 134,
   "metadata": {
    "colab": {
     "base_uri": "https://localhost:8080/"
    },
    "executionInfo": {
     "elapsed": 496,
     "status": "ok",
     "timestamp": 1710399152704,
     "user": {
      "displayName": "sanghak yi",
      "userId": "04049407183115688246"
     },
     "user_tz": -540
    },
    "id": "vyf6VVo2uwVc",
    "outputId": "e019abd4-6f54-4ac8-9804-d18eb4be16ff"
   },
   "outputs": [
    {
     "name": "stdout",
     "output_type": "stream",
     "text": [
      "['test', 'test', 'test']\n"
     ]
    }
   ],
   "source": [
    "# 음의 전방 탐색\n",
    "import re\n",
    "\n",
    "pattern = r'test(?!ing)'\n",
    "text = \"testing test pool tested tester\"\n",
    "\n",
    "matches = re.findall(pattern, text)\n",
    "print(matches)"
   ]
  },
  {
   "cell_type": "code",
   "execution_count": 158,
   "metadata": {
    "colab": {
     "base_uri": "https://localhost:8080/"
    },
    "executionInfo": {
     "elapsed": 416,
     "status": "ok",
     "timestamp": 1710400663522,
     "user": {
      "displayName": "sanghak yi",
      "userId": "04049407183115688246"
     },
     "user_tz": -540
    },
    "id": "PKruRAtFu7Cl",
    "outputId": "4b130b01-13ad-4def-ff22-79bef8a4cce4"
   },
   "outputs": [
    {
     "name": "stdout",
     "output_type": "stream",
     "text": [
      "['5.99', '10']\n"
     ]
    }
   ],
   "source": [
    "# 양의 후방 탐색\n",
    "import re\n",
    "\n",
    "pattern = r'(?<=\\$)\\d+(?:\\.\\d+)?'\n",
    "text = \"The price is $5.99 for the first item and $10 for the second.\"\n",
    "\n",
    "matches = re.findall(pattern, text)\n",
    "print(matches)\n",
    "# for ele in matches:\n",
    "#   print(ele.group(1))"
   ]
  },
  {
   "cell_type": "code",
   "execution_count": 140,
   "metadata": {
    "colab": {
     "base_uri": "https://localhost:8080/"
    },
    "executionInfo": {
     "elapsed": 399,
     "status": "ok",
     "timestamp": 1710399871179,
     "user": {
      "displayName": "sanghak yi",
      "userId": "04049407183115688246"
     },
     "user_tz": -540
    },
    "id": "q2C9lBCWvtKY",
    "outputId": "1ccb9ce9-10dd-4605-dfde-9dce94d0deea"
   },
   "outputs": [
    {
     "name": "stdout",
     "output_type": "stream",
     "text": [
      "<re.Match object; span=(41, 45), match='good'>\n"
     ]
    }
   ],
   "source": [
    "# 음의 후방 탐색\n",
    "import re\n",
    "\n",
    "pattern = r'(?<!not\\s)good'\n",
    "text = \"The cake is not good but the pie is very good\"\n",
    "\n",
    "matches = re.finditer(pattern, text)\n",
    "# print(matches)\n",
    "for ele in matches:\n",
    "  print(ele)"
   ]
  },
  {
   "cell_type": "code",
   "execution_count": 167,
   "metadata": {
    "colab": {
     "base_uri": "https://localhost:8080/"
    },
    "executionInfo": {
     "elapsed": 426,
     "status": "ok",
     "timestamp": 1710404201151,
     "user": {
      "displayName": "sanghak yi",
      "userId": "04049407183115688246"
     },
     "user_tz": -540
    },
    "id": "KADoxcnQ_y3o",
    "outputId": "771ec5c3-fa88-4370-eabd-5ccd357d228c"
   },
   "outputs": [
    {
     "name": "stdout",
     "output_type": "stream",
     "text": [
      "2024-03-14T16:57:50.083+09:00 ERROR 17512 --- [http-nio-9080-exec-3] o.a.c.c.C.[.[.[/].[dispatcherServlet]    : Servlet.service() for servlet [dispatcherServlet] in context with path [] threw exception [Request processing failed: org.springframework.dao.DuplicateKeyException: PreparedStatementCallback; SQL [insert into member (member_id,email,passwd,nickname) values(member_member_id_seq.nextval, ?,?,?) ]; ORA-00001: 무결성 제약 조건(C##DEMO.MEMBER_EMAIL_UK)에 위배됩니다\n"
     ]
    }
   ],
   "source": [
    "import re\n",
    "\n",
    "err_messages = []\n",
    "f = open(\"/content/spring.log\",mode='r',encoding='utf-8')\n",
    "\n",
    "pattern = '^2024-03-\\d{2}.*ERROR.*'\n",
    "\n",
    "for line in f:\n",
    "    match = re.match(pattern, line)\n",
    "    if match:\n",
    "      err_messages.append(match.group().strip())\n",
    "\n",
    "for msg in err_messages:\n",
    "  print(msg)"
   ]
  },
  {
   "cell_type": "code",
   "execution_count": 168,
   "metadata": {
    "colab": {
     "base_uri": "https://localhost:8080/"
    },
    "executionInfo": {
     "elapsed": 529,
     "status": "ok",
     "timestamp": 1710405621848,
     "user": {
      "displayName": "sanghak yi",
      "userId": "04049407183115688246"
     },
     "user_tz": -540
    },
    "id": "t1LMHPRoHooc",
    "outputId": "7420a00c-63f1-4e66-8227-8d2f0e172cdf"
   },
   "outputs": [
    {
     "name": "stdout",
     "output_type": "stream",
     "text": [
      "태그를 제거한 텍스트: 이것은 볼드 텍스트입니다.\n"
     ]
    }
   ],
   "source": [
    "import re\n",
    "pattern = r\"<[^>]+>\"\n",
    "html = \"<html><body>이것은 <b>볼드</b> 텍스트입니다.</body></html>\"\n",
    "text_only = re.sub(pattern, \"\", html)\n",
    "print(\"태그를 제거한 텍스트:\", text_only)"
   ]
  },
  {
   "cell_type": "code",
   "execution_count": null,
   "metadata": {
    "id": "xotLgvjyBG7q"
   },
   "outputs": [],
   "source": []
  }
 ],
 "metadata": {
  "colab": {
   "authorship_tag": "ABX9TyNoYH1+cN8u5woWOWdUVG2F",
   "collapsed_sections": [
    "5UzsET2hTpb8",
    "Da89jKoyA3QX",
    "sbALDzSOB50_"
   ],
   "provenance": []
  },
  "kernelspec": {
   "display_name": "Python 3 (ipykernel)",
   "language": "python",
   "name": "python3"
  },
  "language_info": {
   "codemirror_mode": {
    "name": "ipython",
    "version": 3
   },
   "file_extension": ".py",
   "mimetype": "text/x-python",
   "name": "python",
   "nbconvert_exporter": "python",
   "pygments_lexer": "ipython3",
   "version": "3.11.5"
  },
  "toc": {
   "base_numbering": 1,
   "nav_menu": {},
   "number_sections": true,
   "sideBar": true,
   "skip_h1_title": false,
   "title_cell": "Table of Contents",
   "title_sidebar": "Contents",
   "toc_cell": false,
   "toc_position": {
    "height": "calc(100% - 180px)",
    "left": "10px",
    "top": "150px",
    "width": "233.15px"
   },
   "toc_section_display": true,
   "toc_window_display": true
  },
  "varInspector": {
   "cols": {
    "lenName": 16,
    "lenType": 16,
    "lenVar": 40
   },
   "kernels_config": {
    "python": {
     "delete_cmd_postfix": "",
     "delete_cmd_prefix": "del ",
     "library": "var_list.py",
     "varRefreshCmd": "print(var_dic_list())"
    },
    "r": {
     "delete_cmd_postfix": ") ",
     "delete_cmd_prefix": "rm(",
     "library": "var_list.r",
     "varRefreshCmd": "cat(var_dic_list()) "
    }
   },
   "types_to_exclude": [
    "module",
    "function",
    "builtin_function_or_method",
    "instance",
    "_Feature"
   ],
   "window_display": false
  }
 },
 "nbformat": 4,
 "nbformat_minor": 1
}
