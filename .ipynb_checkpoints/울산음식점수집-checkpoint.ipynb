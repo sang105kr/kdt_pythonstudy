{
 "cells": [
  {
   "cell_type": "code",
   "execution_count": 112,
   "id": "c3eb21e3",
   "metadata": {},
   "outputs": [],
   "source": [
    "import requests\n",
    "from bs4 import BeautifulSoup\n",
    "import pandas as pd\n",
    "import math\n",
    "import time"
   ]
  },
  {
   "cell_type": "code",
   "execution_count": 150,
   "id": "eee7e994",
   "metadata": {},
   "outputs": [],
   "source": [
    "params = {\n",
    "    \n",
    "  \"serviceKey\" : \"CryKKi6HaVVnP0WXU4sIp8dcrZgn2wui0UPEU+eivronhsULZ8SFW3qxmqgGmyqgpj59gqzMmd8H+hWEzjcvBw==\",\n",
    "  \"perPage\" : 20,\n",
    "  \"pageIndex\" : 0,\n",
    "  \"city\" : \"울주군\",\n",
    "}"
   ]
  },
  {
   "cell_type": "code",
   "execution_count": 151,
   "id": "923c3773",
   "metadata": {},
   "outputs": [],
   "source": [
    "url='http://apis.data.go.kr/6310000/ulsanrestaurant/getulsanrestaurantList'"
   ]
  },
  {
   "cell_type": "code",
   "execution_count": 152,
   "id": "c647b7c2",
   "metadata": {},
   "outputs": [
    {
     "data": {
      "text/plain": [
       "200"
      ]
     },
     "execution_count": 152,
     "metadata": {},
     "output_type": "execute_result"
    }
   ],
   "source": [
    "res = requests.get(url,params=params)\n",
    "res.status_code"
   ]
  },
  {
   "cell_type": "code",
   "execution_count": 153,
   "id": "d46ad913",
   "metadata": {},
   "outputs": [
    {
     "data": {
      "text/plain": [
       "'<rfcOpenApi><header><resultCode>00</resultCode><resultMsg>success</resultMsg></header><body><pageIndex>0</pageIndex><numOfRows>10</numOfRows><pageNo>1</pageNo><totalCount>37</totalCount><data><list><company><![CDATA[중앙암소숯불식당]]></company><lat><![CDATA[35.7125383]]></lat><lng><![CDATA[129.2002299]]></lng><foodType><![CDATA[한식]]></foodType><city><![CDATA[울주군]]></city><address><![CDATA[울산광역시 울주군 두동면 두동로 1827]]></address><phoneNumber><![CDATA[052-262-9028]]></phoneNumber><mainMenu><![CDATA[한우불고기]]></mainMenu></list><list><company><![CDATA[정원숯불구이]]></company><lat><![CDATA[35.7138662]]></lat><lng><![CDATA[129.1997234]]></lng><foodType><![CDATA[한식]]></foodType><city><![CDATA[울주군]]></city><address><![CDATA[울산광역시 울주군 두동면 두동로 1840]]></address><phoneNumber><![CDATA[052-262-7404]]></phoneNumber><mainMenu><![CDATA[한우불고기]]></mainMenu></list><list><company><![CDATA[옹심이칼국수]]></company><lat><![CDATA[35.5869167]]></lat><lng><![CDATA[129.2306692]]></lng><foodType><![CDATA[분식]]></foodType><city><![CDATA[울주군]]></city><address><![CDATA[울산광역시 울주군 범서읍 두동로 229]]></address><phoneNumber><![CDATA[052-257-2529]]></phoneNumber><mainMenu><![CDATA[칼국수]]></mainMenu></list><list><company><![CDATA[종로쭈꾸미굴화점]]></company><lat><![CDATA[35.5569484]]></lat><lng><![CDATA[129.2533193]]></lng><foodType><![CDATA[한식]]></foodType><city><![CDATA[울주군]]></city><address><![CDATA[울산광역시 울주군 범서읍 백천1길 64]]></address><phoneNumber><![CDATA[052-224-9596]]></phoneNumber><mainMenu><![CDATA[쭈꾸미볶음]]></mainMenu></list><list><company><![CDATA[고당운집]]></company><lat><![CDATA[35.6085489]]></lat><lng><![CDATA[129.2783919]]></lng><foodType><![CDATA[한식]]></foodType><city><![CDATA[울주군]]></city><address><![CDATA[울산광역시 울주군 범서읍 새밭등길 36]]></address><phoneNumber><![CDATA[052-211-3131]]></phoneNumber><mainMenu><![CDATA[오리불고기]]></mainMenu></list><list><company><![CDATA[예향정(무거점)]]></company><lat><![CDATA[35.5515007]]></lat><lng><![CDATA[129.2522479]]></lng><foodType><![CDATA[한식]]></foodType><city><![CDATA[울주군]]></city><address><![CDATA[울산광역시 울주군 범서읍 장검길 69-23]]></address><phoneNumber><![CDATA[052-223-7222]]></phoneNumber><mainMenu><![CDATA[정식]]></mainMenu></list><list><company><![CDATA[유승추어탕]]></company><lat><![CDATA[35.5635386]]></lat><lng><![CDATA[129.2272439]]></lng><foodType><![CDATA[한식]]></foodType><city><![CDATA[울주군]]></city><address><![CDATA[울산광역시 울주군 범서읍 천상3길 10-2]]></address><phoneNumber><![CDATA[052-211-1822]]></phoneNumber><mainMenu><![CDATA[추어탕]]></mainMenu></list><list><company><![CDATA[갈비구락부]]></company><lat><![CDATA[35.5605695]]></lat><lng><![CDATA[129.1176573]]></lng><foodType><![CDATA[한식]]></foodType><city><![CDATA[울주군]]></city><address><![CDATA[울산광역시 울주군 삼남면 남상평2길 34-12]]></address><phoneNumber><![CDATA[052-264-4747]]></phoneNumber><mainMenu><![CDATA[한우불고기]]></mainMenu></list><list><company><![CDATA[언양암소불고기]]></company><lat><![CDATA[35.5581226]]></lat><lng><![CDATA[129.1185226]]></lng><foodType><![CDATA[한식]]></foodType><city><![CDATA[울주군]]></city><address><![CDATA[울산광역시 울주군 삼남면 봉화로 14]]></address><phoneNumber><![CDATA[052-263-1478]]></phoneNumber><mainMenu><![CDATA[한우불고기]]></mainMenu></list><list><company><![CDATA[신토불이 숯불고기]]></company><lat><![CDATA[35.5574528]]></lat><lng><![CDATA[129.1192303]]></lng><foodType><![CDATA[한식]]></foodType><city><![CDATA[울주군]]></city><address><![CDATA[울산광역시 울주군 삼남면 봉화로 5]]></address><phoneNumber><![CDATA[052-263-2666]]></phoneNumber><mainMenu><![CDATA[한우불고기]]></mainMenu></list></data></body></rfcOpenApi>'"
      ]
     },
     "execution_count": 153,
     "metadata": {},
     "output_type": "execute_result"
    }
   ],
   "source": [
    "res.text"
   ]
  },
  {
   "cell_type": "code",
   "execution_count": 154,
   "id": "57df4c32",
   "metadata": {},
   "outputs": [],
   "source": [
    "xml_data = res.text"
   ]
  },
  {
   "cell_type": "code",
   "execution_count": 155,
   "id": "1181365b",
   "metadata": {},
   "outputs": [],
   "source": [
    "# BeautifulSoup 객체 생성\n",
    "soup = BeautifulSoup(xml_data, 'xml')"
   ]
  },
  {
   "cell_type": "code",
   "execution_count": 156,
   "id": "1ca554f2",
   "metadata": {},
   "outputs": [
    {
     "data": {
      "text/plain": [
       "<?xml version=\"1.0\" encoding=\"utf-8\"?>\n",
       "<rfcOpenApi><header><resultCode>00</resultCode><resultMsg>success</resultMsg></header><body><pageIndex>0</pageIndex><numOfRows>10</numOfRows><pageNo>1</pageNo><totalCount>37</totalCount><data><list><company>중앙암소숯불식당</company><lat>35.7125383</lat><lng>129.2002299</lng><foodType>한식</foodType><city>울주군</city><address>울산광역시 울주군 두동면 두동로 1827</address><phoneNumber>052-262-9028</phoneNumber><mainMenu>한우불고기</mainMenu></list><list><company>정원숯불구이</company><lat>35.7138662</lat><lng>129.1997234</lng><foodType>한식</foodType><city>울주군</city><address>울산광역시 울주군 두동면 두동로 1840</address><phoneNumber>052-262-7404</phoneNumber><mainMenu>한우불고기</mainMenu></list><list><company>옹심이칼국수</company><lat>35.5869167</lat><lng>129.2306692</lng><foodType>분식</foodType><city>울주군</city><address>울산광역시 울주군 범서읍 두동로 229</address><phoneNumber>052-257-2529</phoneNumber><mainMenu>칼국수</mainMenu></list><list><company>종로쭈꾸미굴화점</company><lat>35.5569484</lat><lng>129.2533193</lng><foodType>한식</foodType><city>울주군</city><address>울산광역시 울주군 범서읍 백천1길 64</address><phoneNumber>052-224-9596</phoneNumber><mainMenu>쭈꾸미볶음</mainMenu></list><list><company>고당운집</company><lat>35.6085489</lat><lng>129.2783919</lng><foodType>한식</foodType><city>울주군</city><address>울산광역시 울주군 범서읍 새밭등길 36</address><phoneNumber>052-211-3131</phoneNumber><mainMenu>오리불고기</mainMenu></list><list><company>예향정(무거점)</company><lat>35.5515007</lat><lng>129.2522479</lng><foodType>한식</foodType><city>울주군</city><address>울산광역시 울주군 범서읍 장검길 69-23</address><phoneNumber>052-223-7222</phoneNumber><mainMenu>정식</mainMenu></list><list><company>유승추어탕</company><lat>35.5635386</lat><lng>129.2272439</lng><foodType>한식</foodType><city>울주군</city><address>울산광역시 울주군 범서읍 천상3길 10-2</address><phoneNumber>052-211-1822</phoneNumber><mainMenu>추어탕</mainMenu></list><list><company>갈비구락부</company><lat>35.5605695</lat><lng>129.1176573</lng><foodType>한식</foodType><city>울주군</city><address>울산광역시 울주군 삼남면 남상평2길 34-12</address><phoneNumber>052-264-4747</phoneNumber><mainMenu>한우불고기</mainMenu></list><list><company>언양암소불고기</company><lat>35.5581226</lat><lng>129.1185226</lng><foodType>한식</foodType><city>울주군</city><address>울산광역시 울주군 삼남면 봉화로 14</address><phoneNumber>052-263-1478</phoneNumber><mainMenu>한우불고기</mainMenu></list><list><company>신토불이 숯불고기</company><lat>35.5574528</lat><lng>129.1192303</lng><foodType>한식</foodType><city>울주군</city><address>울산광역시 울주군 삼남면 봉화로 5</address><phoneNumber>052-263-2666</phoneNumber><mainMenu>한우불고기</mainMenu></list></data></body></rfcOpenApi>"
      ]
     },
     "execution_count": 156,
     "metadata": {},
     "output_type": "execute_result"
    }
   ],
   "source": [
    "soup"
   ]
  },
  {
   "cell_type": "code",
   "execution_count": 175,
   "id": "19847e1f",
   "metadata": {},
   "outputs": [
    {
     "data": {
      "text/plain": [
       "2"
      ]
     },
     "execution_count": 175,
     "metadata": {},
     "output_type": "execute_result"
    }
   ],
   "source": [
    "num_of_rows =  20\n",
    "totalCount = soup.find('totalCount').text\n",
    "req_cnt = math.ceil(int(totalCount) / num_of_rows)\n",
    "req_cnt"
   ]
  },
  {
   "cell_type": "code",
   "execution_count": 176,
   "id": "327c2733",
   "metadata": {},
   "outputs": [],
   "source": [
    "def xml_to_dict(soup):\n",
    "    # 데이터 추출\n",
    "    data_list = []\n",
    "    items = soup.find_all('list')  # <list> 태그를 모두 찾음\n",
    "\n",
    "    for item in items:\n",
    "        data = {}\n",
    "        for child in item.find_all():\n",
    "            data[child.name] = child.text.strip()\n",
    "        data_list.append(data)\n",
    "    return data_list    "
   ]
  },
  {
   "cell_type": "code",
   "execution_count": 177,
   "id": "6245442c",
   "metadata": {},
   "outputs": [
    {
     "data": {
      "text/plain": [
       "[{'company': '중앙암소숯불식당',\n",
       "  'lat': '35.7125383',\n",
       "  'lng': '129.2002299',\n",
       "  'foodType': '한식',\n",
       "  'city': '울주군',\n",
       "  'address': '울산광역시 울주군 두동면 두동로 1827',\n",
       "  'phoneNumber': '052-262-9028',\n",
       "  'mainMenu': '한우불고기'},\n",
       " {'company': '정원숯불구이',\n",
       "  'lat': '35.7138662',\n",
       "  'lng': '129.1997234',\n",
       "  'foodType': '한식',\n",
       "  'city': '울주군',\n",
       "  'address': '울산광역시 울주군 두동면 두동로 1840',\n",
       "  'phoneNumber': '052-262-7404',\n",
       "  'mainMenu': '한우불고기'},\n",
       " {'company': '옹심이칼국수',\n",
       "  'lat': '35.5869167',\n",
       "  'lng': '129.2306692',\n",
       "  'foodType': '분식',\n",
       "  'city': '울주군',\n",
       "  'address': '울산광역시 울주군 범서읍 두동로 229',\n",
       "  'phoneNumber': '052-257-2529',\n",
       "  'mainMenu': '칼국수'},\n",
       " {'company': '종로쭈꾸미굴화점',\n",
       "  'lat': '35.5569484',\n",
       "  'lng': '129.2533193',\n",
       "  'foodType': '한식',\n",
       "  'city': '울주군',\n",
       "  'address': '울산광역시 울주군 범서읍 백천1길 64',\n",
       "  'phoneNumber': '052-224-9596',\n",
       "  'mainMenu': '쭈꾸미볶음'},\n",
       " {'company': '고당운집',\n",
       "  'lat': '35.6085489',\n",
       "  'lng': '129.2783919',\n",
       "  'foodType': '한식',\n",
       "  'city': '울주군',\n",
       "  'address': '울산광역시 울주군 범서읍 새밭등길 36',\n",
       "  'phoneNumber': '052-211-3131',\n",
       "  'mainMenu': '오리불고기'},\n",
       " {'company': '예향정(무거점)',\n",
       "  'lat': '35.5515007',\n",
       "  'lng': '129.2522479',\n",
       "  'foodType': '한식',\n",
       "  'city': '울주군',\n",
       "  'address': '울산광역시 울주군 범서읍 장검길 69-23',\n",
       "  'phoneNumber': '052-223-7222',\n",
       "  'mainMenu': '정식'},\n",
       " {'company': '유승추어탕',\n",
       "  'lat': '35.5635386',\n",
       "  'lng': '129.2272439',\n",
       "  'foodType': '한식',\n",
       "  'city': '울주군',\n",
       "  'address': '울산광역시 울주군 범서읍 천상3길 10-2',\n",
       "  'phoneNumber': '052-211-1822',\n",
       "  'mainMenu': '추어탕'},\n",
       " {'company': '갈비구락부',\n",
       "  'lat': '35.5605695',\n",
       "  'lng': '129.1176573',\n",
       "  'foodType': '한식',\n",
       "  'city': '울주군',\n",
       "  'address': '울산광역시 울주군 삼남면 남상평2길 34-12',\n",
       "  'phoneNumber': '052-264-4747',\n",
       "  'mainMenu': '한우불고기'},\n",
       " {'company': '언양암소불고기',\n",
       "  'lat': '35.5581226',\n",
       "  'lng': '129.1185226',\n",
       "  'foodType': '한식',\n",
       "  'city': '울주군',\n",
       "  'address': '울산광역시 울주군 삼남면 봉화로 14',\n",
       "  'phoneNumber': '052-263-1478',\n",
       "  'mainMenu': '한우불고기'},\n",
       " {'company': '신토불이 숯불고기',\n",
       "  'lat': '35.5574528',\n",
       "  'lng': '129.1192303',\n",
       "  'foodType': '한식',\n",
       "  'city': '울주군',\n",
       "  'address': '울산광역시 울주군 삼남면 봉화로 5',\n",
       "  'phoneNumber': '052-263-2666',\n",
       "  'mainMenu': '한우불고기'}]"
      ]
     },
     "execution_count": 177,
     "metadata": {},
     "output_type": "execute_result"
    }
   ],
   "source": [
    "data_list = xml_to_dict(soup)\n",
    "data_list"
   ]
  },
  {
   "cell_type": "code",
   "execution_count": 178,
   "id": "585d61d8",
   "metadata": {},
   "outputs": [
    {
     "name": "stdout",
     "output_type": "stream",
     "text": [
      "     company         lat          lng foodType city  \\\n",
      "0   중앙암소숯불식당  35.7125383  129.2002299       한식  울주군   \n",
      "1     정원숯불구이  35.7138662  129.1997234       한식  울주군   \n",
      "2     옹심이칼국수  35.5869167  129.2306692       분식  울주군   \n",
      "3   종로쭈꾸미굴화점  35.5569484  129.2533193       한식  울주군   \n",
      "4       고당운집  35.6085489  129.2783919       한식  울주군   \n",
      "5   예향정(무거점)  35.5515007  129.2522479       한식  울주군   \n",
      "6      유승추어탕  35.5635386  129.2272439       한식  울주군   \n",
      "7      갈비구락부  35.5605695  129.1176573       한식  울주군   \n",
      "8    언양암소불고기  35.5581226  129.1185226       한식  울주군   \n",
      "9  신토불이 숯불고기  35.5574528  129.1192303       한식  울주군   \n",
      "\n",
      "                     address   phoneNumber mainMenu  \n",
      "0     울산광역시 울주군 두동면 두동로 1827  052-262-9028    한우불고기  \n",
      "1     울산광역시 울주군 두동면 두동로 1840  052-262-7404    한우불고기  \n",
      "2      울산광역시 울주군 범서읍 두동로 229  052-257-2529      칼국수  \n",
      "3      울산광역시 울주군 범서읍 백천1길 64  052-224-9596    쭈꾸미볶음  \n",
      "4      울산광역시 울주군 범서읍 새밭등길 36  052-211-3131    오리불고기  \n",
      "5    울산광역시 울주군 범서읍 장검길 69-23  052-223-7222       정식  \n",
      "6    울산광역시 울주군 범서읍 천상3길 10-2  052-211-1822      추어탕  \n",
      "7  울산광역시 울주군 삼남면 남상평2길 34-12  052-264-4747    한우불고기  \n",
      "8       울산광역시 울주군 삼남면 봉화로 14  052-263-1478    한우불고기  \n",
      "9        울산광역시 울주군 삼남면 봉화로 5  052-263-2666    한우불고기  \n"
     ]
    }
   ],
   "source": [
    "# 리스트를 DataFrame으로 변환\n",
    "df = pd.DataFrame(data_list)\n",
    "\n",
    "print(df)"
   ]
  },
  {
   "cell_type": "code",
   "execution_count": 179,
   "id": "89af2a1e",
   "metadata": {},
   "outputs": [],
   "source": [
    "def get_params (*, numOfRows=20, req_cnt=1, city='남구'):\n",
    "    params = {\n",
    "\n",
    "      \"serviceKey\" : \"CryKKi6HaVVnP0WXU4sIp8dcrZgn2wui0UPEU+eivronhsULZ8SFW3qxmqgGmyqgpj59gqzMmd8H+hWEzjcvBw==\",\n",
    "      \"perPage\" : numOfRows,\n",
    "      \"pageIndex\" : req_cnt,\n",
    "      \"city\" : city,\n",
    "    }\n",
    "    return params"
   ]
  },
  {
   "cell_type": "code",
   "execution_count": 185,
   "id": "b3c342a3",
   "metadata": {},
   "outputs": [
    {
     "name": "stdout",
     "output_type": "stream",
     "text": [
      "http://apis.data.go.kr/6310000/ulsanrestaurant/getulsanrestaurantList?serviceKey=CryKKi6HaVVnP0WXU4sIp8dcrZgn2wui0UPEU%2BeivronhsULZ8SFW3qxmqgGmyqgpj59gqzMmd8H%2BhWEzjcvBw%3D%3D&perPage=20&pageIndex=1&city=%EB%82%A8%EA%B5%AC\n",
      "http://apis.data.go.kr/6310000/ulsanrestaurant/getulsanrestaurantList?serviceKey=CryKKi6HaVVnP0WXU4sIp8dcrZgn2wui0UPEU%2BeivronhsULZ8SFW3qxmqgGmyqgpj59gqzMmd8H%2BhWEzjcvBw%3D%3D&perPage=20&pageIndex=2&city=%EB%82%A8%EA%B5%AC\n",
      "http://apis.data.go.kr/6310000/ulsanrestaurant/getulsanrestaurantList?serviceKey=CryKKi6HaVVnP0WXU4sIp8dcrZgn2wui0UPEU%2BeivronhsULZ8SFW3qxmqgGmyqgpj59gqzMmd8H%2BhWEzjcvBw%3D%3D&perPage=20&pageIndex=1&city=%EB%8F%99%EA%B5%AC\n",
      "http://apis.data.go.kr/6310000/ulsanrestaurant/getulsanrestaurantList?serviceKey=CryKKi6HaVVnP0WXU4sIp8dcrZgn2wui0UPEU%2BeivronhsULZ8SFW3qxmqgGmyqgpj59gqzMmd8H%2BhWEzjcvBw%3D%3D&perPage=20&pageIndex=2&city=%EB%8F%99%EA%B5%AC\n",
      "http://apis.data.go.kr/6310000/ulsanrestaurant/getulsanrestaurantList?serviceKey=CryKKi6HaVVnP0WXU4sIp8dcrZgn2wui0UPEU%2BeivronhsULZ8SFW3qxmqgGmyqgpj59gqzMmd8H%2BhWEzjcvBw%3D%3D&perPage=20&pageIndex=1&city=%EB%B6%81%EA%B5%AC\n",
      "http://apis.data.go.kr/6310000/ulsanrestaurant/getulsanrestaurantList?serviceKey=CryKKi6HaVVnP0WXU4sIp8dcrZgn2wui0UPEU%2BeivronhsULZ8SFW3qxmqgGmyqgpj59gqzMmd8H%2BhWEzjcvBw%3D%3D&perPage=20&pageIndex=2&city=%EB%B6%81%EA%B5%AC\n",
      "http://apis.data.go.kr/6310000/ulsanrestaurant/getulsanrestaurantList?serviceKey=CryKKi6HaVVnP0WXU4sIp8dcrZgn2wui0UPEU%2BeivronhsULZ8SFW3qxmqgGmyqgpj59gqzMmd8H%2BhWEzjcvBw%3D%3D&perPage=20&pageIndex=1&city=%EC%A4%91%EA%B5%AC\n",
      "http://apis.data.go.kr/6310000/ulsanrestaurant/getulsanrestaurantList?serviceKey=CryKKi6HaVVnP0WXU4sIp8dcrZgn2wui0UPEU%2BeivronhsULZ8SFW3qxmqgGmyqgpj59gqzMmd8H%2BhWEzjcvBw%3D%3D&perPage=20&pageIndex=2&city=%EC%A4%91%EA%B5%AC\n"
     ]
    }
   ],
   "source": [
    "num_of_rows = 20\n",
    "df = pd.DataFrame()\n",
    "cities=['남구','동구','북구','중구']\n",
    "for city in cities:\n",
    "    \n",
    "    res = requests.get(url,params=get_params(numOfRows=1,req_cnt=1,city=city))    \n",
    "    soup = BeautifulSoup(res.text, 'xml')\n",
    "    \n",
    "    # 전체건수\n",
    "    totalCount = int(soup.find('totalCount').text)\n",
    "    print(f'전체건수:{city}-{totalCount})\n",
    "    \n",
    "    # http 요청 횟수\n",
    "    req_cnt = math.ceil(totalCount / num_of_rows)\n",
    "    print(f'http 요청건수:{city}-{req_cnt})\n",
    "\n",
    "    for i in range(1,req_cnt+1) :\n",
    "        res = requests.get(url,params=get_params(numOfRows=num_of_rows,req_cnt=i,city=city))\n",
    "        print(res.url)\n",
    "        soup = BeautifulSoup(xml_data, 'xml')\n",
    "        \n",
    "        if res.status_code == 200 :\n",
    "            data_list = xml_to_dict(soup)\n",
    "            df_tmp = pd.DataFrame(data_list)\n",
    "    #         display(df_tmp)\n",
    "            df = pd.concat([df,df_tmp])\n",
    "        \n",
    "        else :        \n",
    "            print('가져오기 실패')\n",
    "            break\n",
    "            \n",
    "        time.sleep(1)            "
   ]
  },
  {
   "cell_type": "code",
   "execution_count": null,
   "id": "84bbd6e8",
   "metadata": {},
   "outputs": [],
   "source": [
    "df.shape"
   ]
  },
  {
   "cell_type": "code",
   "execution_count": 174,
   "id": "a1de4fcd",
   "metadata": {},
   "outputs": [],
   "source": [
    "df.to_excel('울산 음식점.xlsx', index=False)"
   ]
  },
  {
   "cell_type": "code",
   "execution_count": null,
   "id": "8762ab52",
   "metadata": {},
   "outputs": [],
   "source": []
  }
 ],
 "metadata": {
  "kernelspec": {
   "display_name": "Python 3 (ipykernel)",
   "language": "python",
   "name": "python3"
  },
  "language_info": {
   "codemirror_mode": {
    "name": "ipython",
    "version": 3
   },
   "file_extension": ".py",
   "mimetype": "text/x-python",
   "name": "python",
   "nbconvert_exporter": "python",
   "pygments_lexer": "ipython3",
   "version": "3.11.5"
  },
  "toc": {
   "base_numbering": 1,
   "nav_menu": {},
   "number_sections": true,
   "sideBar": true,
   "skip_h1_title": false,
   "title_cell": "Table of Contents",
   "title_sidebar": "Contents",
   "toc_cell": false,
   "toc_position": {},
   "toc_section_display": true,
   "toc_window_display": false
  },
  "varInspector": {
   "cols": {
    "lenName": 16,
    "lenType": 16,
    "lenVar": 40
   },
   "kernels_config": {
    "python": {
     "delete_cmd_postfix": "",
     "delete_cmd_prefix": "del ",
     "library": "var_list.py",
     "varRefreshCmd": "print(var_dic_list())"
    },
    "r": {
     "delete_cmd_postfix": ") ",
     "delete_cmd_prefix": "rm(",
     "library": "var_list.r",
     "varRefreshCmd": "cat(var_dic_list()) "
    }
   },
   "types_to_exclude": [
    "module",
    "function",
    "builtin_function_or_method",
    "instance",
    "_Feature"
   ],
   "window_display": false
  }
 },
 "nbformat": 4,
 "nbformat_minor": 5
}
