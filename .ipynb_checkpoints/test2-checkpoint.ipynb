{
 "cells": [
  {
   "cell_type": "code",
   "execution_count": 33,
   "metadata": {},
   "outputs": [],
   "source": [
    "import pandas as pd\n",
    "\n",
    "# 데이터셋 로드\n",
    "data = pd.read_csv('data.csv')"
   ]
  },
  {
   "cell_type": "code",
   "execution_count": 34,
   "metadata": {},
   "outputs": [
    {
     "name": "stdout",
     "output_type": "stream",
     "text": [
      "   상품ID  상품명  카테고리     가격  판매수량        판매날짜\n",
      "0     1  상품1  전자기기  98210    21  2023-01-01\n",
      "1     2  상품2    식품  46253    39  2023-01-02\n",
      "2     3  상품3  전자기기  72432    49  2023-01-03\n",
      "3     4  상품4  전자기기  46147    26  2023-01-04\n",
      "4     5  상품5    패션  96757    20  2023-01-05\n"
     ]
    }
   ],
   "source": [
    "# 1. 데이터셋을 불러와서 처음 5개의 행을 출력하세요.\n",
    "print(data.head())\n"
   ]
  },
  {
   "cell_type": "code",
   "execution_count": 35,
   "metadata": {},
   "outputs": [
    {
     "name": "stdout",
     "output_type": "stream",
     "text": [
      "카테고리\n",
      "패션      23\n",
      "전자기기    22\n",
      "식품      21\n",
      "도서      18\n",
      "생활용품    16\n",
      "Name: count, dtype: int64\n"
     ]
    }
   ],
   "source": [
    "\n",
    "# 2. '카테고리' 별로 몇 개의 상품이 있는지 각각 세어 출력하세요.\n",
    "print(data['카테고리'].value_counts())"
   ]
  },
  {
   "cell_type": "code",
   "execution_count": 36,
   "metadata": {},
   "outputs": [
    {
     "name": "stdout",
     "output_type": "stream",
     "text": [
      "58998.4\n"
     ]
    }
   ],
   "source": [
    "# 3. 모든 상품의 평균 가격을 계산하세요.\n",
    "print(data['가격'].mean())"
   ]
  },
  {
   "cell_type": "code",
   "execution_count": 37,
   "metadata": {},
   "outputs": [
    {
     "name": "stdout",
     "output_type": "stream",
     "text": [
      "    상품ID   상품명  카테고리     가격  판매수량        판매날짜\n",
      "2      3   상품3  전자기기  72432    49  2023-01-03\n",
      "69    70  상품70    패션  62855    48  2023-03-11\n",
      "15    16  상품16    식품  79337    46  2023-01-16\n",
      "47    48  상품48    패션  71499    46  2023-02-17\n",
      "75    76  상품76    식품  29160    46  2023-03-17\n",
      "27    28  상품28    도서  53170    45  2023-01-28\n",
      "92    93  상품93    도서  21589    45  2023-04-03\n",
      "22    23  상품23    도서  17576    44  2023-01-23\n",
      "94    95  상품95  전자기기  16985    44  2023-04-05\n",
      "33    34  상품34    식품  73025    44  2023-02-03\n"
     ]
    }
   ],
   "source": [
    "# 4. '판매수량'이 가장 높은 상위 10개 상품을 출력하세요.\n",
    "print(data.sort_values(by='판매수량', ascending=False).head(10))"
   ]
  },
  {
   "cell_type": "code",
   "execution_count": 38,
   "metadata": {},
   "outputs": [
    {
     "name": "stdout",
     "output_type": "stream",
     "text": [
      "카테고리\n",
      "도서      23.722222\n",
      "생활용품    26.000000\n",
      "식품      27.666667\n",
      "전자기기    22.863636\n",
      "패션      28.347826\n",
      "Name: 판매수량, dtype: float64\n"
     ]
    }
   ],
   "source": [
    "# 5. 각 '카테고리'별 평균 판매수량을 계산하세요.\n",
    "print(data.groupby('카테고리')['판매수량'].mean())"
   ]
  },
  {
   "cell_type": "code",
   "execution_count": 39,
   "metadata": {},
   "outputs": [
    {
     "name": "stdout",
     "output_type": "stream",
     "text": [
      "    상품ID    상품명  카테고리     가격  판매수량        판매날짜\n",
      "0      1    상품1  전자기기  98210    21  2023-01-01\n",
      "1      2    상품2    식품  46253    39  2023-01-02\n",
      "2      3    상품3  전자기기  72432    49  2023-01-03\n",
      "3      4    상품4  전자기기  46147    26  2023-01-04\n",
      "4      5    상품5    패션  96757    20  2023-01-05\n",
      "..   ...    ...   ...    ...   ...         ...\n",
      "95    96   상품96    패션  57557    30  2023-04-06\n",
      "96    97   상품97    식품  90969    20  2023-04-07\n",
      "97    98   상품98    식품  91867    27  2023-04-08\n",
      "98    99   상품99  생활용품  68288    38  2023-04-09\n",
      "99   100  상품100    패션  97389    21  2023-04-10\n",
      "\n",
      "[100 rows x 6 columns]\n"
     ]
    }
   ],
   "source": [
    "# 6. '판매날짜'를 기준으로 데이터를 정렬하세요(오래된 순).\n",
    "data_sorted = data.sort_values(by='판매날짜')\n",
    "print(data_sorted)"
   ]
  },
  {
   "cell_type": "code",
   "execution_count": 40,
   "metadata": {},
   "outputs": [
    {
     "name": "stdout",
     "output_type": "stream",
     "text": [
      "    카테고리    상품명\n",
      "5     도서    상품6\n",
      "48  생활용품   상품49\n",
      "10    식품   상품11\n",
      "0   전자기기    상품1\n",
      "99    패션  상품100\n"
     ]
    }
   ],
   "source": [
    "# 7. 각 '카테고리'별로 최고 가격을 가진 상품의 이름을 출력하세요.\n",
    "idx = data.groupby('카테고리')['가격'].idxmax()\n",
    "print(data.loc[idx, ['카테고리', '상품명']])"
   ]
  },
  {
   "cell_type": "code",
   "execution_count": 41,
   "metadata": {},
   "outputs": [
    {
     "name": "stdout",
     "output_type": "stream",
     "text": [
      "146926750\n"
     ]
    }
   ],
   "source": [
    "# 8. 모든 상품의 총 판매액(가격 * 판매수량)을 계산하세요.\n",
    "print((data['가격'] * data['판매수량']).sum())"
   ]
  },
  {
   "cell_type": "code",
   "execution_count": 48,
   "metadata": {},
   "outputs": [
    {
     "name": "stdout",
     "output_type": "stream",
     "text": [
      "카테고리\n",
      "도서      20836671\n",
      "생활용품    23319311\n",
      "식품      35534412\n",
      "전자기기    29309289\n",
      "패션      37927067\n",
      "Name: 판매액, dtype: int64\n"
     ]
    }
   ],
   "source": [
    "# 9. 각 '카테고리'별 총 판매액을 계산하세요.\n",
    "data['판매액'] = data['가격'] * data['판매수량']\n",
    "print(data.groupby('카테고리')['판매액'].sum())"
   ]
  },
  {
   "cell_type": "code",
   "execution_count": 45,
   "metadata": {},
   "outputs": [
    {
     "name": "stdout",
     "output_type": "stream",
     "text": [
      "카테고리\n",
      "도서      1.157593e+06\n",
      "생활용품    1.457457e+06\n",
      "식품      1.692115e+06\n",
      "전자기기    1.332240e+06\n",
      "패션      1.649003e+06\n",
      "Name: 판매액, dtype: float64\n",
      "식품\n"
     ]
    }
   ],
   "source": [
    "# 10. 각 '카테고리'별 평균 판매액을 계산하고, 평균 판매액이 가장 높은 카테고리를 출력하세요.\n",
    "avg_sales = data.groupby('카테고리')['판매액'].mean()\n",
    "print(avg_sales)\n",
    "print(avg_sales.idxmax())"
   ]
  },
  {
   "cell_type": "code",
   "execution_count": null,
   "metadata": {},
   "outputs": [],
   "source": [
    "# 11. 각 상품별로 '판매액'을 새로운 열로 추가하세요.\n",
    "data['판매액'] = data['가격'] * data['판매수량']\n",
    "data.head()"
   ]
  },
  {
   "cell_type": "code",
   "execution_count": null,
   "metadata": {},
   "outputs": [],
   "source": [
    "# 12. 판매 데이터 중에서 '판매수량' 상위 25%에 해당하는 상품들만 선택하여, 그 상품들의 평균 '가격'을 계산하세요.\n",
    "top_25_percent_sales = data[data['판매수량'] > data['판매수량'].quantile(0.75)]\n",
    "print(top_25_percent_sales['가격'].mean())"
   ]
  },
  {
   "cell_type": "code",
   "execution_count": null,
   "metadata": {},
   "outputs": [],
   "source": [
    "# 13. '판매날짜'를 datetime 타입으로 변환하고, 연도별 총 판매수량을 계산하세요.\n",
    "data['판매날짜'] = pd.to_datetime(data['판매날짜'])\n",
    "print(data.groupby(data['판매날짜'].dt.year)['판매수량'].sum())\n"
   ]
  },
  {
   "cell_type": "code",
   "execution_count": null,
   "metadata": {},
   "outputs": [],
   "source": [
    "\n",
    "# 14. 각 카테고리 내에서 '가격' 상위 10%에 해당하는 상품들의 목록을 출력하세요.\n",
    "top_10_percent_prices = data.groupby('카테고리').apply(lambda x: x[x['가격'] > x['가격'].quantile(0.9)])\n",
    "print(top_10_percent_prices)"
   ]
  },
  {
   "cell_type": "code",
   "execution_count": null,
   "metadata": {},
   "outputs": [],
   "source": [
    "# 15. '판매날짜'를 기준으로 각 달의 총 판매액을 계산하고, 판매액이 가장 높은 달을 출력하세요.\n",
    "data['월'] = data['판매날짜'].dt.month\n",
    "monthly_sales = data.groupby('월')['판매액'].sum()\n",
    "print(monthly_sales)\n",
    "print(monthly_sales.idxmax(), '월')"
   ]
  }
 ],
 "metadata": {
  "anaconda-cloud": {},
  "kernelspec": {
   "display_name": "Python 3 (ipykernel)",
   "language": "python",
   "name": "python3"
  },
  "language_info": {
   "codemirror_mode": {
    "name": "ipython",
    "version": 3
   },
   "file_extension": ".py",
   "mimetype": "text/x-python",
   "name": "python",
   "nbconvert_exporter": "python",
   "pygments_lexer": "ipython3",
   "version": "3.11.5"
  },
  "toc": {
   "base_numbering": 1,
   "nav_menu": {},
   "number_sections": true,
   "sideBar": true,
   "skip_h1_title": false,
   "title_cell": "Table of Contents",
   "title_sidebar": "Contents",
   "toc_cell": false,
   "toc_position": {},
   "toc_section_display": true,
   "toc_window_display": false
  },
  "varInspector": {
   "cols": {
    "lenName": 16,
    "lenType": 16,
    "lenVar": 40
   },
   "kernels_config": {
    "python": {
     "delete_cmd_postfix": "",
     "delete_cmd_prefix": "del ",
     "library": "var_list.py",
     "varRefreshCmd": "print(var_dic_list())"
    },
    "r": {
     "delete_cmd_postfix": ") ",
     "delete_cmd_prefix": "rm(",
     "library": "var_list.r",
     "varRefreshCmd": "cat(var_dic_list()) "
    }
   },
   "types_to_exclude": [
    "module",
    "function",
    "builtin_function_or_method",
    "instance",
    "_Feature"
   ],
   "window_display": false
  }
 },
 "nbformat": 4,
 "nbformat_minor": 4
}
