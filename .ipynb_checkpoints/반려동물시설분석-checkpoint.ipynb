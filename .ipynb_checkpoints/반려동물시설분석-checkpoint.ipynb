{
 "cells": [
  {
   "cell_type": "markdown",
   "id": "d7f531ce",
   "metadata": {},
   "source": [
    "## 필요한 라이브러리 불러오기"
   ]
  },
  {
   "cell_type": "code",
   "execution_count": 74,
   "id": "22c1c8c4",
   "metadata": {},
   "outputs": [],
   "source": [
    "# 데이터 분석을 위해 pandas를, 수치계산을 위해 numpy를, 시각화를위해 mapplotlib,seaborn 를 불러온다\n",
    "import pandas as pd\n",
    "import numpy as np\n",
    "import seaborn as sns\n",
    "import matplotlib.pyplot as plt"
   ]
  },
  {
   "cell_type": "markdown",
   "id": "f831bd43",
   "metadata": {},
   "source": [
    "## 시각화를 위한 한글 폰트 설정하기"
   ]
  },
  {
   "cell_type": "code",
   "execution_count": 75,
   "id": "3e0639a2",
   "metadata": {},
   "outputs": [],
   "source": [
    "# 한글설정 & 마이너스표시\n",
    "plt.rc('font',family='Malgun Gothic') \n",
    "plt.rc('axes',unicode_minus=False)"
   ]
  },
  {
   "cell_type": "markdown",
   "id": "207b8f21",
   "metadata": {},
   "source": [
    "## 데이터 불러오기\n",
    "* 한글 깨짐 방지\n",
    "    * encoding='cp949' or 'utf-8'"
   ]
  },
  {
   "cell_type": "code",
   "execution_count": 76,
   "id": "a6bccd19",
   "metadata": {},
   "outputs": [],
   "source": [
    "df = pd.read_csv('2_data.csv',encoding='cp949')"
   ]
  },
  {
   "cell_type": "markdown",
   "id": "0ee5a143",
   "metadata": {},
   "source": [
    "##  EDA(Exploratory data analysis) 데이터탐색"
   ]
  },
  {
   "cell_type": "code",
   "execution_count": 77,
   "id": "8b325fb8",
   "metadata": {},
   "outputs": [
    {
     "data": {
      "text/plain": [
       "(23929, 31)"
      ]
     },
     "execution_count": 77,
     "metadata": {},
     "output_type": "execute_result"
    }
   ],
   "source": [
    "# 데이터 크기\n",
    "df.shape"
   ]
  },
  {
   "cell_type": "code",
   "execution_count": 78,
   "id": "7cc95cd0",
   "metadata": {},
   "outputs": [],
   "source": [
    "## 모든 열 보이게하기 설정\n",
    "pd.set_option('display.max_columns', None)\n",
    "## 모든 행 보이게하기 설정\n",
    "# pd.set_option('display.max_rows', None)"
   ]
  },
  {
   "cell_type": "code",
   "execution_count": 79,
   "id": "8b53c5dc",
   "metadata": {
    "scrolled": false
   },
   "outputs": [
    {
     "data": {
      "text/html": [
       "<div>\n",
       "<style scoped>\n",
       "    .dataframe tbody tr th:only-of-type {\n",
       "        vertical-align: middle;\n",
       "    }\n",
       "\n",
       "    .dataframe tbody tr th {\n",
       "        vertical-align: top;\n",
       "    }\n",
       "\n",
       "    .dataframe thead th {\n",
       "        text-align: right;\n",
       "    }\n",
       "</style>\n",
       "<table border=\"1\" class=\"dataframe\">\n",
       "  <thead>\n",
       "    <tr style=\"text-align: right;\">\n",
       "      <th></th>\n",
       "      <th>시설명</th>\n",
       "      <th>카테고리1</th>\n",
       "      <th>카테고리2</th>\n",
       "      <th>카테고리3</th>\n",
       "      <th>시도 명칭</th>\n",
       "      <th>시군구 명칭</th>\n",
       "      <th>법정읍면동명칭</th>\n",
       "      <th>리 명칭</th>\n",
       "      <th>번지</th>\n",
       "      <th>도로명 이름</th>\n",
       "      <th>건물 번호</th>\n",
       "      <th>위도</th>\n",
       "      <th>경도</th>\n",
       "      <th>우편번호</th>\n",
       "      <th>도로명주소</th>\n",
       "      <th>지번주소</th>\n",
       "      <th>전화번호</th>\n",
       "      <th>홈페이지</th>\n",
       "      <th>휴무일</th>\n",
       "      <th>운영시간</th>\n",
       "      <th>주차 가능여부</th>\n",
       "      <th>입장(이용료)가격 정보</th>\n",
       "      <th>반려동물 동반 가능정보</th>\n",
       "      <th>반려동물 전용 정보</th>\n",
       "      <th>입장 가능 동물 크기</th>\n",
       "      <th>반려동물 제한사항</th>\n",
       "      <th>장소(실내) 여부</th>\n",
       "      <th>장소(실외)여부</th>\n",
       "      <th>기본 정보_장소설명</th>\n",
       "      <th>애견 동반 추가 요금</th>\n",
       "      <th>최종작성일</th>\n",
       "    </tr>\n",
       "  </thead>\n",
       "  <tbody>\n",
       "    <tr>\n",
       "      <th>23926</th>\n",
       "      <td>YS유통</td>\n",
       "      <td>반려동물업</td>\n",
       "      <td>반려동물 서비스</td>\n",
       "      <td>반려동물용품</td>\n",
       "      <td>경기도</td>\n",
       "      <td>파주시</td>\n",
       "      <td>조리읍</td>\n",
       "      <td>장곡리</td>\n",
       "      <td>73-3 번지</td>\n",
       "      <td>장곡로</td>\n",
       "      <td>120 번</td>\n",
       "      <td>37.751561</td>\n",
       "      <td>126.844647</td>\n",
       "      <td>10940.0</td>\n",
       "      <td>경기도 파주시 조리읍 장곡로 120-35</td>\n",
       "      <td>경기도 파주시 조리읍 장곡리 73-3</td>\n",
       "      <td>031-942-8377</td>\n",
       "      <td>http://www.irina.co.kr/</td>\n",
       "      <td>매주 토, 일</td>\n",
       "      <td>월~금 10:00~17:00</td>\n",
       "      <td>주차가능</td>\n",
       "      <td>없음</td>\n",
       "      <td>동반가능</td>\n",
       "      <td>해당없음</td>\n",
       "      <td>모두 가능</td>\n",
       "      <td>제한사항 없음</td>\n",
       "      <td>실내 동반가능</td>\n",
       "      <td>실외 동반불가</td>\n",
       "      <td>온라인쇼핑몰, 강아지용품, 반려동물 원목가구</td>\n",
       "      <td>없음</td>\n",
       "      <td>2022-11-30</td>\n",
       "    </tr>\n",
       "    <tr>\n",
       "      <th>23927</th>\n",
       "      <td>ZOO동물병원</td>\n",
       "      <td>반려동물업</td>\n",
       "      <td>반려의료</td>\n",
       "      <td>동물병원</td>\n",
       "      <td>서울특별시</td>\n",
       "      <td>성북구</td>\n",
       "      <td>정릉동</td>\n",
       "      <td>NaN</td>\n",
       "      <td>16-162 번지</td>\n",
       "      <td>정릉로</td>\n",
       "      <td>328 번</td>\n",
       "      <td>37.601998</td>\n",
       "      <td>127.019541</td>\n",
       "      <td>2816.0</td>\n",
       "      <td>서울특별시 성북구 정릉로 328</td>\n",
       "      <td>서울특별시 성북구 정릉동 16-162</td>\n",
       "      <td>02-914-5545</td>\n",
       "      <td>정보없음</td>\n",
       "      <td>매주 일요일</td>\n",
       "      <td>월~금 10:00~19:00, 토 10:00~17:00</td>\n",
       "      <td>주차 불가</td>\n",
       "      <td>변동</td>\n",
       "      <td>동반가능</td>\n",
       "      <td>해당없음</td>\n",
       "      <td>모두 가능</td>\n",
       "      <td>제한사항 없음</td>\n",
       "      <td>실내 동반가능</td>\n",
       "      <td>실외 동반불가</td>\n",
       "      <td>일반동물병원</td>\n",
       "      <td>없음</td>\n",
       "      <td>2022-11-30</td>\n",
       "    </tr>\n",
       "    <tr>\n",
       "      <th>23928</th>\n",
       "      <td>ZOO동물병원</td>\n",
       "      <td>반려동물업</td>\n",
       "      <td>반려의료</td>\n",
       "      <td>동물병원</td>\n",
       "      <td>울산광역시</td>\n",
       "      <td>남구</td>\n",
       "      <td>삼산동</td>\n",
       "      <td>NaN</td>\n",
       "      <td>180-33 번지</td>\n",
       "      <td>돋질로</td>\n",
       "      <td>385-1 번</td>\n",
       "      <td>35.543654</td>\n",
       "      <td>129.347126</td>\n",
       "      <td>44710.0</td>\n",
       "      <td>울산광역시 남구 돋질로 385-1</td>\n",
       "      <td>울산광역시 남구 삼산동 180-33</td>\n",
       "      <td>052-903-8275</td>\n",
       "      <td>정보없음</td>\n",
       "      <td>매주 일요일</td>\n",
       "      <td>월~토 09:30~19:00</td>\n",
       "      <td>주차가능</td>\n",
       "      <td>변동</td>\n",
       "      <td>동반가능</td>\n",
       "      <td>해당없음</td>\n",
       "      <td>모두 가능</td>\n",
       "      <td>제한사항 없음</td>\n",
       "      <td>실내 동반가능</td>\n",
       "      <td>실외 동반불가</td>\n",
       "      <td>일반동물병원</td>\n",
       "      <td>없음</td>\n",
       "      <td>2022-11-30</td>\n",
       "    </tr>\n",
       "  </tbody>\n",
       "</table>\n",
       "</div>"
      ],
      "text/plain": [
       "           시설명  카테고리1     카테고리2   카테고리3  시도 명칭 시군구 명칭 법정읍면동명칭 리 명칭         번지  \\\n",
       "23926     YS유통  반려동물업  반려동물 서비스  반려동물용품    경기도    파주시     조리읍  장곡리    73-3 번지   \n",
       "23927  ZOO동물병원  반려동물업      반려의료    동물병원  서울특별시    성북구     정릉동  NaN  16-162 번지   \n",
       "23928  ZOO동물병원  반려동물업      반려의료    동물병원  울산광역시     남구     삼산동  NaN  180-33 번지   \n",
       "\n",
       "      도로명 이름    건물 번호         위도          경도     우편번호                   도로명주소  \\\n",
       "23926    장곡로    120 번  37.751561  126.844647  10940.0  경기도 파주시 조리읍 장곡로 120-35   \n",
       "23927    정릉로    328 번  37.601998  127.019541   2816.0       서울특별시 성북구 정릉로 328   \n",
       "23928    돋질로  385-1 번  35.543654  129.347126  44710.0      울산광역시 남구 돋질로 385-1   \n",
       "\n",
       "                       지번주소          전화번호                     홈페이지      휴무일  \\\n",
       "23926  경기도 파주시 조리읍 장곡리 73-3  031-942-8377  http://www.irina.co.kr/  매주 토, 일   \n",
       "23927  서울특별시 성북구 정릉동 16-162   02-914-5545                     정보없음   매주 일요일   \n",
       "23928   울산광역시 남구 삼산동 180-33  052-903-8275                     정보없음   매주 일요일   \n",
       "\n",
       "                                 운영시간 주차 가능여부 입장(이용료)가격 정보 반려동물 동반 가능정보  \\\n",
       "23926                 월~금 10:00~17:00    주차가능           없음         동반가능   \n",
       "23927  월~금 10:00~19:00, 토 10:00~17:00   주차 불가           변동         동반가능   \n",
       "23928                 월~토 09:30~19:00    주차가능           변동         동반가능   \n",
       "\n",
       "      반려동물 전용 정보 입장 가능 동물 크기 반려동물 제한사항 장소(실내) 여부 장소(실외)여부  \\\n",
       "23926       해당없음       모두 가능   제한사항 없음   실내 동반가능  실외 동반불가   \n",
       "23927       해당없음       모두 가능   제한사항 없음   실내 동반가능  실외 동반불가   \n",
       "23928       해당없음       모두 가능   제한사항 없음   실내 동반가능  실외 동반불가   \n",
       "\n",
       "                     기본 정보_장소설명 애견 동반 추가 요금       최종작성일  \n",
       "23926  온라인쇼핑몰, 강아지용품, 반려동물 원목가구          없음  2022-11-30  \n",
       "23927                    일반동물병원          없음  2022-11-30  \n",
       "23928                    일반동물병원          없음  2022-11-30  "
      ]
     },
     "execution_count": 79,
     "metadata": {},
     "output_type": "execute_result"
    }
   ],
   "source": [
    "# 데이터 미리보기\n",
    "df.head(3)\n",
    "df.tail(3)"
   ]
  },
  {
   "cell_type": "code",
   "execution_count": 80,
   "id": "4891de24",
   "metadata": {
    "scrolled": true
   },
   "outputs": [
    {
     "data": {
      "text/plain": [
       "Index(['시설명', '카테고리1', '카테고리2', '카테고리3', '시도 명칭', '시군구 명칭', '법정읍면동명칭', '리 명칭',\n",
       "       '번지', '도로명 이름', '건물 번호', '위도', '경도', '우편번호', '도로명주소', '지번주소', '전화번호',\n",
       "       '홈페이지', '휴무일', '운영시간', '주차 가능여부', '입장(이용료)가격 정보', '반려동물 동반 가능정보',\n",
       "       '반려동물 전용 정보', '입장 가능 동물 크기', '반려동물 제한사항', '장소(실내) 여부', '장소(실외)여부',\n",
       "       '기본 정보_장소설명', '애견 동반 추가 요금', '최종작성일'],\n",
       "      dtype='object')"
      ]
     },
     "execution_count": 80,
     "metadata": {},
     "output_type": "execute_result"
    }
   ],
   "source": [
    "# 컬럼명 가져오기\n",
    "df.columns"
   ]
  },
  {
   "cell_type": "code",
   "execution_count": 81,
   "id": "a1f7f247",
   "metadata": {},
   "outputs": [
    {
     "data": {
      "text/plain": [
       "RangeIndex(start=0, stop=23929, step=1)"
      ]
     },
     "execution_count": 81,
     "metadata": {},
     "output_type": "execute_result"
    }
   ],
   "source": [
    "# 인덱스 가져오기\n",
    "df.index"
   ]
  },
  {
   "cell_type": "code",
   "execution_count": 82,
   "id": "f168ad0f",
   "metadata": {
    "scrolled": true
   },
   "outputs": [
    {
     "name": "stdout",
     "output_type": "stream",
     "text": [
      "<class 'pandas.core.frame.DataFrame'>\n",
      "RangeIndex: 23929 entries, 0 to 23928\n",
      "Data columns (total 31 columns):\n",
      " #   Column        Non-Null Count  Dtype  \n",
      "---  ------        --------------  -----  \n",
      " 0   시설명           23929 non-null  object \n",
      " 1   카테고리1         23929 non-null  object \n",
      " 2   카테고리2         23929 non-null  object \n",
      " 3   카테고리3         23929 non-null  object \n",
      " 4   시도 명칭         23929 non-null  object \n",
      " 5   시군구 명칭        23784 non-null  object \n",
      " 6   법정읍면동명칭       23885 non-null  object \n",
      " 7   리 명칭          4795 non-null   object \n",
      " 8   번지            23872 non-null  object \n",
      " 9   도로명 이름        23623 non-null  object \n",
      " 10  건물 번호         23623 non-null  object \n",
      " 11  위도            23929 non-null  float64\n",
      " 12  경도            23929 non-null  float64\n",
      " 13  우편번호          23857 non-null  float64\n",
      " 14  도로명주소         23623 non-null  object \n",
      " 15  지번주소          23929 non-null  object \n",
      " 16  전화번호          23929 non-null  object \n",
      " 17  홈페이지          23929 non-null  object \n",
      " 18  휴무일           23929 non-null  object \n",
      " 19  운영시간          23929 non-null  object \n",
      " 20  주차 가능여부       23929 non-null  object \n",
      " 21  입장(이용료)가격 정보  23929 non-null  object \n",
      " 22  반려동물 동반 가능정보  23929 non-null  object \n",
      " 23  반려동물 전용 정보    23929 non-null  object \n",
      " 24  입장 가능 동물 크기   23929 non-null  object \n",
      " 25  반려동물 제한사항     23929 non-null  object \n",
      " 26  장소(실내) 여부     23929 non-null  object \n",
      " 27  장소(실외)여부      23929 non-null  object \n",
      " 28  기본 정보_장소설명    23929 non-null  object \n",
      " 29  애견 동반 추가 요금   23929 non-null  object \n",
      " 30  최종작성일         23929 non-null  object \n",
      "dtypes: float64(3), object(28)\n",
      "memory usage: 5.7+ MB\n"
     ]
    }
   ],
   "source": [
    "# 데이터의 전체적인 정보를 볼 수 있다\n",
    "# 데이터 컬럼명, 사이즈,타입,메모리 사용량, 결측치\n",
    "df.info()"
   ]
  },
  {
   "cell_type": "code",
   "execution_count": 83,
   "id": "99459ab5",
   "metadata": {
    "scrolled": true
   },
   "outputs": [
    {
     "data": {
      "text/html": [
       "<div>\n",
       "<style scoped>\n",
       "    .dataframe tbody tr th:only-of-type {\n",
       "        vertical-align: middle;\n",
       "    }\n",
       "\n",
       "    .dataframe tbody tr th {\n",
       "        vertical-align: top;\n",
       "    }\n",
       "\n",
       "    .dataframe thead th {\n",
       "        text-align: right;\n",
       "    }\n",
       "</style>\n",
       "<table border=\"1\" class=\"dataframe\">\n",
       "  <thead>\n",
       "    <tr style=\"text-align: right;\">\n",
       "      <th></th>\n",
       "      <th>시설명</th>\n",
       "      <th>카테고리1</th>\n",
       "      <th>카테고리2</th>\n",
       "      <th>카테고리3</th>\n",
       "      <th>시도 명칭</th>\n",
       "      <th>시군구 명칭</th>\n",
       "      <th>법정읍면동명칭</th>\n",
       "      <th>리 명칭</th>\n",
       "      <th>번지</th>\n",
       "      <th>도로명 이름</th>\n",
       "      <th>건물 번호</th>\n",
       "      <th>도로명주소</th>\n",
       "      <th>지번주소</th>\n",
       "      <th>전화번호</th>\n",
       "      <th>홈페이지</th>\n",
       "      <th>휴무일</th>\n",
       "      <th>운영시간</th>\n",
       "      <th>주차 가능여부</th>\n",
       "      <th>입장(이용료)가격 정보</th>\n",
       "      <th>반려동물 동반 가능정보</th>\n",
       "      <th>반려동물 전용 정보</th>\n",
       "      <th>입장 가능 동물 크기</th>\n",
       "      <th>반려동물 제한사항</th>\n",
       "      <th>장소(실내) 여부</th>\n",
       "      <th>장소(실외)여부</th>\n",
       "      <th>기본 정보_장소설명</th>\n",
       "      <th>애견 동반 추가 요금</th>\n",
       "      <th>최종작성일</th>\n",
       "    </tr>\n",
       "  </thead>\n",
       "  <tbody>\n",
       "    <tr>\n",
       "      <th>count</th>\n",
       "      <td>23929</td>\n",
       "      <td>23929</td>\n",
       "      <td>23929</td>\n",
       "      <td>23929</td>\n",
       "      <td>23929</td>\n",
       "      <td>23784</td>\n",
       "      <td>23885</td>\n",
       "      <td>4795</td>\n",
       "      <td>23872</td>\n",
       "      <td>23623</td>\n",
       "      <td>23623</td>\n",
       "      <td>23623</td>\n",
       "      <td>23929</td>\n",
       "      <td>23929</td>\n",
       "      <td>23929</td>\n",
       "      <td>23929</td>\n",
       "      <td>23929</td>\n",
       "      <td>23929</td>\n",
       "      <td>23929</td>\n",
       "      <td>23929</td>\n",
       "      <td>23929</td>\n",
       "      <td>23929</td>\n",
       "      <td>23929</td>\n",
       "      <td>23929</td>\n",
       "      <td>23929</td>\n",
       "      <td>23929</td>\n",
       "      <td>23929</td>\n",
       "      <td>23929</td>\n",
       "    </tr>\n",
       "    <tr>\n",
       "      <th>unique</th>\n",
       "      <td>19365</td>\n",
       "      <td>1</td>\n",
       "      <td>5</td>\n",
       "      <td>13</td>\n",
       "      <td>17</td>\n",
       "      <td>227</td>\n",
       "      <td>2480</td>\n",
       "      <td>1665</td>\n",
       "      <td>13998</td>\n",
       "      <td>9465</td>\n",
       "      <td>3503</td>\n",
       "      <td>21829</td>\n",
       "      <td>22079</td>\n",
       "      <td>21873</td>\n",
       "      <td>8338</td>\n",
       "      <td>463</td>\n",
       "      <td>6257</td>\n",
       "      <td>2</td>\n",
       "      <td>187</td>\n",
       "      <td>2</td>\n",
       "      <td>2</td>\n",
       "      <td>100</td>\n",
       "      <td>293</td>\n",
       "      <td>2</td>\n",
       "      <td>2</td>\n",
       "      <td>942</td>\n",
       "      <td>45</td>\n",
       "      <td>1</td>\n",
       "    </tr>\n",
       "    <tr>\n",
       "      <th>top</th>\n",
       "      <td>우리동물병원</td>\n",
       "      <td>반려동물업</td>\n",
       "      <td>반려의료</td>\n",
       "      <td>동물약국</td>\n",
       "      <td>경기도</td>\n",
       "      <td>서구</td>\n",
       "      <td>중동</td>\n",
       "      <td>읍내리</td>\n",
       "      <td>1-1 번지</td>\n",
       "      <td>중앙로</td>\n",
       "      <td>6 번</td>\n",
       "      <td>대구광역시 중구 달구벌대로 지하 2100</td>\n",
       "      <td>대구광역시 중구 덕산동 88</td>\n",
       "      <td>정보없음</td>\n",
       "      <td>정보없음</td>\n",
       "      <td>연중무휴</td>\n",
       "      <td>정보없음</td>\n",
       "      <td>주차가능</td>\n",
       "      <td>변동</td>\n",
       "      <td>동반가능</td>\n",
       "      <td>해당없음</td>\n",
       "      <td>모두 가능</td>\n",
       "      <td>제한사항 없음</td>\n",
       "      <td>실내 동반가능</td>\n",
       "      <td>실외 동반불가</td>\n",
       "      <td>동물약국</td>\n",
       "      <td>없음</td>\n",
       "      <td>2022-11-30</td>\n",
       "    </tr>\n",
       "    <tr>\n",
       "      <th>freq</th>\n",
       "      <td>40</td>\n",
       "      <td>23929</td>\n",
       "      <td>12931</td>\n",
       "      <td>8443</td>\n",
       "      <td>6485</td>\n",
       "      <td>714</td>\n",
       "      <td>186</td>\n",
       "      <td>80</td>\n",
       "      <td>28</td>\n",
       "      <td>375</td>\n",
       "      <td>261</td>\n",
       "      <td>14</td>\n",
       "      <td>14</td>\n",
       "      <td>1511</td>\n",
       "      <td>13340</td>\n",
       "      <td>8286</td>\n",
       "      <td>2036</td>\n",
       "      <td>14607</td>\n",
       "      <td>16685</td>\n",
       "      <td>21139</td>\n",
       "      <td>23653</td>\n",
       "      <td>20198</td>\n",
       "      <td>19398</td>\n",
       "      <td>23052</td>\n",
       "      <td>21510</td>\n",
       "      <td>8445</td>\n",
       "      <td>23502</td>\n",
       "      <td>23929</td>\n",
       "    </tr>\n",
       "  </tbody>\n",
       "</table>\n",
       "</div>"
      ],
      "text/plain": [
       "           시설명  카테고리1  카테고리2  카테고리3  시도 명칭 시군구 명칭 법정읍면동명칭  리 명칭      번지  \\\n",
       "count    23929  23929  23929  23929  23929  23784   23885  4795   23872   \n",
       "unique   19365      1      5     13     17    227    2480  1665   13998   \n",
       "top     우리동물병원  반려동물업   반려의료   동물약국    경기도     서구      중동   읍내리  1-1 번지   \n",
       "freq        40  23929  12931   8443   6485    714     186    80      28   \n",
       "\n",
       "       도로명 이름  건물 번호                   도로명주소             지번주소   전화번호   홈페이지  \\\n",
       "count   23623  23623                   23623            23929  23929  23929   \n",
       "unique   9465   3503                   21829            22079  21873   8338   \n",
       "top       중앙로    6 번  대구광역시 중구 달구벌대로 지하 2100  대구광역시 중구 덕산동 88   정보없음   정보없음   \n",
       "freq      375    261                      14               14   1511  13340   \n",
       "\n",
       "          휴무일   운영시간 주차 가능여부 입장(이용료)가격 정보 반려동물 동반 가능정보 반려동물 전용 정보 입장 가능 동물 크기  \\\n",
       "count   23929  23929   23929        23929        23929      23929       23929   \n",
       "unique    463   6257       2          187            2          2         100   \n",
       "top      연중무휴   정보없음    주차가능           변동         동반가능       해당없음       모두 가능   \n",
       "freq     8286   2036   14607        16685        21139      23653       20198   \n",
       "\n",
       "       반려동물 제한사항 장소(실내) 여부 장소(실외)여부 기본 정보_장소설명 애견 동반 추가 요금       최종작성일  \n",
       "count      23929     23929    23929      23929       23929       23929  \n",
       "unique       293         2        2        942          45           1  \n",
       "top      제한사항 없음   실내 동반가능  실외 동반불가       동물약국          없음  2022-11-30  \n",
       "freq       19398     23052    21510       8445       23502       23929  "
      ]
     },
     "execution_count": 83,
     "metadata": {},
     "output_type": "execute_result"
    }
   ],
   "source": [
    "# 기술통계정보 보기 (디폴트는 수치타입의 컬럼정보만 가져와 분석)\n",
    "# 디폴트 : 수치형 컬럼만\n",
    "df.describe()\n",
    "# 전체\n",
    "df.describe(include='all')       \n",
    "# 수치형 컬럼\n",
    "df.describe(include=[np.number])\n",
    "# object 컬럼\n",
    "df.describe(include=[object])\n"
   ]
  },
  {
   "cell_type": "markdown",
   "id": "91ef2310",
   "metadata": {},
   "source": [
    "### 결측치보기"
   ]
  },
  {
   "cell_type": "code",
   "execution_count": 84,
   "id": "22b7bb20",
   "metadata": {
    "scrolled": true
   },
   "outputs": [
    {
     "data": {
      "text/plain": [
       "시설명                 0\n",
       "카테고리1               0\n",
       "카테고리2               0\n",
       "카테고리3               0\n",
       "시도 명칭               0\n",
       "시군구 명칭            145\n",
       "법정읍면동명칭            44\n",
       "리 명칭            19134\n",
       "번지                 57\n",
       "도로명 이름            306\n",
       "건물 번호             306\n",
       "위도                  0\n",
       "경도                  0\n",
       "우편번호               72\n",
       "도로명주소             306\n",
       "지번주소                0\n",
       "전화번호                0\n",
       "홈페이지                0\n",
       "휴무일                 0\n",
       "운영시간                0\n",
       "주차 가능여부             0\n",
       "입장(이용료)가격 정보        0\n",
       "반려동물 동반 가능정보        0\n",
       "반려동물 전용 정보          0\n",
       "입장 가능 동물 크기         0\n",
       "반려동물 제한사항           0\n",
       "장소(실내) 여부           0\n",
       "장소(실외)여부            0\n",
       "기본 정보_장소설명          0\n",
       "애견 동반 추가 요금         0\n",
       "최종작성일               0\n",
       "dtype: int64"
      ]
     },
     "execution_count": 84,
     "metadata": {},
     "output_type": "execute_result"
    }
   ],
   "source": [
    "## 컬럼별 결측치 확인\n",
    "## 결측치는 전체 데이터에 영향이 없으면 제거하고 필요한 경우는 다른값으로 대체\n",
    "df.isnull().sum()"
   ]
  },
  {
   "cell_type": "code",
   "execution_count": 85,
   "id": "a00834a3",
   "metadata": {
    "scrolled": true
   },
   "outputs": [
    {
     "data": {
      "text/plain": [
       "<Axes: >"
      ]
     },
     "execution_count": 85,
     "metadata": {},
     "output_type": "execute_result"
    },
    {
     "data": {
      "image/png": "[encoded data removed]",
      "text/plain": [
       "<Figure size 800x500 with 1 Axes>"
      ]
     },
     "metadata": {},
     "output_type": "display_data"
    }
   ],
   "source": [
    "df.isnull().sum().plot.barh(figsize=(8,5))"
   ]
  },
  {
   "cell_type": "markdown",
   "id": "2f81923c",
   "metadata": {},
   "source": [
    "### 사용하지 않는 컬럼 제거하기"
   ]
  },
  {
   "cell_type": "code",
   "execution_count": 87,
   "id": "e5011bf9",
   "metadata": {},
   "outputs": [
    {
     "data": {
      "text/plain": [
       "(23929, 9)"
      ]
     },
     "execution_count": 87,
     "metadata": {},
     "output_type": "execute_result"
    }
   ],
   "source": [
    "columns=['시설명','카테고리1', '카테고리2', '카테고리3', '시도 명칭','운영시간','주차 가능여부', '입장(이용료)가격 정보', '반려동물 동반 가능정보',]\n",
    "df = df[columns].copy()\n",
    "df.shape"
   ]
  },
  {
   "cell_type": "markdown",
   "id": "4d78c300",
   "metadata": {},
   "source": [
    "### 범주형 데이터 분포 확인하기"
   ]
  },
  {
   "cell_type": "code",
   "execution_count": 89,
   "id": "33a0e9d2",
   "metadata": {},
   "outputs": [
    {
     "data": {
      "text/plain": [
       "카테고리1\n",
       "반려동물업    23929\n",
       "Name: count, dtype: int64"
      ]
     },
     "execution_count": 89,
     "metadata": {},
     "output_type": "execute_result"
    }
   ],
   "source": [
    "df['카테고리1'].value_counts()"
   ]
  },
  {
   "cell_type": "code",
   "execution_count": 90,
   "id": "433af38c",
   "metadata": {},
   "outputs": [
    {
     "data": {
      "text/plain": [
       "카테고리2\n",
       "반려의료        12931\n",
       "반려동물 서비스     7466\n",
       "반려동반여행       2710\n",
       "반려동물식당카페      821\n",
       "반려문화시설          1\n",
       "Name: count, dtype: int64"
      ]
     },
     "execution_count": 90,
     "metadata": {},
     "output_type": "execute_result"
    }
   ],
   "source": [
    "df['카테고리2'].value_counts()"
   ]
  },
  {
   "cell_type": "code",
   "execution_count": 95,
   "id": "1764fa56",
   "metadata": {},
   "outputs": [
    {
     "data": {
      "text/plain": [
       "<Axes: ylabel='카테고리3'>"
      ]
     },
     "execution_count": 95,
     "metadata": {},
     "output_type": "execute_result"
    },
    {
     "data": {
      "image/png": "[encoded data removed]",
      "text/plain": [
       "<Figure size 800x300 with 1 Axes>"
      ]
     },
     "metadata": {},
     "output_type": "display_data"
    }
   ],
   "source": [
    "df['카테고리3'].value_counts().plot.barh(figsize=(8,3))"
   ]
  },
  {
   "cell_type": "code",
   "execution_count": 96,
   "id": "43c56eb0",
   "metadata": {
    "scrolled": true
   },
   "outputs": [
    {
     "data": {
      "text/plain": [
       "반려동물 동반 가능정보\n",
       "동반가능    21139\n",
       "동반불가     2790\n",
       "Name: count, dtype: int64"
      ]
     },
     "execution_count": 96,
     "metadata": {},
     "output_type": "execute_result"
    }
   ],
   "source": [
    "df['반려동물 동반 가능정보'].value_counts()"
   ]
  },
  {
   "cell_type": "code",
   "execution_count": 98,
   "id": "17f4c318",
   "metadata": {},
   "outputs": [],
   "source": [
    "df= df[df['반려동물 동반 가능정보'] == '동반가능']"
   ]
  },
  {
   "cell_type": "code",
   "execution_count": 104,
   "id": "78f29a2f",
   "metadata": {},
   "outputs": [
    {
     "data": {
      "text/html": [
       "<div>\n",
       "<style scoped>\n",
       "    .dataframe tbody tr th:only-of-type {\n",
       "        vertical-align: middle;\n",
       "    }\n",
       "\n",
       "    .dataframe tbody tr th {\n",
       "        vertical-align: top;\n",
       "    }\n",
       "\n",
       "    .dataframe thead th {\n",
       "        text-align: right;\n",
       "    }\n",
       "</style>\n",
       "<table border=\"1\" class=\"dataframe\">\n",
       "  <thead>\n",
       "    <tr style=\"text-align: right;\">\n",
       "      <th></th>\n",
       "      <th>시설명</th>\n",
       "      <th>카테고리1</th>\n",
       "      <th>카테고리2</th>\n",
       "      <th>카테고리3</th>\n",
       "      <th>시도 명칭</th>\n",
       "      <th>운영시간</th>\n",
       "      <th>주차 가능여부</th>\n",
       "      <th>입장(이용료)가격 정보</th>\n",
       "      <th>반려동물 동반 가능정보</th>\n",
       "    </tr>\n",
       "  </thead>\n",
       "  <tbody>\n",
       "    <tr>\n",
       "      <th>0</th>\n",
       "      <td>1004 약국</td>\n",
       "      <td>반려동물업</td>\n",
       "      <td>반려의료</td>\n",
       "      <td>동물약국</td>\n",
       "      <td>경기도</td>\n",
       "      <td>월~금 09:00~18:00</td>\n",
       "      <td>주차가능</td>\n",
       "      <td>변동</td>\n",
       "      <td>동반가능</td>\n",
       "    </tr>\n",
       "    <tr>\n",
       "      <th>2</th>\n",
       "      <td>100세건강약국</td>\n",
       "      <td>반려동물업</td>\n",
       "      <td>반려의료</td>\n",
       "      <td>동물약국</td>\n",
       "      <td>경기도</td>\n",
       "      <td>월~금 09:00~21:00, 토 09:00~20:00</td>\n",
       "      <td>주차 불가</td>\n",
       "      <td>변동</td>\n",
       "      <td>동반가능</td>\n",
       "    </tr>\n",
       "    <tr>\n",
       "      <th>3</th>\n",
       "      <td>100세약국</td>\n",
       "      <td>반려동물업</td>\n",
       "      <td>반려의료</td>\n",
       "      <td>동물약국</td>\n",
       "      <td>서울특별시</td>\n",
       "      <td>월~금 08:30~21:00, 토 08:30~18:30</td>\n",
       "      <td>주차 불가</td>\n",
       "      <td>변동</td>\n",
       "      <td>동반가능</td>\n",
       "    </tr>\n",
       "    <tr>\n",
       "      <th>4</th>\n",
       "      <td>100세약국</td>\n",
       "      <td>반려동물업</td>\n",
       "      <td>반려의료</td>\n",
       "      <td>동물약국</td>\n",
       "      <td>경기도</td>\n",
       "      <td>월~금 09:00~19:00, 토 09:00~15:00</td>\n",
       "      <td>주차 불가</td>\n",
       "      <td>변동</td>\n",
       "      <td>동반가능</td>\n",
       "    </tr>\n",
       "    <tr>\n",
       "      <th>5</th>\n",
       "      <td>100세약국</td>\n",
       "      <td>반려동물업</td>\n",
       "      <td>반려의료</td>\n",
       "      <td>동물약국</td>\n",
       "      <td>인천광역시</td>\n",
       "      <td>월~금 08:30~22:00</td>\n",
       "      <td>주차 불가</td>\n",
       "      <td>변동</td>\n",
       "      <td>동반가능</td>\n",
       "    </tr>\n",
       "  </tbody>\n",
       "</table>\n",
       "</div>"
      ],
      "text/plain": [
       "        시설명  카테고리1 카테고리2 카테고리3  시도 명칭                            운영시간 주차 가능여부  \\\n",
       "0   1004 약국  반려동물업  반려의료  동물약국    경기도                 월~금 09:00~18:00    주차가능   \n",
       "2  100세건강약국  반려동물업  반려의료  동물약국    경기도  월~금 09:00~21:00, 토 09:00~20:00   주차 불가   \n",
       "3    100세약국  반려동물업  반려의료  동물약국  서울특별시  월~금 08:30~21:00, 토 08:30~18:30   주차 불가   \n",
       "4    100세약국  반려동물업  반려의료  동물약국    경기도  월~금 09:00~19:00, 토 09:00~15:00   주차 불가   \n",
       "5    100세약국  반려동물업  반려의료  동물약국  인천광역시                 월~금 08:30~22:00   주차 불가   \n",
       "\n",
       "  입장(이용료)가격 정보 반려동물 동반 가능정보  \n",
       "0           변동         동반가능  \n",
       "2           변동         동반가능  \n",
       "3           변동         동반가능  \n",
       "4           변동         동반가능  \n",
       "5           변동         동반가능  "
      ]
     },
     "execution_count": 104,
     "metadata": {},
     "output_type": "execute_result"
    }
   ],
   "source": [
    "df.head()"
   ]
  },
  {
   "cell_type": "code",
   "execution_count": 140,
   "id": "6b41c2e7",
   "metadata": {},
   "outputs": [],
   "source": [
    "# 카테고리별 빈도\n",
    "grouped = df.groupby(['카테고리2','카테고리3']).size().reset_index(name='시설갯수')\n"
   ]
  },
  {
   "cell_type": "code",
   "execution_count": 141,
   "id": "addd0303",
   "metadata": {},
   "outputs": [
    {
     "data": {
      "text/html": [
       "<div>\n",
       "<style scoped>\n",
       "    .dataframe tbody tr th:only-of-type {\n",
       "        vertical-align: middle;\n",
       "    }\n",
       "\n",
       "    .dataframe tbody tr th {\n",
       "        vertical-align: top;\n",
       "    }\n",
       "\n",
       "    .dataframe thead th {\n",
       "        text-align: right;\n",
       "    }\n",
       "</style>\n",
       "<table border=\"1\" class=\"dataframe\">\n",
       "  <thead>\n",
       "    <tr style=\"text-align: right;\">\n",
       "      <th></th>\n",
       "      <th>카테고리2</th>\n",
       "      <th>카테고리3</th>\n",
       "      <th>시설갯수</th>\n",
       "    </tr>\n",
       "  </thead>\n",
       "  <tbody>\n",
       "    <tr>\n",
       "      <th>0</th>\n",
       "      <td>반려동물 서비스</td>\n",
       "      <td>미용</td>\n",
       "      <td>2004</td>\n",
       "    </tr>\n",
       "    <tr>\n",
       "      <th>1</th>\n",
       "      <td>반려동물 서비스</td>\n",
       "      <td>반려동물용품</td>\n",
       "      <td>3821</td>\n",
       "    </tr>\n",
       "    <tr>\n",
       "      <th>2</th>\n",
       "      <td>반려동물 서비스</td>\n",
       "      <td>위탁관리</td>\n",
       "      <td>61</td>\n",
       "    </tr>\n",
       "    <tr>\n",
       "      <th>3</th>\n",
       "      <td>반려동물식당카페</td>\n",
       "      <td>식당</td>\n",
       "      <td>14</td>\n",
       "    </tr>\n",
       "    <tr>\n",
       "      <th>4</th>\n",
       "      <td>반려동물식당카페</td>\n",
       "      <td>카페</td>\n",
       "      <td>793</td>\n",
       "    </tr>\n",
       "    <tr>\n",
       "      <th>5</th>\n",
       "      <td>반려동반여행</td>\n",
       "      <td>문예회관</td>\n",
       "      <td>4</td>\n",
       "    </tr>\n",
       "    <tr>\n",
       "      <th>6</th>\n",
       "      <td>반려동반여행</td>\n",
       "      <td>미술관</td>\n",
       "      <td>19</td>\n",
       "    </tr>\n",
       "    <tr>\n",
       "      <th>7</th>\n",
       "      <td>반려동반여행</td>\n",
       "      <td>박물관</td>\n",
       "      <td>215</td>\n",
       "    </tr>\n",
       "    <tr>\n",
       "      <th>8</th>\n",
       "      <td>반려동반여행</td>\n",
       "      <td>여행지</td>\n",
       "      <td>872</td>\n",
       "    </tr>\n",
       "    <tr>\n",
       "      <th>9</th>\n",
       "      <td>반려동반여행</td>\n",
       "      <td>카페</td>\n",
       "      <td>2</td>\n",
       "    </tr>\n",
       "    <tr>\n",
       "      <th>10</th>\n",
       "      <td>반려동반여행</td>\n",
       "      <td>펜션</td>\n",
       "      <td>407</td>\n",
       "    </tr>\n",
       "    <tr>\n",
       "      <th>11</th>\n",
       "      <td>반려동반여행</td>\n",
       "      <td>호텔</td>\n",
       "      <td>1</td>\n",
       "    </tr>\n",
       "    <tr>\n",
       "      <th>12</th>\n",
       "      <td>반려의료</td>\n",
       "      <td>동물병원</td>\n",
       "      <td>4486</td>\n",
       "    </tr>\n",
       "    <tr>\n",
       "      <th>13</th>\n",
       "      <td>반려의료</td>\n",
       "      <td>동물약국</td>\n",
       "      <td>8440</td>\n",
       "    </tr>\n",
       "  </tbody>\n",
       "</table>\n",
       "</div>"
      ],
      "text/plain": [
       "       카테고리2   카테고리3  시설갯수\n",
       "0   반려동물 서비스      미용  2004\n",
       "1   반려동물 서비스  반려동물용품  3821\n",
       "2   반려동물 서비스    위탁관리    61\n",
       "3   반려동물식당카페      식당    14\n",
       "4   반려동물식당카페      카페   793\n",
       "5     반려동반여행    문예회관     4\n",
       "6     반려동반여행     미술관    19\n",
       "7     반려동반여행     박물관   215\n",
       "8     반려동반여행     여행지   872\n",
       "9     반려동반여행      카페     2\n",
       "10    반려동반여행      펜션   407\n",
       "11    반려동반여행      호텔     1\n",
       "12      반려의료    동물병원  4486\n",
       "13      반려의료    동물약국  8440"
      ]
     },
     "execution_count": 141,
     "metadata": {},
     "output_type": "execute_result"
    }
   ],
   "source": [
    "grouped"
   ]
  },
  {
   "cell_type": "code",
   "execution_count": 142,
   "id": "0279e98c",
   "metadata": {},
   "outputs": [
    {
     "data": {
      "text/html": [
       "<div>\n",
       "<style scoped>\n",
       "    .dataframe tbody tr th:only-of-type {\n",
       "        vertical-align: middle;\n",
       "    }\n",
       "\n",
       "    .dataframe tbody tr th {\n",
       "        vertical-align: top;\n",
       "    }\n",
       "\n",
       "    .dataframe thead th {\n",
       "        text-align: right;\n",
       "    }\n",
       "</style>\n",
       "<table border=\"1\" class=\"dataframe\">\n",
       "  <thead>\n",
       "    <tr style=\"text-align: right;\">\n",
       "      <th></th>\n",
       "      <th>카테고리2</th>\n",
       "      <th>카테고리3</th>\n",
       "      <th>시설갯수</th>\n",
       "      <th>카테고리</th>\n",
       "    </tr>\n",
       "  </thead>\n",
       "  <tbody>\n",
       "    <tr>\n",
       "      <th>0</th>\n",
       "      <td>반려동물 서비스</td>\n",
       "      <td>미용</td>\n",
       "      <td>2004</td>\n",
       "      <td>반려동물 서비스-미용</td>\n",
       "    </tr>\n",
       "    <tr>\n",
       "      <th>1</th>\n",
       "      <td>반려동물 서비스</td>\n",
       "      <td>반려동물용품</td>\n",
       "      <td>3821</td>\n",
       "      <td>반려동물 서비스-반려동물용품</td>\n",
       "    </tr>\n",
       "    <tr>\n",
       "      <th>2</th>\n",
       "      <td>반려동물 서비스</td>\n",
       "      <td>위탁관리</td>\n",
       "      <td>61</td>\n",
       "      <td>반려동물 서비스-위탁관리</td>\n",
       "    </tr>\n",
       "    <tr>\n",
       "      <th>3</th>\n",
       "      <td>반려동물식당카페</td>\n",
       "      <td>식당</td>\n",
       "      <td>14</td>\n",
       "      <td>반려동물식당카페-식당</td>\n",
       "    </tr>\n",
       "    <tr>\n",
       "      <th>4</th>\n",
       "      <td>반려동물식당카페</td>\n",
       "      <td>카페</td>\n",
       "      <td>793</td>\n",
       "      <td>반려동물식당카페-카페</td>\n",
       "    </tr>\n",
       "    <tr>\n",
       "      <th>5</th>\n",
       "      <td>반려동반여행</td>\n",
       "      <td>문예회관</td>\n",
       "      <td>4</td>\n",
       "      <td>반려동반여행-문예회관</td>\n",
       "    </tr>\n",
       "    <tr>\n",
       "      <th>6</th>\n",
       "      <td>반려동반여행</td>\n",
       "      <td>미술관</td>\n",
       "      <td>19</td>\n",
       "      <td>반려동반여행-미술관</td>\n",
       "    </tr>\n",
       "    <tr>\n",
       "      <th>7</th>\n",
       "      <td>반려동반여행</td>\n",
       "      <td>박물관</td>\n",
       "      <td>215</td>\n",
       "      <td>반려동반여행-박물관</td>\n",
       "    </tr>\n",
       "    <tr>\n",
       "      <th>8</th>\n",
       "      <td>반려동반여행</td>\n",
       "      <td>여행지</td>\n",
       "      <td>872</td>\n",
       "      <td>반려동반여행-여행지</td>\n",
       "    </tr>\n",
       "    <tr>\n",
       "      <th>9</th>\n",
       "      <td>반려동반여행</td>\n",
       "      <td>카페</td>\n",
       "      <td>2</td>\n",
       "      <td>반려동반여행-카페</td>\n",
       "    </tr>\n",
       "    <tr>\n",
       "      <th>10</th>\n",
       "      <td>반려동반여행</td>\n",
       "      <td>펜션</td>\n",
       "      <td>407</td>\n",
       "      <td>반려동반여행-펜션</td>\n",
       "    </tr>\n",
       "    <tr>\n",
       "      <th>11</th>\n",
       "      <td>반려동반여행</td>\n",
       "      <td>호텔</td>\n",
       "      <td>1</td>\n",
       "      <td>반려동반여행-호텔</td>\n",
       "    </tr>\n",
       "    <tr>\n",
       "      <th>12</th>\n",
       "      <td>반려의료</td>\n",
       "      <td>동물병원</td>\n",
       "      <td>4486</td>\n",
       "      <td>반려의료-동물병원</td>\n",
       "    </tr>\n",
       "    <tr>\n",
       "      <th>13</th>\n",
       "      <td>반려의료</td>\n",
       "      <td>동물약국</td>\n",
       "      <td>8440</td>\n",
       "      <td>반려의료-동물약국</td>\n",
       "    </tr>\n",
       "  </tbody>\n",
       "</table>\n",
       "</div>"
      ],
      "text/plain": [
       "       카테고리2   카테고리3  시설갯수             카테고리\n",
       "0   반려동물 서비스      미용  2004      반려동물 서비스-미용\n",
       "1   반려동물 서비스  반려동물용품  3821  반려동물 서비스-반려동물용품\n",
       "2   반려동물 서비스    위탁관리    61    반려동물 서비스-위탁관리\n",
       "3   반려동물식당카페      식당    14      반려동물식당카페-식당\n",
       "4   반려동물식당카페      카페   793      반려동물식당카페-카페\n",
       "5     반려동반여행    문예회관     4      반려동반여행-문예회관\n",
       "6     반려동반여행     미술관    19       반려동반여행-미술관\n",
       "7     반려동반여행     박물관   215       반려동반여행-박물관\n",
       "8     반려동반여행     여행지   872       반려동반여행-여행지\n",
       "9     반려동반여행      카페     2        반려동반여행-카페\n",
       "10    반려동반여행      펜션   407        반려동반여행-펜션\n",
       "11    반려동반여행      호텔     1        반려동반여행-호텔\n",
       "12      반려의료    동물병원  4486        반려의료-동물병원\n",
       "13      반려의료    동물약국  8440        반려의료-동물약국"
      ]
     },
     "execution_count": 142,
     "metadata": {},
     "output_type": "execute_result"
    }
   ],
   "source": [
    "grouped['카테고리'] = grouped['카테고리2'] + '-' +  grouped['카테고리3']\n",
    "grouped"
   ]
  },
  {
   "cell_type": "code",
   "execution_count": 145,
   "id": "bb38d667",
   "metadata": {},
   "outputs": [
    {
     "data": {
      "image/png": "[encoded data removed]",
      "text/plain": [
       "<Figure size 1000x300 with 1 Axes>"
      ]
     },
     "metadata": {},
     "output_type": "display_data"
    }
   ],
   "source": [
    "# 막대그래프 표현\n",
    "plt.figure(figsize=(10,3))\n",
    "bars = plt.bar(grouped['카테고리'],grouped['시설갯수'])\n",
    "\n",
    "# 빈도수표시\n",
    "for bar in bars:\n",
    "    yval = bar.get_height()\n",
    "    plt.text(bar.get_x() + bar.get_width()/2, yval + 0.5, yval, ha='center', va='bottom')\n",
    "    \n",
    "# # 평균선 추가\n",
    "# mean_value = grouped['빈도'].mean()\n",
    "# plt.axhline(y=mean_value, color='r', linestyle='--', label=f'평균 : {mean_value:.2f}')\n",
    "\n",
    "plt.xlabel('카테고리 조합')\n",
    "plt.ylabel('시설갯수')\n",
    "plt.title('카테고리별 반려동물동반 가능한 시설갯수')\n",
    "plt.xticks(rotation=45)\n",
    "plt.show()\n",
    "\n"
   ]
  },
  {
   "cell_type": "code",
   "execution_count": null,
   "id": "267056a4",
   "metadata": {},
   "outputs": [],
   "source": []
  }
 ],
 "metadata": {
  "kernelspec": {
   "display_name": "Python 3 (ipykernel)",
   "language": "python",
   "name": "python3"
  },
  "language_info": {
   "codemirror_mode": {
    "name": "ipython",
    "version": 3
   },
   "file_extension": ".py",
   "mimetype": "text/x-python",
   "name": "python",
   "nbconvert_exporter": "python",
   "pygments_lexer": "ipython3",
   "version": "3.11.5"
  },
  "toc": {
   "base_numbering": 1,
   "nav_menu": {},
   "number_sections": true,
   "sideBar": true,
   "skip_h1_title": false,
   "title_cell": "Table of Contents",
   "title_sidebar": "Contents",
   "toc_cell": false,
   "toc_position": {
    "height": "calc(100% - 180px)",
    "left": "10px",
    "top": "150px",
    "width": "165px"
   },
   "toc_section_display": true,
   "toc_window_display": true
  },
  "varInspector": {
   "cols": {
    "lenName": 16,
    "lenType": 16,
    "lenVar": 40
   },
   "kernels_config": {
    "python": {
     "delete_cmd_postfix": "",
     "delete_cmd_prefix": "del ",
     "library": "var_list.py",
     "varRefreshCmd": "print(var_dic_list())"
    },
    "r": {
     "delete_cmd_postfix": ") ",
     "delete_cmd_prefix": "rm(",
     "library": "var_list.r",
     "varRefreshCmd": "cat(var_dic_list()) "
    }
   },
   "types_to_exclude": [
    "module",
    "function",
    "builtin_function_or_method",
    "instance",
    "_Feature"
   ],
   "window_display": false
  }
 },
 "nbformat": 4,
 "nbformat_minor": 5
}
